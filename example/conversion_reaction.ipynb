{
 "cells": [
  {
   "cell_type": "code",
   "execution_count": null,
   "metadata": {},
   "outputs": [],
   "source": [
    "import amici\n",
    "import pesto"
   ]
  },
  {
   "cell_type": "markdown",
   "metadata": {},
   "source": [
    "## AMICI model"
   ]
  },
  {
   "cell_type": "code",
   "execution_count": null,
   "metadata": {
    "scrolled": true
   },
   "outputs": [],
   "source": [
    "import libsbml\n",
    "import importlib\n",
    "import os\n",
    "import sys\n",
    "import numpy as np\n",
    "\n",
    "# sbml file we want to import\n",
    "sbml_file = 'model_conversion_reaction.sbml'\n",
    "# name of the model that will also be the name of the python module\n",
    "model_name = 'model_conversion_reaction'\n",
    "# directory to which the generated model code is written\n",
    "model_output_dir = model_name\n",
    "\n",
    "# import sbml model, complile and generate amici module\n",
    "sbml_importer = amici.SbmlImporter(sbml_file)\n",
    "sbml_importer.sbml2amici(model_name,\n",
    "                         model_output_dir,\n",
    "                         verbose=False)\n",
    "\n",
    "# load amici module (the usual starting point later for the analysis)\n",
    "model = model_module.getModel()\n",
    "solver = model.getSolver()\n",
    "solver.setSensitivityMethod(amici.AMICI_SENSI_FSA)\n",
    "solver.setSensitivityOrder(amici.AMICI_SENSI_ORDER_FIRST)\n",
    "edata = amici.ExpData(model.get()) # usually from file\n",
    "\n",
    "# how to run amici now:\n",
    "# rdata = amici.runAmiciSimulation(model, solver, edata)"
   ]
  },
  {
   "cell_type": "markdown",
   "metadata": {},
   "source": [
    "## Optimization"
   ]
  },
  {
   "cell_type": "code",
   "execution_count": null,
   "metadata": {},
   "outputs": [],
   "source": [
    "# create objective function from amici model\n",
    "# pesto.AmiciObjective is derived from pesto.Objective, \n",
    "# the general pesto objective function class\n",
    "objective = pesto.AmiciObjective(model, solver, edata, sensi_order=1)\n",
    "\n",
    "# create optimizer object which contains all information for doing the optimization\n",
    "optimizer = pesto.Optimizer()\n",
    "optimizer.solver = 'bfgs|meigo'\n",
    "# if select meigo -> also set default values in solver_options\n",
    "optimizer.solver_options = {} # = pesto.default_options_meigo()\n",
    "optimizer.startpoints = []\n",
    "optimizer.startpoint_method = 'lhs|uniform|something|function'\n",
    "optimizer.n_starts = 100\n",
    "# see PestoOptions.m for more required options here\n",
    "# returns OptimizationResult, see parameters.MS for what to return\n",
    "# list of final optim results foreach multistart, times, hess, grad, \n",
    "# flags, meta information (which optimizer -> optimizer.get_repr())\n",
    "\n",
    "# create problem object containing all information on the problem to be solved\n",
    "problem = pesto.Problem(objective, parNames=None, parsToBeOptimized, lb, ub, **kwargs)\n",
    "# maybe lb, ub = inf\n",
    "# other constraints: kwargs, class pesto.Constraints\n",
    "# constraints on pams, states, esp. pesto.AmiciConstraints (e.g. pam1 + pam2<= const)\n",
    "# if optimizer cannot handle -> error\n",
    "# maybe also scaling / transformation of parameters encoded here\n",
    "\n",
    "# do the optimization\n",
    "result = pesto.optimize(problem, optimizer, result=None)\n",
    "# optimize is a function since it does not need an internal memory,\n",
    "# just takes input and returns output in the form of a Result object\n",
    "# 'result' parameter: e.g. some results from somewhere -> pick best start points"
   ]
  },
  {
   "cell_type": "markdown",
   "metadata": {},
   "source": [
    "## Visualize"
   ]
  },
  {
   "cell_type": "code",
   "execution_count": null,
   "metadata": {},
   "outputs": [],
   "source": [
    "# waterfall, parameter space, scatter plots, fits to data\n",
    "# different functions for different plotting types\n",
    "pesto.plot_waterfall(problem, result)"
   ]
  },
  {
   "cell_type": "markdown",
   "metadata": {},
   "source": [
    "## Data storage"
   ]
  },
  {
   "cell_type": "code",
   "execution_count": null,
   "metadata": {},
   "outputs": [],
   "source": [
    "# during optimizer run, save in sql database, maybe only after each local optimization\n",
    "# (-> unique result indep. of optimizer)\n",
    "# esp. for own noodles optimizers-> not only textual output but also database\n",
    "# result in db when finished"
   ]
  },
  {
   "cell_type": "markdown",
   "metadata": {},
   "source": [
    "## Profiles"
   ]
  },
  {
   "cell_type": "code",
   "execution_count": null,
   "metadata": {},
   "outputs": [],
   "source": [
    "# there are three main parts: optimize, profile, sample. the overall structure of profiles and sampling\n",
    "# will be similar to optimizer like above.\n",
    "# we intend to only have just one result object which can be reused everywhere, but the problem of how to \n",
    "# not have one huge class but\n",
    "# maybe simplified views on it for optimization, profiles and sampling is still to be solved\n",
    "\n",
    "profiler = pesto.Profiler()\n",
    "\n",
    "result = pesto.profile(problem, profiler, result=None)\n",
    "# possibly pass result object from optimization to get good parameter guesses"
   ]
  },
  {
   "cell_type": "markdown",
   "metadata": {},
   "source": [
    "## Sampling"
   ]
  },
  {
   "cell_type": "code",
   "execution_count": null,
   "metadata": {},
   "outputs": [],
   "source": [
    "sampler = pesto.Sampler()\n",
    "\n",
    "result = pesto.sample(problem, sampler, result=None)"
   ]
  },
  {
   "cell_type": "code",
   "execution_count": null,
   "metadata": {},
   "outputs": [],
   "source": [
    "# open: how to parallelize. the idea is to use methods similar to those in pyabc for working on clusters.\n",
    "# one way would be to specify an additional 'engine' object passed to optimize(), profile(), sample(),\n",
    "# which in the default setting just does a for loop, but can also be customized."
   ]
  }
 ],
 "metadata": {
  "kernelspec": {
   "display_name": "Python 3",
   "language": "python",
   "name": "python3"
  },
  "language_info": {
   "codemirror_mode": {
    "name": "ipython",
    "version": 3
   },
   "file_extension": ".py",
   "mimetype": "text/x-python",
   "name": "python",
   "nbconvert_exporter": "python",
   "pygments_lexer": "ipython3",
   "version": "3.6.5"
  }
 },
 "nbformat": 4,
 "nbformat_minor": 2
}
