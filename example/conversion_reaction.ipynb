{
 "cells": [
  {
   "cell_type": "code",
   "execution_count": 1,
   "metadata": {},
   "outputs": [],
   "source": [
    "import amici\n",
    "import amici.plotting\n",
    "import pesto"
   ]
  },
  {
   "cell_type": "markdown",
   "metadata": {},
   "source": [
    "## AMICI model"
   ]
  },
  {
   "cell_type": "code",
   "execution_count": 26,
   "metadata": {
    "scrolled": true,
    "collapsed": false
   },
   "outputs": [
    {
     "name": "stdout",
     "output_type": "stream",
     "text": [
      "{'ptr': <amici.amici.ExpData; proxy of <Swig Object of type 'std::unique_ptr< amici::ExpData >::pointer' at 0x122ed65a0> >, 'my': array([[ 1.05049371, -0.04077548],\n       [ 0.81579596,  0.34565004],\n       [ 1.07014655,  0.17475266],\n       [ 0.66765117,  0.23241507],\n       [ 0.57906533,  0.05980543],\n       [ 0.65696485,  0.27146606],\n       [ 0.65735443,  0.22704497],\n       [ 0.76467159,  0.31613525],\n       [ 0.67326   ,  0.15653353],\n       [ 0.68266218,  0.26639863],\n       [ 0.70913544,  0.47181205]]), 'sigmay': array([[0.1, 0.1],\n       [0.1, 0.1],\n       [0.1, 0.1],\n       [0.1, 0.1],\n       [0.1, 0.1],\n       [0.1, 0.1],\n       [0.1, 0.1],\n       [0.1, 0.1],\n       [0.1, 0.1],\n       [0.1, 0.1],\n       [0.1, 0.1]]), 'mz': None, 'sigmaz': None}\n"
     ]
    },
    {
     "data": {
      "image/png": "[encoded data removed]",
      "text/plain": [
       "<Figure size 432x288 with 1 Axes>"
      ]
     },
     "metadata": {},
     "output_type": "display_data"
    }
   ],
   "source": [
    "import libsbml\n",
    "import importlib\n",
    "import os\n",
    "import sys\n",
    "import numpy as np\n",
    "\n",
    "# sbml file we want to import\n",
    "sbml_file = 'example/model_conversion_reaction.xml'\n",
    "# name of the model that will also be the name of the python module\n",
    "model_name = 'model_conversion_reaction'\n",
    "# directory to which the generated model code is written\n",
    "model_output_dir = 'example/' + model_name\n",
    "\n",
    "# import sbml model, complile and generate amici module\n",
    "#sbml_importer = amici.SbmlImporter(sbml_file)\n",
    "#sbml_importer.sbml2amici(model_name,\n",
    "#                         model_output_dir,\n",
    "#                         verbose=False)\n",
    "\n",
    "# load amici module (the usual starting point later for the analysis)\n",
    "sys.path.insert(0, os.path.abspath(model_output_dir))\n",
    "model_module = importlib.import_module(model_name)\n",
    "model = model_module.getModel()\n",
    "model.requireSensitivitiesForAllParameters()\n",
    "model.setTimepoints(amici.DoubleVector(np.linspace(0, 10, 11)))\n",
    "model.setParameterScale(amici.AMICI_SCALING_LOG10)\n",
    "model.setParameters(amici.DoubleVector([-0.3,-0.7]))\n",
    "solver = model.getSolver()\n",
    "solver.setSensitivityMethod(amici.AMICI_SENSI_FSA)\n",
    "solver.setSensitivityOrder(amici.AMICI_SENSI_ORDER_FIRST)\n",
    "\n",
    "# how to run amici now:\n",
    "rdata = amici.runAmiciSimulation(model, solver, None)\n",
    "amici.plotting.plotStateTrajectories(rdata)\n",
    "edata = amici.ExpData(rdata['ptr'].get(), 0.1, 0.0)\n",
    "print(amici.edataToNumPyArrays(edata))"
   ]
  },
  {
   "cell_type": "markdown",
   "metadata": {},
   "source": [
    "## Optimization"
   ]
  },
  {
   "cell_type": "code",
   "execution_count": null,
   "metadata": {},
   "outputs": [
    {
     "name": "stdout",
     "output_type": "stream",
     "text": [
      "reloading: /Users/ffroehlich/Documents/GitHub/pyPESTO/pesto/objective.py from <module 'pesto' from '/Users/ffroehlich/Documents/GitHub/pyPESTO/pesto/__init__.py'>\nreloading: /Users/ffroehlich/Documents/GitHub/pyPESTO/pesto/problem.py from <module 'pesto' from '/Users/ffroehlich/Documents/GitHub/pyPESTO/pesto/__init__.py'>\nreloading: /Users/ffroehlich/Documents/GitHub/pyPESTO/pesto/result.py from <module 'pesto' from '/Users/ffroehlich/Documents/GitHub/pyPESTO/pesto/__init__.py'>\nreloading: /Users/ffroehlich/Documents/GitHub/pyPESTO/pesto/version.py from <module 'pesto' from '/Users/ffroehlich/Documents/GitHub/pyPESTO/pesto/__init__.py'>\nreloading: /Users/ffroehlich/Documents/GitHub/pyPESTO/pesto/optimize/__init__.py from <module 'pesto' from '/Users/ffroehlich/Documents/GitHub/pyPESTO/pesto/__init__.py'>\nreloading: /Users/ffroehlich/Documents/GitHub/pyPESTO/pesto/optimize/optimizer.py from <module 'pesto.optimize' from '/Users/ffroehlich/Documents/GitHub/pyPESTO/pesto/optimize/__init__.py'>\nreloading: /Users/ffroehlich/Documents/GitHub/pyPESTO/pesto/optimize/optimize.py from <module 'pesto.optimize' from '/Users/ffroehlich/Documents/GitHub/pyPESTO/pesto/optimize/__init__.py'>\nreloading: /Users/ffroehlich/Documents/GitHub/pyPESTO/pesto/profile/__init__.py from <module 'pesto' from '/Users/ffroehlich/Documents/GitHub/pyPESTO/pesto/__init__.py'>\nreloading: /Users/ffroehlich/Documents/GitHub/pyPESTO/pesto/sample/__init__.py from <module 'pesto' from '/Users/ffroehlich/Documents/GitHub/pyPESTO/pesto/__init__.py'>\nreloading: /Users/ffroehlich/Documents/GitHub/pyPESTO/pesto/visualize/__init__.py from <module 'pesto' from '/Users/ffroehlich/Documents/GitHub/pyPESTO/pesto/__init__.py'>\ninf\n"
     ]
    },
    {
     "name": "stderr",
     "output_type": "stream",
     "text": [
      "/Users/ffroehlich/Documents/GitHub/pyPESTO/venv/lib/python3.6/site-packages/scipy/optimize/_minimize.py:518: RuntimeWarning: Method BFGS cannot handle constraints nor bounds.\n  RuntimeWarning)\n"
     ]
    },
    {
     "name": "stderr",
     "output_type": "stream",
     "text": [
      "/Users/ffroehlich/Documents/GitHub/pyPESTO/venv/lib/python3.6/site-packages/scipy/optimize/_minimize.py:518: RuntimeWarning: Method BFGS cannot handle constraints nor bounds.\n  RuntimeWarning)\n"
     ]
    },
    {
     "name": "stderr",
     "output_type": "stream",
     "text": [
      "/Users/ffroehlich/Documents/GitHub/pyPESTO/venv/lib/python3.6/site-packages/scipy/optimize/_minimize.py:518: RuntimeWarning: Method BFGS cannot handle constraints nor bounds.\n  RuntimeWarning)\n"
     ]
    },
    {
     "name": "stderr",
     "output_type": "stream",
     "text": [
      "/Users/ffroehlich/Documents/GitHub/pyPESTO/venv/lib/python3.6/site-packages/scipy/optimize/_minimize.py:518: RuntimeWarning: Method BFGS cannot handle constraints nor bounds.\n  RuntimeWarning)\n/Users/ffroehlich/Documents/GitHub/pyPESTO/venv/lib/python3.6/site-packages/scipy/optimize/_minimize.py:518: RuntimeWarning: Method BFGS cannot handle constraints nor bounds.\n  RuntimeWarning)\n/Users/ffroehlich/Documents/GitHub/pyPESTO/venv/lib/python3.6/site-packages/scipy/optimize/_minimize.py:518: RuntimeWarning: Method BFGS cannot handle constraints nor bounds.\n  RuntimeWarning)\n"
     ]
    },
    {
     "name": "stderr",
     "output_type": "stream",
     "text": [
      "/Users/ffroehlich/Documents/GitHub/pyPESTO/venv/lib/python3.6/site-packages/scipy/optimize/_minimize.py:518: RuntimeWarning: Method BFGS cannot handle constraints nor bounds.\n  RuntimeWarning)\n"
     ]
    },
    {
     "name": "stderr",
     "output_type": "stream",
     "text": [
      "/Users/ffroehlich/Documents/GitHub/pyPESTO/venv/lib/python3.6/site-packages/scipy/optimize/_minimize.py:518: RuntimeWarning: Method BFGS cannot handle constraints nor bounds.\n  RuntimeWarning)\n"
     ]
    },
    {
     "name": "stderr",
     "output_type": "stream",
     "text": [
      "/Users/ffroehlich/Documents/GitHub/pyPESTO/venv/lib/python3.6/site-packages/scipy/optimize/_minimize.py:518: RuntimeWarning: Method BFGS cannot handle constraints nor bounds.\n  RuntimeWarning)\n/Users/ffroehlich/Documents/GitHub/pyPESTO/venv/lib/python3.6/site-packages/scipy/optimize/_minimize.py:518: RuntimeWarning: Method BFGS cannot handle constraints nor bounds.\n  RuntimeWarning)\n"
     ]
    },
    {
     "name": "stdout",
     "output_type": "stream",
     "text": [
      "[      fun: -16.930276716260323\n hess_inv: array([[8.64330371e-05, 1.92924616e-04],\n       [1.92924616e-04, 4.30817880e-04]])\n      jac: array([ 6.77781654e-07, -5.49862133e-07])\n  message: 'Desired error not necessarily achieved due to precision loss.'\n     nfev: 112\n      nit: 16\n     njev: 100\n   status: 2\n  success: False\n        x: array([-0.43199952, -0.79737079]),       fun: -16.930276716260284\n hess_inv: array([[0.05773139, 0.05128364],\n       [0.05128364, 0.04555602]])\n      jac: array([-4.11934976e-08, -3.28943131e-08])\n  message: 'Desired error not necessarily achieved due to precision loss.'\n     nfev: 129\n      nit: 12\n     njev: 117\n   status: 2\n  success: False\n        x: array([-0.43199953, -0.7973708 ]),       fun: -16.93027671626032\n hess_inv: array([[0.0001799 , 0.00014534],\n       [0.00014534, 0.00011741]])\n      jac: array([-1.58817278e-06,  2.27847144e-06])\n  message: 'Desired error not necessarily achieved due to precision loss.'\n     nfev: 96\n      nit: 15\n     njev: 84\n   status: 2\n  success: False\n        x: array([-0.43199953, -0.79737078]),       fun: -16.01846598250621\n hess_inv: array([[0.51314136, 0.50851743],\n       [0.50851743, 0.50641281]])\n      jac: array([-2.09777347e-05, -6.30298692e-05])\n  message: 'Desired error not necessarily achieved due to precision loss.'\n     nfev: 33\n      nit: 4\n     njev: 25\n   status: 2\n  success: False\n        x: array([0.89364054, 0.44448252]),       fun: -16.93027671626018\n hess_inv: array([[0.10586136, 0.05621385],\n       [0.05621385, 0.03501171]])\n      jac: array([ 7.73101352e-07, -8.36275530e-07])\n  message: 'Desired error not necessarily achieved due to precision loss.'\n     nfev: 23\n      nit: 10\n     njev: 22\n   status: 2\n  success: False\n        x: array([-0.43199951, -0.79737078]),       fun: -16.018469247052543\n hess_inv: array([[8427.02587837, 8427.01810342],\n       [8427.01810342, 8427.01173821]])\n      jac: array([ 0.00049805, -0.00049888])\n  message: 'Desired error not necessarily achieved due to precision loss.'\n     nfev: 84\n      nit: 19\n     njev: 68\n   status: 2\n  success: False\n        x: array([1.05911994, 0.60995934]),       fun: -16.930276716260405\n hess_inv: array([[0.01442008, 0.00904681],\n       [0.00904681, 0.00567578]])\n      jac: array([ 6.56941415e-07, -9.95094839e-07])\n  message: 'Desired error not necessarily achieved due to precision loss.'\n     nfev: 94\n      nit: 11\n     njev: 82\n   status: 2\n  success: False\n        x: array([-0.4319995 , -0.79737077]),       fun: -16.930276716260277\n hess_inv: array([[0.04574599, 0.04130018],\n       [0.04130018, 0.03755582]])\n      jac: array([ 4.29084306e-07, -2.88168657e-07])\n  message: 'Desired error not necessarily achieved due to precision loss.'\n     nfev: 80\n      nit: 19\n     njev: 68\n   status: 2\n  success: False\n        x: array([-0.43199951, -0.79737078]),       fun: -16.93027671626037\n hess_inv: array([[0.07774084, 0.05770531],\n       [0.05770531, 0.04287153]])\n      jac: array([ 1.52757042e-06, -1.82008097e-06])\n  message: 'Desired error not necessarily achieved due to precision loss.'\n     nfev: 239\n      nit: 16\n     njev: 216\n   status: 2\n  success: False\n        x: array([-0.43199952, -0.79737079]),       fun: -16.018469284077838\n hess_inv: array([[27515.22486386, 27519.15498376],\n       [27519.15497789, 27523.08660807]])\n      jac: array([-4.97032476e-05,  4.96615445e-05])\n  message: 'Desired error not necessarily achieved due to precision loss.'\n     nfev: 88\n      nit: 29\n     njev: 77\n   status: 2\n  success: False\n        x: array([1.1432595 , 0.69410027])]\n"
     ]
    }
   ],
   "source": [
    "import os\n",
    "import types\n",
    "import importlib\n",
    "import pesto\n",
    "import pesto.optimize.optimizer\n",
    "import pesto.optimize.optimize\n",
    "\n",
    "def reload_package(package):\n",
    "    assert(hasattr(package, \"__package__\"))\n",
    "    fn = package.__file__\n",
    "    fn_dir = os.path.dirname(fn) + os.sep\n",
    "    module_visit = {fn}\n",
    "    del fn\n",
    "\n",
    "    def reload_recursive_ex(module):\n",
    "        importlib.reload(module)\n",
    "\n",
    "        for module_child in vars(module).values():\n",
    "            if isinstance(module_child, types.ModuleType):\n",
    "                fn_child = getattr(module_child, \"__file__\", None)\n",
    "                if (fn_child is not None) and fn_child.startswith(fn_dir):\n",
    "                    if fn_child not in module_visit:\n",
    "                        print(\"reloading:\", fn_child, \"from\", module)\n",
    "                        module_visit.add(fn_child)\n",
    "                        reload_recursive_ex(module_child)\n",
    "\n",
    "    return reload_recursive_ex(package)\n",
    "\n",
    "reload_package(pesto)\n",
    "\n",
    "# create objective function from amici model\n",
    "# pesto.AmiciObjective is derived from pesto.Objective, \n",
    "# the general pesto objective function class\n",
    "objective = pesto.objective.AmiciObjective(model, solver, [edata], 1)\n",
    "\n",
    "# create optimizer object which contains all information for doing the optimization\n",
    "optimizer = pesto.optimize.optimizer.Optimizer(solver='scipy_BFGS')\n",
    "#optimizer.solver = 'bfgs|meigo'\n",
    "# if select meigo -> also set default values in solver_options\n",
    "#optimizer.options = {'maxiter': 1000, 'disp': True} # = pesto.default_options_meigo()\n",
    "#optimizer.startpoints = []\n",
    "#optimizer.startpoint_method = 'lhs|uniform|something|function'\n",
    "#optimizer.n_starts = 100\n",
    "\n",
    "# see PestoOptions.m for more required options here\n",
    "# returns OptimizationResult, see parameters.MS for what to return\n",
    "# list of final optim results foreach multistart, times, hess, grad, \n",
    "# flags, meta information (which optimizer -> optimizer.get_repr())\n",
    "\n",
    "# create problem object containing all information on the problem to be solved\n",
    "problem = pesto.problem.Problem(objective, model)\n",
    "problem.generate_starting_points(10)\n",
    "\n",
    "# maybe lb, ub = inf\n",
    "# other constraints: kwargs, class pesto.Constraints\n",
    "# constraints on pams, states, esp. pesto.AmiciConstraints (e.g. pam1 + pam2<= const)\n",
    "# if optimizer cannot handle -> error\n",
    "# maybe also scaling / transformation of parameters encoded here\n",
    "\n",
    "# do the optimization\n",
    "result = pesto.optimize.optimize.optimize(problem, optimizer, result=None)\n",
    "print(result)\n",
    "# optimize is a function since it does not need an internal memory,\n",
    "# just takes input and returns output in the form of a Result object\n",
    "# 'result' parameter: e.g. some results from somewhere -> pick best start points"
   ]
  },
  {
   "cell_type": "markdown",
   "metadata": {},
   "source": [
    "## Visualize"
   ]
  },
  {
   "cell_type": "code",
   "execution_count": 11,
   "metadata": {},
   "outputs": [
    {
     "ename": "AttributeError",
     "evalue": "module 'pesto' has no attribute 'plot_waterfall'",
     "traceback": [
      "\u001b[0;31m---------------------------------------------------------------------------\u001b[0m",
      "\u001b[0;31mAttributeError\u001b[0m                            Traceback (most recent call last)",
      "\u001b[0;32m<ipython-input-11-6142ba51489a>\u001b[0m in \u001b[0;36m<module>\u001b[0;34m()\u001b[0m\n\u001b[1;32m      1\u001b[0m \u001b[0;31m# waterfall, parameter space, scatter plots, fits to data\u001b[0m\u001b[0;34m\u001b[0m\u001b[0;34m\u001b[0m\u001b[0m\n\u001b[1;32m      2\u001b[0m \u001b[0;31m# different functions for different plotting types\u001b[0m\u001b[0;34m\u001b[0m\u001b[0;34m\u001b[0m\u001b[0m\n\u001b[0;32m----> 3\u001b[0;31m \u001b[0mpesto\u001b[0m\u001b[0;34m.\u001b[0m\u001b[0mplot_waterfall\u001b[0m\u001b[0;34m(\u001b[0m\u001b[0mproblem\u001b[0m\u001b[0;34m,\u001b[0m \u001b[0mresult\u001b[0m\u001b[0;34m)\u001b[0m\u001b[0;34m\u001b[0m\u001b[0m\n\u001b[0m",
      "\u001b[0;31mAttributeError\u001b[0m: module 'pesto' has no attribute 'plot_waterfall'"
     ],
     "output_type": "error"
    }
   ],
   "source": [
    "# waterfall, parameter space, scatter plots, fits to data\n",
    "# different functions for different plotting types\n",
    "pesto.plot_waterfall(problem, result)"
   ]
  },
  {
   "cell_type": "markdown",
   "metadata": {},
   "source": [
    "## Data storage"
   ]
  },
  {
   "cell_type": "code",
   "execution_count": 12,
   "metadata": {},
   "outputs": [],
   "source": [
    "# during optimizer run, save in sql database, maybe only after each local optimization\n",
    "# (-> unique result indep. of optimizer)\n",
    "# esp. for own noodles optimizers-> not only textual output but also database\n",
    "# result in db when finished"
   ]
  },
  {
   "cell_type": "markdown",
   "metadata": {},
   "source": [
    "## Profiles"
   ]
  },
  {
   "cell_type": "code",
   "execution_count": null,
   "metadata": {},
   "outputs": [],
   "source": [
    "# there are three main parts: optimize, profile, sample. the overall structure of profiles and sampling\n",
    "# will be similar to optimizer like above.\n",
    "# we intend to only have just one result object which can be reused everywhere, but the problem of how to \n",
    "# not have one huge class but\n",
    "# maybe simplified views on it for optimization, profiles and sampling is still to be solved\n",
    "\n",
    "profiler = pesto.Profiler()\n",
    "\n",
    "result = pesto.profile(problem, profiler, result=None)\n",
    "# possibly pass result object from optimization to get good parameter guesses"
   ]
  },
  {
   "cell_type": "markdown",
   "metadata": {},
   "source": [
    "## Sampling"
   ]
  },
  {
   "cell_type": "code",
   "execution_count": null,
   "metadata": {},
   "outputs": [],
   "source": [
    "sampler = pesto.Sampler()\n",
    "\n",
    "result = pesto.sample(problem, sampler, result=None)"
   ]
  },
  {
   "cell_type": "code",
   "execution_count": null,
   "metadata": {},
   "outputs": [],
   "source": [
    "# open: how to parallelize. the idea is to use methods similar to those in pyabc for working on clusters.\n",
    "# one way would be to specify an additional 'engine' object passed to optimize(), profile(), sample(),\n",
    "# which in the default setting just does a for loop, but can also be customized."
   ]
  }
 ],
 "metadata": {
  "kernelspec": {
   "display_name": "Python 3",
   "language": "python",
   "name": "python3"
  },
  "language_info": {
   "codemirror_mode": {
    "name": "ipython",
    "version": 3
   },
   "file_extension": ".py",
   "mimetype": "text/x-python",
   "name": "python",
   "nbconvert_exporter": "python",
   "pygments_lexer": "ipython3",
   "version": "3.6.5"
  }
 },
 "nbformat": 4,
 "nbformat_minor": 2
}
