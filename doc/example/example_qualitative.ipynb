{
 "cells": [
  {
   "cell_type": "markdown",
   "metadata": {},
   "source": [
    "# Parameter estimation using qualitative data"
   ]
  },
  {
   "cell_type": "markdown",
   "metadata": {},
   "source": [
    "This Notebook eplains the use of qualitative data for parameter estimation, as described in [Schmiester et al. (2020)](https://link.springer.com/article/10.1007/s00285-020-01522-w) and [Schmiester et al. (2021)](https://www.biorxiv.org/content/10.1101/2021.02.06.430039v1.abstract)."
   ]
  },
  {
   "cell_type": "markdown",
   "metadata": {},
   "source": [
    "## Specification of qualitative data in the PEtab format"
   ]
  },
  {
   "cell_type": "markdown",
   "metadata": {},
   "source": [
    "The qualitative data can be specified as a non-standard extension to [PEtab](https://journals.plos.org/ploscompbiol/article?rev=2&id=10.1371/journal.pcbi.1008646). Categories can be defined as observable Parameters. Datapoints can be collected into categories by assigning the same `observableParameters` in the measurement file.  pyPESTO recognizes these parameters as optimal scaling categories via the `parameterType`, `parameterGroup` and `parameterCategory` columns in the parameters file. `parameterType=qualitative_scaling` identifies the parameter as an optimal scaling parameter. The `parameterGroup` is an integer, specifying if these parameters are comparable or from different qualitative datasets, where no qualitative relation is known between them (e.g. different observables). `parameterCategory` is also an integer, which defines the category index in ascending order, i.e. `category 1 < category 2 < ...`. Both are indexed starting with 1. An example how this looks like in detail is provided in the `example_qualitative` folder."
   ]
  },
  {
   "cell_type": "markdown",
   "metadata": {},
   "source": [
    "## Import model and create pyPESTO objective"
   ]
  },
  {
   "cell_type": "code",
   "execution_count": 1,
   "metadata": {},
   "outputs": [],
   "source": [
    "import pypesto\n",
    "import pypesto.petab\n",
    "import pypesto.optimize as optimize\n",
    "\n",
    "import amici\n",
    "import petab\n",
    "import numpy as np\n",
    "from pypesto.hierarchical.optimal_scaling_solver import OptimalScalingInnerSolver\n",
    "import pypesto.logging\n",
    "import logging"
   ]
  },
  {
   "cell_type": "code",
   "execution_count": 2,
   "metadata": {
    "scrolled": true
   },
   "outputs": [],
   "source": [
    "petab_folder = './example_qualitative/'\n",
    "yaml_file = 'example_qualitative.yaml'\n",
    "\n",
    "petab_problem = petab.Problem.from_yaml(petab_folder + yaml_file)\n",
    "\n",
    "importer = pypesto.petab.PetabImporter(petab_problem)\n",
    "\n",
    "model = importer.create_model()"
   ]
  },
  {
   "cell_type": "code",
   "execution_count": 3,
   "metadata": {},
   "outputs": [],
   "source": [
    "# To enable the optimal scaling approach for qualitative data, set qualitative=True, when creating the objective\n",
    "\n",
    "objective = importer.create_objective(qualitative=True)\n",
    "problem = importer.create_problem(objective)\n",
    "\n",
    "engine = pypesto.engine.SingleCoreEngine()"
   ]
  },
  {
   "cell_type": "markdown",
   "metadata": {},
   "source": [
    "## Evaluation of the objective function"
   ]
  },
  {
   "cell_type": "markdown",
   "metadata": {},
   "source": [
    "After creating the pyPESTO optimal scaling objective function, it can be called with a parameter vector as input. It will output either the objective function value or additionally the gradient, if it is required."
   ]
  },
  {
   "cell_type": "code",
   "execution_count": 4,
   "metadata": {},
   "outputs": [
    {
     "name": "stdout",
     "output_type": "stream",
     "text": [
      "Objective function value: 0.010643646572165256\n",
      "Objective function and gradient: (0.010643646546700499, array([ 0.        ,  0.        ,  0.02205115, -0.0266729 ,  0.        ,\n",
      "        0.        ,  0.        ,  0.        ,  0.        ,  0.        ,\n",
      "        0.        ,  0.        ,  0.        ,  0.        ,  0.        ,\n",
      "        0.        ]))\n"
     ]
    }
   ],
   "source": [
    "# Evaluation of the objective function without gradients\n",
    "print(f'Objective function value: {objective(petab_problem.x_nominal_scaled)}')\n",
    "\n",
    "# The sensi_orders input can be used to specify, that also gradients need to be computed\n",
    "print(f'Objective function and gradient: {objective(petab_problem.x_nominal_scaled, sensi_orders=(0,1))}')"
   ]
  },
  {
   "cell_type": "markdown",
   "metadata": {},
   "source": [
    "## Run optimization using the optimal scaling approach"
   ]
  },
  {
   "cell_type": "markdown",
   "metadata": {},
   "source": [
    "We test parameter estimation using the Scipy optimizer Powell (gradient-free) and L-BFGS-B (gradient-based). In this example we use multi-start optimization with 10 starts."
   ]
  },
  {
   "cell_type": "code",
   "execution_count": 5,
   "metadata": {},
   "outputs": [],
   "source": [
    "# create a pyPESTO optimizer using the gradient-free Powell algorithm\n",
    "optimizer_gf = optimize.ScipyOptimizer(method='powell',\n",
    "                                   options={'disp': True, 'maxiter': 500, 'maxfev': 500, 'fatol': 1e-10})\n",
    "\n",
    "# create a pyPESTO optimizer using the gradient-based L-BFGS-B algorithm\n",
    "optimizer_gb = optimize.ScipyOptimizer(method='L-BFGS-B',\n",
    "                                   options={'disp': True, 'maxiter': 500, 'maxfev': 500, 'fatol': 1e-10})\n",
    "\n",
    "n_starts = 10"
   ]
  },
  {
   "cell_type": "markdown",
   "metadata": {},
   "source": [
    "The optimal scaling problem can be solved in different ways, which can be chosen in the pyPESTO problem. The options are:\n",
    "- method: `standard` / `reduced`\n",
    "- reparameterized: `True` / `False`\n",
    "- intervalConstraints: `max` / `max-min`\n",
    "- minGap: Any float value\n",
    "\n",
    "It is recommended to use the reduced method with reparameterization and `max` interval constraints as it is the most efficient and robust choice, which we will also use here.\n",
    "\n",
    "When no options are provided, the default is the reduced and reparameterized formulation with max as interval constraint and `minGap=1e-10`."
   ]
  },
  {
   "cell_type": "markdown",
   "metadata": {},
   "source": [
    "### Run optimization with the gradient-free optimizer"
   ]
  },
  {
   "cell_type": "code",
   "execution_count": 6,
   "metadata": {
    "scrolled": true
   },
   "outputs": [
    {
     "name": "stderr",
     "output_type": "stream",
     "text": [
      "Parameters obtained from history and optimizer do not match: [5.00005182 3.14566114], [4.99999781 3.14603271]\n"
     ]
    },
    {
     "name": "stdout",
     "output_type": "stream",
     "text": [
      "Optimization terminated successfully.\n",
      "         Current function value: 0.000574\n",
      "         Iterations: 5\n",
      "         Function evaluations: 335\n"
     ]
    },
    {
     "name": "stderr",
     "output_type": "stream",
     "text": [
      "Parameters obtained from history and optimizer do not match: [5.00004893 3.145678  ], [4.99999744 3.14605987]\n"
     ]
    },
    {
     "name": "stdout",
     "output_type": "stream",
     "text": [
      "Optimization terminated successfully.\n",
      "         Current function value: 0.000574\n",
      "         Iterations: 4\n",
      "         Function evaluations: 280\n"
     ]
    },
    {
     "name": "stderr",
     "output_type": "stream",
     "text": [
      "Function values from history and optimizer do not match: 0.0005701229465999325, 0.0005735458311820385\n",
      "Parameters obtained from history and optimizer do not match: [7.05826711 5.19631126], [4.99999588 3.14658678]\n"
     ]
    },
    {
     "name": "stdout",
     "output_type": "stream",
     "text": [
      "Warning: Maximum number of function evaluations has been exceeded.\n"
     ]
    },
    {
     "name": "stderr",
     "output_type": "stream",
     "text": [
      "Function values from history and optimizer do not match: 0.0005734502742866867, 0.0005735454283402829\n",
      "Parameters obtained from history and optimizer do not match: [5.01071651 3.15673617], [4.99999842 3.14607726]\n"
     ]
    },
    {
     "name": "stdout",
     "output_type": "stream",
     "text": [
      "Warning: Maximum number of function evaluations has been exceeded.\n"
     ]
    },
    {
     "name": "stderr",
     "output_type": "stream",
     "text": [
      "Function values from history and optimizer do not match: 0.0005721100685642098, 0.0005768024396834041\n",
      "Parameters obtained from history and optimizer do not match: [5.49628018 3.61200031], [4.99999817 3.09417051]\n"
     ]
    },
    {
     "name": "stdout",
     "output_type": "stream",
     "text": [
      "Warning: Maximum number of function evaluations has been exceeded.\n"
     ]
    },
    {
     "name": "stderr",
     "output_type": "stream",
     "text": [
      "Function values from history and optimizer do not match: 0.0005700624461226941, 0.0005735454842456251\n",
      "Parameters obtained from history and optimizer do not match: [6.74895622 4.8996141 ], [4.99999414 3.14604896]\n"
     ]
    },
    {
     "name": "stdout",
     "output_type": "stream",
     "text": [
      "Optimization terminated successfully.\n",
      "         Current function value: 0.000574\n",
      "         Iterations: 6\n",
      "         Function evaluations: 420\n"
     ]
    },
    {
     "name": "stderr",
     "output_type": "stream",
     "text": [
      "Function values from history and optimizer do not match: 0.0005700517531387574, 0.0005735454504735426\n",
      "Parameters obtained from history and optimizer do not match: [6.57487115 4.72183443], [4.99999903 3.14612455]\n"
     ]
    },
    {
     "name": "stdout",
     "output_type": "stream",
     "text": [
      "Optimization terminated successfully.\n",
      "         Current function value: 0.000574\n",
      "         Iterations: 7\n",
      "         Function evaluations: 453\n"
     ]
    },
    {
     "name": "stderr",
     "output_type": "stream",
     "text": [
      "Parameters obtained from history and optimizer do not match: [5.00004954 3.14558369], [4.99999373 3.1460074 ]\n"
     ]
    },
    {
     "name": "stdout",
     "output_type": "stream",
     "text": [
      "Optimization terminated successfully.\n",
      "         Current function value: 0.000574\n",
      "         Iterations: 4\n",
      "         Function evaluations: 335\n"
     ]
    },
    {
     "name": "stderr",
     "output_type": "stream",
     "text": [
      "Parameters obtained from history and optimizer do not match: [5.00004705 3.14566581], [4.9999937  3.14603507]\n"
     ]
    },
    {
     "name": "stdout",
     "output_type": "stream",
     "text": [
      "Optimization terminated successfully.\n",
      "         Current function value: 0.000574\n",
      "         Iterations: 5\n",
      "         Function evaluations: 338\n"
     ]
    },
    {
     "name": "stderr",
     "output_type": "stream",
     "text": [
      "Function values from history and optimizer do not match: 0.0005735055013969665, 0.0005772033035415648\n",
      "Parameters obtained from history and optimizer do not match: [5.43252657 3.53472179], [4.99999873 3.09101057]\n"
     ]
    },
    {
     "name": "stdout",
     "output_type": "stream",
     "text": [
      "Warning: Maximum number of function evaluations has been exceeded.\n"
     ]
    }
   ],
   "source": [
    "# Set the options for solving the optimal scaling problem\n",
    "problem.objective.calculator.inner_solver = OptimalScalingInnerSolver(options={'method': 'reduced',\n",
    "                                                                               'reparameterized': True,\n",
    "                                                                               'intervalConstraints': 'max',\n",
    "                                                                               'minGap': 1e-10})\n",
    "# Run optimization with the gradient-free optimizer\n",
    "res_gf = optimize.minimize(problem, n_starts=n_starts, optimizer=optimizer_gf, engine=engine)"
   ]
  },
  {
   "cell_type": "markdown",
   "metadata": {},
   "source": [
    "### Run optimization with the gradient-based optimizer"
   ]
  },
  {
   "cell_type": "code",
   "execution_count": 7,
   "metadata": {},
   "outputs": [],
   "source": [
    "res_gb = optimize.minimize(problem, n_starts=n_starts, optimizer=optimizer_gb, engine=engine)"
   ]
  },
  {
   "cell_type": "markdown",
   "metadata": {},
   "source": [
    "### Compare results"
   ]
  },
  {
   "cell_type": "markdown",
   "metadata": {},
   "source": [
    "Gradient-based optimization leads to improved computation times"
   ]
  },
  {
   "cell_type": "code",
   "execution_count": 9,
   "metadata": {},
   "outputs": [
    {
     "name": "stdout",
     "output_type": "stream",
     "text": [
      "Mean computation time for gradient-free optimizer: 8.280100584030151\n",
      "Mean computation time for gradient-based optimizer: 3.698576045036316\n"
     ]
    }
   ],
   "source": [
    "time_gf = res_gf.optimize_result.get_for_key('time')\n",
    "print(f\"Mean computation time for gradient-free optimizer: {np.mean(time_gf)}\")\n",
    "\n",
    "time_gb = res_gb.optimize_result.get_for_key('time')\n",
    "print(f\"Mean computation time for gradient-based optimizer: {np.mean(time_gb)}\")\n"
   ]
  },
  {
   "cell_type": "markdown",
   "metadata": {},
   "source": [
    "Both optimizers yield the same final objective function values"
   ]
  },
  {
   "cell_type": "code",
   "execution_count": 10,
   "metadata": {},
   "outputs": [
    {
     "data": {
      "text/plain": [
       "<matplotlib.axes._subplots.AxesSubplot at 0x7f5056f27dc0>"
      ]
     },
     "execution_count": 10,
     "metadata": {},
     "output_type": "execute_result"
    },
    {
     "data": {
      "image/png": "[encoded data removed]",
      "text/plain": [
       "<Figure size 1332x756 with 1 Axes>"
      ]
     },
     "metadata": {
      "needs_background": "light"
     },
     "output_type": "display_data"
    }
   ],
   "source": [
    "from pypesto.visualize import waterfall\n",
    "\n",
    "waterfall([res_gf, res_gb])"
   ]
  },
  {
   "cell_type": "code",
   "execution_count": null,
   "metadata": {},
   "outputs": [],
   "source": []
  }
 ],
 "metadata": {
  "kernelspec": {
   "display_name": "qualitative_gradients",
   "language": "python",
   "name": "qualitative_gradients"
  },
  "language_info": {
   "codemirror_mode": {
    "name": "ipython",
    "version": 3
   },
   "file_extension": ".py",
   "mimetype": "text/x-python",
   "name": "python",
   "nbconvert_exporter": "python",
   "pygments_lexer": "ipython3",
   "version": "3.8.3"
  }
 },
 "nbformat": 4,
 "nbformat_minor": 2
}
