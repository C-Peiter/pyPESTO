{
 "cells": [
  {
   "cell_type": "markdown",
   "metadata": {},
   "source": [
    "# Parameter estimation using qualitative data"
   ]
  },
  {
   "cell_type": "markdown",
   "metadata": {},
   "source": [
    "This Notebook eplains the use of qualitative data for parameter estimation, as described in [Schmiester et al. (2019)](https://www.biorxiv.org/content/10.1101/848648v1.abstract). An example model is provided in `example_qualitative`"
   ]
  },
  {
   "cell_type": "markdown",
   "metadata": {},
   "source": [
    "## Import model and create pyPESTO objective"
   ]
  },
  {
   "cell_type": "code",
   "execution_count": 3,
   "metadata": {},
   "outputs": [],
   "source": [
    "import pypesto\n",
    "import pypesto.petab\n",
    "import pypesto.optimize as optimize\n",
    "\n",
    "import amici\n",
    "import petab\n",
    "import numpy as np\n",
    "from pypesto.hierarchical.optimal_scaling_solver import OptimalScalingInnerSolver\n",
    "import pypesto.logging\n",
    "import logging"
   ]
  },
  {
   "cell_type": "code",
   "execution_count": 4,
   "metadata": {},
   "outputs": [
    {
     "name": "stderr",
     "output_type": "stream",
     "text": [
      "2020-07-01 12:16:54.154 - amici.petab_import - INFO - Importing model ...\n",
      "2020-07-01 12:16:54.161 - amici.petab_import - INFO - Model name is 'Raf_Mitra_NatCom2018OptimalScaling_3CatQual'. Writing model code to '/home/leonard/Documents/projects/pypesto_qualitative/pyPESTO/doc/example/amici_models/Raf_Mitra_NatCom2018OptimalScaling_3CatQual'.\n",
      "2020-07-01 12:16:54.163 - amici.petab_import - INFO - Species: 6\n",
      "2020-07-01 12:16:54.164 - amici.petab_import - INFO - Global parameters: 14\n",
      "2020-07-01 12:16:54.165 - amici.petab_import - INFO - Reactions: 6\n",
      "2020-07-01 12:16:54.317 - amici.petab_import - INFO - Observables: 2\n",
      "2020-07-01 12:16:54.318 - amici.petab_import - INFO - Sigmas: 2\n",
      "2020-07-01 12:16:54.330 - amici.petab_import - DEBUG - Adding output parameters to model: OrderedDict([('noiseParameter1_Activity', None), ('noiseParameter1_Ybar', None)])\n",
      "2020-07-01 12:16:54.336 - amici.petab_import - DEBUG - Condition table: (9, 3)\n",
      "2020-07-01 12:16:54.340 - amici.petab_import - DEBUG - Fixed parameters are ['Rtot', 'init_I']\n",
      "2020-07-01 12:16:54.341 - amici.petab_import - INFO - Overall fixed parameters: 2\n",
      "2020-07-01 12:16:54.343 - amici.petab_import - INFO - Variable parameters: 20\n",
      "2020-07-01 12:16:54.353 - amici.sbml_import - INFO - Finished processing SBML parameters            (1.84E-03s)\n",
      "2020-07-01 12:16:54.360 - amici.sbml_import - INFO - Finished processing SBML species               (4.75E-03s)\n",
      "2020-07-01 12:16:54.423 - amici.sbml_import - INFO - Finished processing SBML reactions             (6.04E-02s)\n",
      "2020-07-01 12:16:54.428 - amici.sbml_import - INFO - Finished processing SBML compartments          (3.52E-03s)\n",
      "2020-07-01 12:16:54.585 - amici.sbml_import - INFO - Finished processing SBML rules                 (1.53E-01s)\n",
      "2020-07-01 12:16:54.691 - amici.sbml_import - INFO - Finished processing SBML observables           (6.53E-02s)\n",
      "2020-07-01 12:16:54.835 - amici.ode_export - INFO - Finished writing J.cpp                          (1.38E-01s)\n",
      "2020-07-01 12:16:54.874 - amici.ode_export - INFO - Finished writing JB.cpp                         (3.83E-02s)\n",
      "2020-07-01 12:16:54.886 - amici.ode_export - INFO - Finished writing JDiag.cpp                      (1.06E-02s)\n",
      "2020-07-01 12:16:54.929 - amici.ode_export - INFO - Finished writing JSparse.cpp                    (4.22E-02s)\n",
      "2020-07-01 12:16:54.978 - amici.ode_export - INFO - Finished writing JSparseB.cpp                   (4.74E-02s)\n",
      "2020-07-01 12:16:55.006 - amici.ode_export - INFO - Finished writing Jy.cpp                         (1.87E-02s)\n",
      "2020-07-01 12:16:55.130 - amici.ode_export - INFO - Finished writing dJydsigmay.cpp                 (1.20E-01s)\n",
      "2020-07-01 12:16:55.181 - amici.ode_export - INFO - Finished writing dJydy.cpp                      (4.94E-02s)\n",
      "2020-07-01 12:16:55.414 - amici.ode_export - INFO - Finished writing dwdp.cpp                       (2.32E-01s)\n",
      "2020-07-01 12:16:55.435 - amici.ode_export - INFO - Finished writing dwdx.cpp                       (1.79E-02s)\n",
      "2020-07-01 12:16:55.450 - amici.ode_export - INFO - Finished writing dxdotdw.cpp                    (1.32E-02s)\n",
      "2020-07-01 12:16:55.497 - amici.ode_export - INFO - Finished writing dxdotdp_explicit.cpp           (4.57E-02s)\n",
      "2020-07-01 12:16:55.599 - amici.ode_export - INFO - Finished writing dydx.cpp                       (8.47E-02s)\n",
      "2020-07-01 12:16:55.604 - amici.ode_export - INFO - Finished writing dydp.cpp                       (4.07E-03s)\n",
      "2020-07-01 12:16:55.613 - amici.ode_export - INFO - Finished writing dsigmaydp.cpp                  (8.47E-03s)\n",
      "2020-07-01 12:16:55.624 - amici.ode_export - INFO - Finished writing sigmay.cpp                     (9.34E-03s)\n",
      "2020-07-01 12:16:55.639 - amici.ode_export - INFO - Finished writing w.cpp                          (1.39E-02s)\n",
      "2020-07-01 12:16:55.641 - amici.ode_export - INFO - Finished writing x0.cpp                         (2.02E-03s)\n",
      "2020-07-01 12:16:55.644 - amici.ode_export - INFO - Finished writing x0_fixedParameters.cpp         (1.13E-03s)\n",
      "2020-07-01 12:16:55.651 - amici.ode_export - INFO - Finished writing sx0.cpp                        (5.48E-03s)\n",
      "2020-07-01 12:16:55.670 - amici.ode_export - INFO - Finished writing sx0_fixedParameters.cpp        (1.85E-02s)\n",
      "2020-07-01 12:16:55.687 - amici.ode_export - INFO - Finished writing xdot.cpp                       (1.57E-02s)\n",
      "2020-07-01 12:16:55.697 - amici.ode_export - INFO - Finished writing y.cpp                          (8.90E-03s)\n",
      "2020-07-01 12:16:55.703 - amici.ode_export - INFO - Finished writing x_rdata.cpp                    (4.77E-03s)\n",
      "2020-07-01 12:16:55.704 - amici.ode_export - INFO - Finished writing total_cl.cpp                   (8.90E-04s)\n",
      "2020-07-01 12:16:55.713 - amici.ode_export - INFO - Finished writing x_solver.cpp                   (7.07E-03s)\n",
      "2020-07-01 12:16:55.741 - amici.ode_export - INFO - Finished generating cpp code                    (1.04E+00s)\n",
      "2020-07-01 12:17:19.767 - amici.ode_export - INFO - Finished compiling cpp code                     (2.40E+01s)\n",
      "2020-07-01 12:17:19.770 - amici.petab_import - INFO - Finished Importing PEtab model                (2.56E+01s)\n"
     ]
    },
    {
     "name": "stdout",
     "output_type": "stream",
     "text": [
      "running build_ext\n",
      "building 'Raf_Mitra_NatCom2018OptimalScaling_3CatQual._Raf_Mitra_NatCom2018OptimalScaling_3CatQual' extension\n",
      "swigging swig/Raf_Mitra_NatCom2018OptimalScaling_3CatQual.i to swig/Raf_Mitra_NatCom2018OptimalScaling_3CatQual_wrap.cpp\n",
      "swig -python -c++ -modern -outdir Raf_Mitra_NatCom2018OptimalScaling_3CatQual -I/home/leonard/Anaconda/envs/qualitative/lib/python3.8/site-packages/amici/swig -I/home/leonard/Anaconda/envs/qualitative/lib/python3.8/site-packages/amici/include -o swig/Raf_Mitra_NatCom2018OptimalScaling_3CatQual_wrap.cpp swig/Raf_Mitra_NatCom2018OptimalScaling_3CatQual.i\n",
      "creating build\n",
      "creating build/temp.linux-x86_64-3.8\n",
      "creating build/temp.linux-x86_64-3.8/swig\n",
      "gcc -pthread -B /home/leonard/Anaconda/envs/qualitative/compiler_compat -Wl,--sysroot=/ -Wsign-compare -DNDEBUG -g -fwrapv -O3 -Wall -Wstrict-prototypes -fPIC -I/home/leonard/Documents/projects/pypesto_qualitative/pyPESTO/doc/example/amici_models/Raf_Mitra_NatCom2018OptimalScaling_3CatQual -I/home/leonard/Anaconda/envs/qualitative/lib/python3.8/site-packages/amici/include -I/home/leonard/Anaconda/envs/qualitative/lib/python3.8/site-packages/amici/ThirdParty/gsl -I/home/leonard/Anaconda/envs/qualitative/lib/python3.8/site-packages/amici/ThirdParty/sundials/include -I/home/leonard/Anaconda/envs/qualitative/lib/python3.8/site-packages/amici/ThirdParty/SuiteSparse/include -I/usr/include/hdf5/serial -I/home/leonard/Anaconda/envs/qualitative/include/python3.8 -c swig/Raf_Mitra_NatCom2018OptimalScaling_3CatQual_wrap.cpp -o build/temp.linux-x86_64-3.8/swig/Raf_Mitra_NatCom2018OptimalScaling_3CatQual_wrap.o -std=c++14\n",
      "cc1plus: warning: command line option ‘-Wstrict-prototypes’ is valid for C/ObjC but not for C++\n",
      "gcc -pthread -B /home/leonard/Anaconda/envs/qualitative/compiler_compat -Wl,--sysroot=/ -Wsign-compare -DNDEBUG -g -fwrapv -O3 -Wall -Wstrict-prototypes -fPIC -I/home/leonard/Documents/projects/pypesto_qualitative/pyPESTO/doc/example/amici_models/Raf_Mitra_NatCom2018OptimalScaling_3CatQual -I/home/leonard/Anaconda/envs/qualitative/lib/python3.8/site-packages/amici/include -I/home/leonard/Anaconda/envs/qualitative/lib/python3.8/site-packages/amici/ThirdParty/gsl -I/home/leonard/Anaconda/envs/qualitative/lib/python3.8/site-packages/amici/ThirdParty/sundials/include -I/home/leonard/Anaconda/envs/qualitative/lib/python3.8/site-packages/amici/ThirdParty/SuiteSparse/include -I/usr/include/hdf5/serial -I/home/leonard/Anaconda/envs/qualitative/include/python3.8 -c Raf_Mitra_NatCom2018OptimalScaling_3CatQual_dsigmaydp.cpp -o build/temp.linux-x86_64-3.8/Raf_Mitra_NatCom2018OptimalScaling_3CatQual_dsigmaydp.o -std=c++14\n",
      "cc1plus: warning: command line option ‘-Wstrict-prototypes’ is valid for C/ObjC but not for C++\n",
      "gcc -pthread -B /home/leonard/Anaconda/envs/qualitative/compiler_compat -Wl,--sysroot=/ -Wsign-compare -DNDEBUG -g -fwrapv -O3 -Wall -Wstrict-prototypes -fPIC -I/home/leonard/Documents/projects/pypesto_qualitative/pyPESTO/doc/example/amici_models/Raf_Mitra_NatCom2018OptimalScaling_3CatQual -I/home/leonard/Anaconda/envs/qualitative/lib/python3.8/site-packages/amici/include -I/home/leonard/Anaconda/envs/qualitative/lib/python3.8/site-packages/amici/ThirdParty/gsl -I/home/leonard/Anaconda/envs/qualitative/lib/python3.8/site-packages/amici/ThirdParty/sundials/include -I/home/leonard/Anaconda/envs/qualitative/lib/python3.8/site-packages/amici/ThirdParty/SuiteSparse/include -I/usr/include/hdf5/serial -I/home/leonard/Anaconda/envs/qualitative/include/python3.8 -c Raf_Mitra_NatCom2018OptimalScaling_3CatQual_dJydy_rowvals.cpp -o build/temp.linux-x86_64-3.8/Raf_Mitra_NatCom2018OptimalScaling_3CatQual_dJydy_rowvals.o -std=c++14\n",
      "cc1plus: warning: command line option ‘-Wstrict-prototypes’ is valid for C/ObjC but not for C++\n",
      "gcc -pthread -B /home/leonard/Anaconda/envs/qualitative/compiler_compat -Wl,--sysroot=/ -Wsign-compare -DNDEBUG -g -fwrapv -O3 -Wall -Wstrict-prototypes -fPIC -I/home/leonard/Documents/projects/pypesto_qualitative/pyPESTO/doc/example/amici_models/Raf_Mitra_NatCom2018OptimalScaling_3CatQual -I/home/leonard/Anaconda/envs/qualitative/lib/python3.8/site-packages/amici/include -I/home/leonard/Anaconda/envs/qualitative/lib/python3.8/site-packages/amici/ThirdParty/gsl -I/home/leonard/Anaconda/envs/qualitative/lib/python3.8/site-packages/amici/ThirdParty/sundials/include -I/home/leonard/Anaconda/envs/qualitative/lib/python3.8/site-packages/amici/ThirdParty/SuiteSparse/include -I/usr/include/hdf5/serial -I/home/leonard/Anaconda/envs/qualitative/include/python3.8 -c Raf_Mitra_NatCom2018OptimalScaling_3CatQual_total_cl.cpp -o build/temp.linux-x86_64-3.8/Raf_Mitra_NatCom2018OptimalScaling_3CatQual_total_cl.o -std=c++14\n",
      "cc1plus: warning: command line option ‘-Wstrict-prototypes’ is valid for C/ObjC but not for C++\n",
      "gcc -pthread -B /home/leonard/Anaconda/envs/qualitative/compiler_compat -Wl,--sysroot=/ -Wsign-compare -DNDEBUG -g -fwrapv -O3 -Wall -Wstrict-prototypes -fPIC -I/home/leonard/Documents/projects/pypesto_qualitative/pyPESTO/doc/example/amici_models/Raf_Mitra_NatCom2018OptimalScaling_3CatQual -I/home/leonard/Anaconda/envs/qualitative/lib/python3.8/site-packages/amici/include -I/home/leonard/Anaconda/envs/qualitative/lib/python3.8/site-packages/amici/ThirdParty/gsl -I/home/leonard/Anaconda/envs/qualitative/lib/python3.8/site-packages/amici/ThirdParty/sundials/include -I/home/leonard/Anaconda/envs/qualitative/lib/python3.8/site-packages/amici/ThirdParty/SuiteSparse/include -I/usr/include/hdf5/serial -I/home/leonard/Anaconda/envs/qualitative/include/python3.8 -c Raf_Mitra_NatCom2018OptimalScaling_3CatQual_x_rdata.cpp -o build/temp.linux-x86_64-3.8/Raf_Mitra_NatCom2018OptimalScaling_3CatQual_x_rdata.o -std=c++14\n",
      "cc1plus: warning: command line option ‘-Wstrict-prototypes’ is valid for C/ObjC but not for C++\n",
      "gcc -pthread -B /home/leonard/Anaconda/envs/qualitative/compiler_compat -Wl,--sysroot=/ -Wsign-compare -DNDEBUG -g -fwrapv -O3 -Wall -Wstrict-prototypes -fPIC -I/home/leonard/Documents/projects/pypesto_qualitative/pyPESTO/doc/example/amici_models/Raf_Mitra_NatCom2018OptimalScaling_3CatQual -I/home/leonard/Anaconda/envs/qualitative/lib/python3.8/site-packages/amici/include -I/home/leonard/Anaconda/envs/qualitative/lib/python3.8/site-packages/amici/ThirdParty/gsl -I/home/leonard/Anaconda/envs/qualitative/lib/python3.8/site-packages/amici/ThirdParty/sundials/include -I/home/leonard/Anaconda/envs/qualitative/lib/python3.8/site-packages/amici/ThirdParty/SuiteSparse/include -I/usr/include/hdf5/serial -I/home/leonard/Anaconda/envs/qualitative/include/python3.8 -c Raf_Mitra_NatCom2018OptimalScaling_3CatQual_dxdotdw_rowvals.cpp -o build/temp.linux-x86_64-3.8/Raf_Mitra_NatCom2018OptimalScaling_3CatQual_dxdotdw_rowvals.o -std=c++14\n",
      "cc1plus: warning: command line option ‘-Wstrict-prototypes’ is valid for C/ObjC but not for C++\n",
      "gcc -pthread -B /home/leonard/Anaconda/envs/qualitative/compiler_compat -Wl,--sysroot=/ -Wsign-compare -DNDEBUG -g -fwrapv -O3 -Wall -Wstrict-prototypes -fPIC -I/home/leonard/Documents/projects/pypesto_qualitative/pyPESTO/doc/example/amici_models/Raf_Mitra_NatCom2018OptimalScaling_3CatQual -I/home/leonard/Anaconda/envs/qualitative/lib/python3.8/site-packages/amici/include -I/home/leonard/Anaconda/envs/qualitative/lib/python3.8/site-packages/amici/ThirdParty/gsl -I/home/leonard/Anaconda/envs/qualitative/lib/python3.8/site-packages/amici/ThirdParty/sundials/include -I/home/leonard/Anaconda/envs/qualitative/lib/python3.8/site-packages/amici/ThirdParty/SuiteSparse/include -I/usr/include/hdf5/serial -I/home/leonard/Anaconda/envs/qualitative/include/python3.8 -c Raf_Mitra_NatCom2018OptimalScaling_3CatQual_dJydy.cpp -o build/temp.linux-x86_64-3.8/Raf_Mitra_NatCom2018OptimalScaling_3CatQual_dJydy.o -std=c++14\n",
      "cc1plus: warning: command line option ‘-Wstrict-prototypes’ is valid for C/ObjC but not for C++\n",
      "gcc -pthread -B /home/leonard/Anaconda/envs/qualitative/compiler_compat -Wl,--sysroot=/ -Wsign-compare -DNDEBUG -g -fwrapv -O3 -Wall -Wstrict-prototypes -fPIC -I/home/leonard/Documents/projects/pypesto_qualitative/pyPESTO/doc/example/amici_models/Raf_Mitra_NatCom2018OptimalScaling_3CatQual -I/home/leonard/Anaconda/envs/qualitative/lib/python3.8/site-packages/amici/include -I/home/leonard/Anaconda/envs/qualitative/lib/python3.8/site-packages/amici/ThirdParty/gsl -I/home/leonard/Anaconda/envs/qualitative/lib/python3.8/site-packages/amici/ThirdParty/sundials/include -I/home/leonard/Anaconda/envs/qualitative/lib/python3.8/site-packages/amici/ThirdParty/SuiteSparse/include -I/usr/include/hdf5/serial -I/home/leonard/Anaconda/envs/qualitative/include/python3.8 -c Raf_Mitra_NatCom2018OptimalScaling_3CatQual_dwdx_colptrs.cpp -o build/temp.linux-x86_64-3.8/Raf_Mitra_NatCom2018OptimalScaling_3CatQual_dwdx_colptrs.o -std=c++14\n",
      "cc1plus: warning: command line option ‘-Wstrict-prototypes’ is valid for C/ObjC but not for C++\n",
      "gcc -pthread -B /home/leonard/Anaconda/envs/qualitative/compiler_compat -Wl,--sysroot=/ -Wsign-compare -DNDEBUG -g -fwrapv -O3 -Wall -Wstrict-prototypes -fPIC -I/home/leonard/Documents/projects/pypesto_qualitative/pyPESTO/doc/example/amici_models/Raf_Mitra_NatCom2018OptimalScaling_3CatQual -I/home/leonard/Anaconda/envs/qualitative/lib/python3.8/site-packages/amici/include -I/home/leonard/Anaconda/envs/qualitative/lib/python3.8/site-packages/amici/ThirdParty/gsl -I/home/leonard/Anaconda/envs/qualitative/lib/python3.8/site-packages/amici/ThirdParty/sundials/include -I/home/leonard/Anaconda/envs/qualitative/lib/python3.8/site-packages/amici/ThirdParty/SuiteSparse/include -I/usr/include/hdf5/serial -I/home/leonard/Anaconda/envs/qualitative/include/python3.8 -c Raf_Mitra_NatCom2018OptimalScaling_3CatQual_xdot.cpp -o build/temp.linux-x86_64-3.8/Raf_Mitra_NatCom2018OptimalScaling_3CatQual_xdot.o -std=c++14\n",
      "cc1plus: warning: command line option ‘-Wstrict-prototypes’ is valid for C/ObjC but not for C++\n",
      "gcc -pthread -B /home/leonard/Anaconda/envs/qualitative/compiler_compat -Wl,--sysroot=/ -Wsign-compare -DNDEBUG -g -fwrapv -O3 -Wall -Wstrict-prototypes -fPIC -I/home/leonard/Documents/projects/pypesto_qualitative/pyPESTO/doc/example/amici_models/Raf_Mitra_NatCom2018OptimalScaling_3CatQual -I/home/leonard/Anaconda/envs/qualitative/lib/python3.8/site-packages/amici/include -I/home/leonard/Anaconda/envs/qualitative/lib/python3.8/site-packages/amici/ThirdParty/gsl -I/home/leonard/Anaconda/envs/qualitative/lib/python3.8/site-packages/amici/ThirdParty/sundials/include -I/home/leonard/Anaconda/envs/qualitative/lib/python3.8/site-packages/amici/ThirdParty/SuiteSparse/include -I/usr/include/hdf5/serial -I/home/leonard/Anaconda/envs/qualitative/include/python3.8 -c Raf_Mitra_NatCom2018OptimalScaling_3CatQual_dxdotdp_implicit_colptrs.cpp -o build/temp.linux-x86_64-3.8/Raf_Mitra_NatCom2018OptimalScaling_3CatQual_dxdotdp_implicit_colptrs.o -std=c++14\n",
      "cc1plus: warning: command line option ‘-Wstrict-prototypes’ is valid for C/ObjC but not for C++\n",
      "gcc -pthread -B /home/leonard/Anaconda/envs/qualitative/compiler_compat -Wl,--sysroot=/ -Wsign-compare -DNDEBUG -g -fwrapv -O3 -Wall -Wstrict-prototypes -fPIC -I/home/leonard/Documents/projects/pypesto_qualitative/pyPESTO/doc/example/amici_models/Raf_Mitra_NatCom2018OptimalScaling_3CatQual -I/home/leonard/Anaconda/envs/qualitative/lib/python3.8/site-packages/amici/include -I/home/leonard/Anaconda/envs/qualitative/lib/python3.8/site-packages/amici/ThirdParty/gsl -I/home/leonard/Anaconda/envs/qualitative/lib/python3.8/site-packages/amici/ThirdParty/sundials/include -I/home/leonard/Anaconda/envs/qualitative/lib/python3.8/site-packages/amici/ThirdParty/SuiteSparse/include -I/usr/include/hdf5/serial -I/home/leonard/Anaconda/envs/qualitative/include/python3.8 -c Raf_Mitra_NatCom2018OptimalScaling_3CatQual_dxdotdp_explicit.cpp -o build/temp.linux-x86_64-3.8/Raf_Mitra_NatCom2018OptimalScaling_3CatQual_dxdotdp_explicit.o -std=c++14\n",
      "cc1plus: warning: command line option ‘-Wstrict-prototypes’ is valid for C/ObjC but not for C++\n",
      "gcc -pthread -B /home/leonard/Anaconda/envs/qualitative/compiler_compat -Wl,--sysroot=/ -Wsign-compare -DNDEBUG -g -fwrapv -O3 -Wall -Wstrict-prototypes -fPIC -I/home/leonard/Documents/projects/pypesto_qualitative/pyPESTO/doc/example/amici_models/Raf_Mitra_NatCom2018OptimalScaling_3CatQual -I/home/leonard/Anaconda/envs/qualitative/lib/python3.8/site-packages/amici/include -I/home/leonard/Anaconda/envs/qualitative/lib/python3.8/site-packages/amici/ThirdParty/gsl -I/home/leonard/Anaconda/envs/qualitative/lib/python3.8/site-packages/amici/ThirdParty/sundials/include -I/home/leonard/Anaconda/envs/qualitative/lib/python3.8/site-packages/amici/ThirdParty/SuiteSparse/include -I/usr/include/hdf5/serial -I/home/leonard/Anaconda/envs/qualitative/include/python3.8 -c Raf_Mitra_NatCom2018OptimalScaling_3CatQual_JSparseB.cpp -o build/temp.linux-x86_64-3.8/Raf_Mitra_NatCom2018OptimalScaling_3CatQual_JSparseB.o -std=c++14\n",
      "cc1plus: warning: command line option ‘-Wstrict-prototypes’ is valid for C/ObjC but not for C++\n",
      "gcc -pthread -B /home/leonard/Anaconda/envs/qualitative/compiler_compat -Wl,--sysroot=/ -Wsign-compare -DNDEBUG -g -fwrapv -O3 -Wall -Wstrict-prototypes -fPIC -I/home/leonard/Documents/projects/pypesto_qualitative/pyPESTO/doc/example/amici_models/Raf_Mitra_NatCom2018OptimalScaling_3CatQual -I/home/leonard/Anaconda/envs/qualitative/lib/python3.8/site-packages/amici/include -I/home/leonard/Anaconda/envs/qualitative/lib/python3.8/site-packages/amici/ThirdParty/gsl -I/home/leonard/Anaconda/envs/qualitative/lib/python3.8/site-packages/amici/ThirdParty/sundials/include -I/home/leonard/Anaconda/envs/qualitative/lib/python3.8/site-packages/amici/ThirdParty/SuiteSparse/include -I/usr/include/hdf5/serial -I/home/leonard/Anaconda/envs/qualitative/include/python3.8 -c Raf_Mitra_NatCom2018OptimalScaling_3CatQual_dxdotdw_colptrs.cpp -o build/temp.linux-x86_64-3.8/Raf_Mitra_NatCom2018OptimalScaling_3CatQual_dxdotdw_colptrs.o -std=c++14\n",
      "cc1plus: warning: command line option ‘-Wstrict-prototypes’ is valid for C/ObjC but not for C++\n",
      "gcc -pthread -B /home/leonard/Anaconda/envs/qualitative/compiler_compat -Wl,--sysroot=/ -Wsign-compare -DNDEBUG -g -fwrapv -O3 -Wall -Wstrict-prototypes -fPIC -I/home/leonard/Documents/projects/pypesto_qualitative/pyPESTO/doc/example/amici_models/Raf_Mitra_NatCom2018OptimalScaling_3CatQual -I/home/leonard/Anaconda/envs/qualitative/lib/python3.8/site-packages/amici/include -I/home/leonard/Anaconda/envs/qualitative/lib/python3.8/site-packages/amici/ThirdParty/gsl -I/home/leonard/Anaconda/envs/qualitative/lib/python3.8/site-packages/amici/ThirdParty/sundials/include -I/home/leonard/Anaconda/envs/qualitative/lib/python3.8/site-packages/amici/ThirdParty/SuiteSparse/include -I/usr/include/hdf5/serial -I/home/leonard/Anaconda/envs/qualitative/include/python3.8 -c Raf_Mitra_NatCom2018OptimalScaling_3CatQual_J.cpp -o build/temp.linux-x86_64-3.8/Raf_Mitra_NatCom2018OptimalScaling_3CatQual_J.o -std=c++14\n",
      "cc1plus: warning: command line option ‘-Wstrict-prototypes’ is valid for C/ObjC but not for C++\n",
      "gcc -pthread -B /home/leonard/Anaconda/envs/qualitative/compiler_compat -Wl,--sysroot=/ -Wsign-compare -DNDEBUG -g -fwrapv -O3 -Wall -Wstrict-prototypes -fPIC -I/home/leonard/Documents/projects/pypesto_qualitative/pyPESTO/doc/example/amici_models/Raf_Mitra_NatCom2018OptimalScaling_3CatQual -I/home/leonard/Anaconda/envs/qualitative/lib/python3.8/site-packages/amici/include -I/home/leonard/Anaconda/envs/qualitative/lib/python3.8/site-packages/amici/ThirdParty/gsl -I/home/leonard/Anaconda/envs/qualitative/lib/python3.8/site-packages/amici/ThirdParty/sundials/include -I/home/leonard/Anaconda/envs/qualitative/lib/python3.8/site-packages/amici/ThirdParty/SuiteSparse/include -I/usr/include/hdf5/serial -I/home/leonard/Anaconda/envs/qualitative/include/python3.8 -c Raf_Mitra_NatCom2018OptimalScaling_3CatQual_JSparse_colptrs.cpp -o build/temp.linux-x86_64-3.8/Raf_Mitra_NatCom2018OptimalScaling_3CatQual_JSparse_colptrs.o -std=c++14\n",
      "cc1plus: warning: command line option ‘-Wstrict-prototypes’ is valid for C/ObjC but not for C++\n",
      "gcc -pthread -B /home/leonard/Anaconda/envs/qualitative/compiler_compat -Wl,--sysroot=/ -Wsign-compare -DNDEBUG -g -fwrapv -O3 -Wall -Wstrict-prototypes -fPIC -I/home/leonard/Documents/projects/pypesto_qualitative/pyPESTO/doc/example/amici_models/Raf_Mitra_NatCom2018OptimalScaling_3CatQual -I/home/leonard/Anaconda/envs/qualitative/lib/python3.8/site-packages/amici/include -I/home/leonard/Anaconda/envs/qualitative/lib/python3.8/site-packages/amici/ThirdParty/gsl -I/home/leonard/Anaconda/envs/qualitative/lib/python3.8/site-packages/amici/ThirdParty/sundials/include -I/home/leonard/Anaconda/envs/qualitative/lib/python3.8/site-packages/amici/ThirdParty/SuiteSparse/include -I/usr/include/hdf5/serial -I/home/leonard/Anaconda/envs/qualitative/include/python3.8 -c Raf_Mitra_NatCom2018OptimalScaling_3CatQual_x0_fixedParameters.cpp -o build/temp.linux-x86_64-3.8/Raf_Mitra_NatCom2018OptimalScaling_3CatQual_x0_fixedParameters.o -std=c++14\n",
      "cc1plus: warning: command line option ‘-Wstrict-prototypes’ is valid for C/ObjC but not for C++\n",
      "gcc -pthread -B /home/leonard/Anaconda/envs/qualitative/compiler_compat -Wl,--sysroot=/ -Wsign-compare -DNDEBUG -g -fwrapv -O3 -Wall -Wstrict-prototypes -fPIC -I/home/leonard/Documents/projects/pypesto_qualitative/pyPESTO/doc/example/amici_models/Raf_Mitra_NatCom2018OptimalScaling_3CatQual -I/home/leonard/Anaconda/envs/qualitative/lib/python3.8/site-packages/amici/include -I/home/leonard/Anaconda/envs/qualitative/lib/python3.8/site-packages/amici/ThirdParty/gsl -I/home/leonard/Anaconda/envs/qualitative/lib/python3.8/site-packages/amici/ThirdParty/sundials/include -I/home/leonard/Anaconda/envs/qualitative/lib/python3.8/site-packages/amici/ThirdParty/SuiteSparse/include -I/usr/include/hdf5/serial -I/home/leonard/Anaconda/envs/qualitative/include/python3.8 -c Raf_Mitra_NatCom2018OptimalScaling_3CatQual_Jy.cpp -o build/temp.linux-x86_64-3.8/Raf_Mitra_NatCom2018OptimalScaling_3CatQual_Jy.o -std=c++14\n",
      "cc1plus: warning: command line option ‘-Wstrict-prototypes’ is valid for C/ObjC but not for C++\n",
      "gcc -pthread -B /home/leonard/Anaconda/envs/qualitative/compiler_compat -Wl,--sysroot=/ -Wsign-compare -DNDEBUG -g -fwrapv -O3 -Wall -Wstrict-prototypes -fPIC -I/home/leonard/Documents/projects/pypesto_qualitative/pyPESTO/doc/example/amici_models/Raf_Mitra_NatCom2018OptimalScaling_3CatQual -I/home/leonard/Anaconda/envs/qualitative/lib/python3.8/site-packages/amici/include -I/home/leonard/Anaconda/envs/qualitative/lib/python3.8/site-packages/amici/ThirdParty/gsl -I/home/leonard/Anaconda/envs/qualitative/lib/python3.8/site-packages/amici/ThirdParty/sundials/include -I/home/leonard/Anaconda/envs/qualitative/lib/python3.8/site-packages/amici/ThirdParty/SuiteSparse/include -I/usr/include/hdf5/serial -I/home/leonard/Anaconda/envs/qualitative/include/python3.8 -c wrapfunctions.cpp -o build/temp.linux-x86_64-3.8/wrapfunctions.o -std=c++14\n",
      "cc1plus: warning: command line option ‘-Wstrict-prototypes’ is valid for C/ObjC but not for C++\n",
      "gcc -pthread -B /home/leonard/Anaconda/envs/qualitative/compiler_compat -Wl,--sysroot=/ -Wsign-compare -DNDEBUG -g -fwrapv -O3 -Wall -Wstrict-prototypes -fPIC -I/home/leonard/Documents/projects/pypesto_qualitative/pyPESTO/doc/example/amici_models/Raf_Mitra_NatCom2018OptimalScaling_3CatQual -I/home/leonard/Anaconda/envs/qualitative/lib/python3.8/site-packages/amici/include -I/home/leonard/Anaconda/envs/qualitative/lib/python3.8/site-packages/amici/ThirdParty/gsl -I/home/leonard/Anaconda/envs/qualitative/lib/python3.8/site-packages/amici/ThirdParty/sundials/include -I/home/leonard/Anaconda/envs/qualitative/lib/python3.8/site-packages/amici/ThirdParty/SuiteSparse/include -I/usr/include/hdf5/serial -I/home/leonard/Anaconda/envs/qualitative/include/python3.8 -c Raf_Mitra_NatCom2018OptimalScaling_3CatQual_x0.cpp -o build/temp.linux-x86_64-3.8/Raf_Mitra_NatCom2018OptimalScaling_3CatQual_x0.o -std=c++14\n",
      "cc1plus: warning: command line option ‘-Wstrict-prototypes’ is valid for C/ObjC but not for C++\n",
      "gcc -pthread -B /home/leonard/Anaconda/envs/qualitative/compiler_compat -Wl,--sysroot=/ -Wsign-compare -DNDEBUG -g -fwrapv -O3 -Wall -Wstrict-prototypes -fPIC -I/home/leonard/Documents/projects/pypesto_qualitative/pyPESTO/doc/example/amici_models/Raf_Mitra_NatCom2018OptimalScaling_3CatQual -I/home/leonard/Anaconda/envs/qualitative/lib/python3.8/site-packages/amici/include -I/home/leonard/Anaconda/envs/qualitative/lib/python3.8/site-packages/amici/ThirdParty/gsl -I/home/leonard/Anaconda/envs/qualitative/lib/python3.8/site-packages/amici/ThirdParty/sundials/include -I/home/leonard/Anaconda/envs/qualitative/lib/python3.8/site-packages/amici/ThirdParty/SuiteSparse/include -I/usr/include/hdf5/serial -I/home/leonard/Anaconda/envs/qualitative/include/python3.8 -c Raf_Mitra_NatCom2018OptimalScaling_3CatQual_dydx.cpp -o build/temp.linux-x86_64-3.8/Raf_Mitra_NatCom2018OptimalScaling_3CatQual_dydx.o -std=c++14\n",
      "cc1plus: warning: command line option ‘-Wstrict-prototypes’ is valid for C/ObjC but not for C++\n",
      "gcc -pthread -B /home/leonard/Anaconda/envs/qualitative/compiler_compat -Wl,--sysroot=/ -Wsign-compare -DNDEBUG -g -fwrapv -O3 -Wall -Wstrict-prototypes -fPIC -I/home/leonard/Documents/projects/pypesto_qualitative/pyPESTO/doc/example/amici_models/Raf_Mitra_NatCom2018OptimalScaling_3CatQual -I/home/leonard/Anaconda/envs/qualitative/lib/python3.8/site-packages/amici/include -I/home/leonard/Anaconda/envs/qualitative/lib/python3.8/site-packages/amici/ThirdParty/gsl -I/home/leonard/Anaconda/envs/qualitative/lib/python3.8/site-packages/amici/ThirdParty/sundials/include -I/home/leonard/Anaconda/envs/qualitative/lib/python3.8/site-packages/amici/ThirdParty/SuiteSparse/include -I/usr/include/hdf5/serial -I/home/leonard/Anaconda/envs/qualitative/include/python3.8 -c Raf_Mitra_NatCom2018OptimalScaling_3CatQual_dxdotdp_explicit_rowvals.cpp -o build/temp.linux-x86_64-3.8/Raf_Mitra_NatCom2018OptimalScaling_3CatQual_dxdotdp_explicit_rowvals.o -std=c++14\n",
      "cc1plus: warning: command line option ‘-Wstrict-prototypes’ is valid for C/ObjC but not for C++\n",
      "gcc -pthread -B /home/leonard/Anaconda/envs/qualitative/compiler_compat -Wl,--sysroot=/ -Wsign-compare -DNDEBUG -g -fwrapv -O3 -Wall -Wstrict-prototypes -fPIC -I/home/leonard/Documents/projects/pypesto_qualitative/pyPESTO/doc/example/amici_models/Raf_Mitra_NatCom2018OptimalScaling_3CatQual -I/home/leonard/Anaconda/envs/qualitative/lib/python3.8/site-packages/amici/include -I/home/leonard/Anaconda/envs/qualitative/lib/python3.8/site-packages/amici/ThirdParty/gsl -I/home/leonard/Anaconda/envs/qualitative/lib/python3.8/site-packages/amici/ThirdParty/sundials/include -I/home/leonard/Anaconda/envs/qualitative/lib/python3.8/site-packages/amici/ThirdParty/SuiteSparse/include -I/usr/include/hdf5/serial -I/home/leonard/Anaconda/envs/qualitative/include/python3.8 -c Raf_Mitra_NatCom2018OptimalScaling_3CatQual_JSparseB_colptrs.cpp -o build/temp.linux-x86_64-3.8/Raf_Mitra_NatCom2018OptimalScaling_3CatQual_JSparseB_colptrs.o -std=c++14\n",
      "cc1plus: warning: command line option ‘-Wstrict-prototypes’ is valid for C/ObjC but not for C++\n",
      "gcc -pthread -B /home/leonard/Anaconda/envs/qualitative/compiler_compat -Wl,--sysroot=/ -Wsign-compare -DNDEBUG -g -fwrapv -O3 -Wall -Wstrict-prototypes -fPIC -I/home/leonard/Documents/projects/pypesto_qualitative/pyPESTO/doc/example/amici_models/Raf_Mitra_NatCom2018OptimalScaling_3CatQual -I/home/leonard/Anaconda/envs/qualitative/lib/python3.8/site-packages/amici/include -I/home/leonard/Anaconda/envs/qualitative/lib/python3.8/site-packages/amici/ThirdParty/gsl -I/home/leonard/Anaconda/envs/qualitative/lib/python3.8/site-packages/amici/ThirdParty/sundials/include -I/home/leonard/Anaconda/envs/qualitative/lib/python3.8/site-packages/amici/ThirdParty/SuiteSparse/include -I/usr/include/hdf5/serial -I/home/leonard/Anaconda/envs/qualitative/include/python3.8 -c Raf_Mitra_NatCom2018OptimalScaling_3CatQual_x_solver.cpp -o build/temp.linux-x86_64-3.8/Raf_Mitra_NatCom2018OptimalScaling_3CatQual_x_solver.o -std=c++14\n",
      "cc1plus: warning: command line option ‘-Wstrict-prototypes’ is valid for C/ObjC but not for C++\n",
      "gcc -pthread -B /home/leonard/Anaconda/envs/qualitative/compiler_compat -Wl,--sysroot=/ -Wsign-compare -DNDEBUG -g -fwrapv -O3 -Wall -Wstrict-prototypes -fPIC -I/home/leonard/Documents/projects/pypesto_qualitative/pyPESTO/doc/example/amici_models/Raf_Mitra_NatCom2018OptimalScaling_3CatQual -I/home/leonard/Anaconda/envs/qualitative/lib/python3.8/site-packages/amici/include -I/home/leonard/Anaconda/envs/qualitative/lib/python3.8/site-packages/amici/ThirdParty/gsl -I/home/leonard/Anaconda/envs/qualitative/lib/python3.8/site-packages/amici/ThirdParty/sundials/include -I/home/leonard/Anaconda/envs/qualitative/lib/python3.8/site-packages/amici/ThirdParty/SuiteSparse/include -I/usr/include/hdf5/serial -I/home/leonard/Anaconda/envs/qualitative/include/python3.8 -c Raf_Mitra_NatCom2018OptimalScaling_3CatQual_dwdp_colptrs.cpp -o build/temp.linux-x86_64-3.8/Raf_Mitra_NatCom2018OptimalScaling_3CatQual_dwdp_colptrs.o -std=c++14\n",
      "cc1plus: warning: command line option ‘-Wstrict-prototypes’ is valid for C/ObjC but not for C++\n",
      "gcc -pthread -B /home/leonard/Anaconda/envs/qualitative/compiler_compat -Wl,--sysroot=/ -Wsign-compare -DNDEBUG -g -fwrapv -O3 -Wall -Wstrict-prototypes -fPIC -I/home/leonard/Documents/projects/pypesto_qualitative/pyPESTO/doc/example/amici_models/Raf_Mitra_NatCom2018OptimalScaling_3CatQual -I/home/leonard/Anaconda/envs/qualitative/lib/python3.8/site-packages/amici/include -I/home/leonard/Anaconda/envs/qualitative/lib/python3.8/site-packages/amici/ThirdParty/gsl -I/home/leonard/Anaconda/envs/qualitative/lib/python3.8/site-packages/amici/ThirdParty/sundials/include -I/home/leonard/Anaconda/envs/qualitative/lib/python3.8/site-packages/amici/ThirdParty/SuiteSparse/include -I/usr/include/hdf5/serial -I/home/leonard/Anaconda/envs/qualitative/include/python3.8 -c Raf_Mitra_NatCom2018OptimalScaling_3CatQual_sigmay.cpp -o build/temp.linux-x86_64-3.8/Raf_Mitra_NatCom2018OptimalScaling_3CatQual_sigmay.o -std=c++14\n",
      "cc1plus: warning: command line option ‘-Wstrict-prototypes’ is valid for C/ObjC but not for C++\n",
      "gcc -pthread -B /home/leonard/Anaconda/envs/qualitative/compiler_compat -Wl,--sysroot=/ -Wsign-compare -DNDEBUG -g -fwrapv -O3 -Wall -Wstrict-prototypes -fPIC -I/home/leonard/Documents/projects/pypesto_qualitative/pyPESTO/doc/example/amici_models/Raf_Mitra_NatCom2018OptimalScaling_3CatQual -I/home/leonard/Anaconda/envs/qualitative/lib/python3.8/site-packages/amici/include -I/home/leonard/Anaconda/envs/qualitative/lib/python3.8/site-packages/amici/ThirdParty/gsl -I/home/leonard/Anaconda/envs/qualitative/lib/python3.8/site-packages/amici/ThirdParty/sundials/include -I/home/leonard/Anaconda/envs/qualitative/lib/python3.8/site-packages/amici/ThirdParty/SuiteSparse/include -I/usr/include/hdf5/serial -I/home/leonard/Anaconda/envs/qualitative/include/python3.8 -c Raf_Mitra_NatCom2018OptimalScaling_3CatQual_dwdp_rowvals.cpp -o build/temp.linux-x86_64-3.8/Raf_Mitra_NatCom2018OptimalScaling_3CatQual_dwdp_rowvals.o -std=c++14\n",
      "cc1plus: warning: command line option ‘-Wstrict-prototypes’ is valid for C/ObjC but not for C++\n",
      "gcc -pthread -B /home/leonard/Anaconda/envs/qualitative/compiler_compat -Wl,--sysroot=/ -Wsign-compare -DNDEBUG -g -fwrapv -O3 -Wall -Wstrict-prototypes -fPIC -I/home/leonard/Documents/projects/pypesto_qualitative/pyPESTO/doc/example/amici_models/Raf_Mitra_NatCom2018OptimalScaling_3CatQual -I/home/leonard/Anaconda/envs/qualitative/lib/python3.8/site-packages/amici/include -I/home/leonard/Anaconda/envs/qualitative/lib/python3.8/site-packages/amici/ThirdParty/gsl -I/home/leonard/Anaconda/envs/qualitative/lib/python3.8/site-packages/amici/ThirdParty/sundials/include -I/home/leonard/Anaconda/envs/qualitative/lib/python3.8/site-packages/amici/ThirdParty/SuiteSparse/include -I/usr/include/hdf5/serial -I/home/leonard/Anaconda/envs/qualitative/include/python3.8 -c Raf_Mitra_NatCom2018OptimalScaling_3CatQual_w.cpp -o build/temp.linux-x86_64-3.8/Raf_Mitra_NatCom2018OptimalScaling_3CatQual_w.o -std=c++14\n",
      "cc1plus: warning: command line option ‘-Wstrict-prototypes’ is valid for C/ObjC but not for C++\n",
      "gcc -pthread -B /home/leonard/Anaconda/envs/qualitative/compiler_compat -Wl,--sysroot=/ -Wsign-compare -DNDEBUG -g -fwrapv -O3 -Wall -Wstrict-prototypes -fPIC -I/home/leonard/Documents/projects/pypesto_qualitative/pyPESTO/doc/example/amici_models/Raf_Mitra_NatCom2018OptimalScaling_3CatQual -I/home/leonard/Anaconda/envs/qualitative/lib/python3.8/site-packages/amici/include -I/home/leonard/Anaconda/envs/qualitative/lib/python3.8/site-packages/amici/ThirdParty/gsl -I/home/leonard/Anaconda/envs/qualitative/lib/python3.8/site-packages/amici/ThirdParty/sundials/include -I/home/leonard/Anaconda/envs/qualitative/lib/python3.8/site-packages/amici/ThirdParty/SuiteSparse/include -I/usr/include/hdf5/serial -I/home/leonard/Anaconda/envs/qualitative/include/python3.8 -c Raf_Mitra_NatCom2018OptimalScaling_3CatQual_JSparse_rowvals.cpp -o build/temp.linux-x86_64-3.8/Raf_Mitra_NatCom2018OptimalScaling_3CatQual_JSparse_rowvals.o -std=c++14\n",
      "cc1plus: warning: command line option ‘-Wstrict-prototypes’ is valid for C/ObjC but not for C++\n",
      "gcc -pthread -B /home/leonard/Anaconda/envs/qualitative/compiler_compat -Wl,--sysroot=/ -Wsign-compare -DNDEBUG -g -fwrapv -O3 -Wall -Wstrict-prototypes -fPIC -I/home/leonard/Documents/projects/pypesto_qualitative/pyPESTO/doc/example/amici_models/Raf_Mitra_NatCom2018OptimalScaling_3CatQual -I/home/leonard/Anaconda/envs/qualitative/lib/python3.8/site-packages/amici/include -I/home/leonard/Anaconda/envs/qualitative/lib/python3.8/site-packages/amici/ThirdParty/gsl -I/home/leonard/Anaconda/envs/qualitative/lib/python3.8/site-packages/amici/ThirdParty/sundials/include -I/home/leonard/Anaconda/envs/qualitative/lib/python3.8/site-packages/amici/ThirdParty/SuiteSparse/include -I/usr/include/hdf5/serial -I/home/leonard/Anaconda/envs/qualitative/include/python3.8 -c Raf_Mitra_NatCom2018OptimalScaling_3CatQual_dwdx.cpp -o build/temp.linux-x86_64-3.8/Raf_Mitra_NatCom2018OptimalScaling_3CatQual_dwdx.o -std=c++14\n",
      "cc1plus: warning: command line option ‘-Wstrict-prototypes’ is valid for C/ObjC but not for C++\n",
      "gcc -pthread -B /home/leonard/Anaconda/envs/qualitative/compiler_compat -Wl,--sysroot=/ -Wsign-compare -DNDEBUG -g -fwrapv -O3 -Wall -Wstrict-prototypes -fPIC -I/home/leonard/Documents/projects/pypesto_qualitative/pyPESTO/doc/example/amici_models/Raf_Mitra_NatCom2018OptimalScaling_3CatQual -I/home/leonard/Anaconda/envs/qualitative/lib/python3.8/site-packages/amici/include -I/home/leonard/Anaconda/envs/qualitative/lib/python3.8/site-packages/amici/ThirdParty/gsl -I/home/leonard/Anaconda/envs/qualitative/lib/python3.8/site-packages/amici/ThirdParty/sundials/include -I/home/leonard/Anaconda/envs/qualitative/lib/python3.8/site-packages/amici/ThirdParty/SuiteSparse/include -I/usr/include/hdf5/serial -I/home/leonard/Anaconda/envs/qualitative/include/python3.8 -c Raf_Mitra_NatCom2018OptimalScaling_3CatQual_dwdx_rowvals.cpp -o build/temp.linux-x86_64-3.8/Raf_Mitra_NatCom2018OptimalScaling_3CatQual_dwdx_rowvals.o -std=c++14\n",
      "cc1plus: warning: command line option ‘-Wstrict-prototypes’ is valid for C/ObjC but not for C++\n",
      "gcc -pthread -B /home/leonard/Anaconda/envs/qualitative/compiler_compat -Wl,--sysroot=/ -Wsign-compare -DNDEBUG -g -fwrapv -O3 -Wall -Wstrict-prototypes -fPIC -I/home/leonard/Documents/projects/pypesto_qualitative/pyPESTO/doc/example/amici_models/Raf_Mitra_NatCom2018OptimalScaling_3CatQual -I/home/leonard/Anaconda/envs/qualitative/lib/python3.8/site-packages/amici/include -I/home/leonard/Anaconda/envs/qualitative/lib/python3.8/site-packages/amici/ThirdParty/gsl -I/home/leonard/Anaconda/envs/qualitative/lib/python3.8/site-packages/amici/ThirdParty/sundials/include -I/home/leonard/Anaconda/envs/qualitative/lib/python3.8/site-packages/amici/ThirdParty/SuiteSparse/include -I/usr/include/hdf5/serial -I/home/leonard/Anaconda/envs/qualitative/include/python3.8 -c Raf_Mitra_NatCom2018OptimalScaling_3CatQual_dxdotdp_explicit_colptrs.cpp -o build/temp.linux-x86_64-3.8/Raf_Mitra_NatCom2018OptimalScaling_3CatQual_dxdotdp_explicit_colptrs.o -std=c++14\n",
      "cc1plus: warning: command line option ‘-Wstrict-prototypes’ is valid for C/ObjC but not for C++\n",
      "gcc -pthread -B /home/leonard/Anaconda/envs/qualitative/compiler_compat -Wl,--sysroot=/ -Wsign-compare -DNDEBUG -g -fwrapv -O3 -Wall -Wstrict-prototypes -fPIC -I/home/leonard/Documents/projects/pypesto_qualitative/pyPESTO/doc/example/amici_models/Raf_Mitra_NatCom2018OptimalScaling_3CatQual -I/home/leonard/Anaconda/envs/qualitative/lib/python3.8/site-packages/amici/include -I/home/leonard/Anaconda/envs/qualitative/lib/python3.8/site-packages/amici/ThirdParty/gsl -I/home/leonard/Anaconda/envs/qualitative/lib/python3.8/site-packages/amici/ThirdParty/sundials/include -I/home/leonard/Anaconda/envs/qualitative/lib/python3.8/site-packages/amici/ThirdParty/SuiteSparse/include -I/usr/include/hdf5/serial -I/home/leonard/Anaconda/envs/qualitative/include/python3.8 -c Raf_Mitra_NatCom2018OptimalScaling_3CatQual_dydp.cpp -o build/temp.linux-x86_64-3.8/Raf_Mitra_NatCom2018OptimalScaling_3CatQual_dydp.o -std=c++14\n",
      "cc1plus: warning: command line option ‘-Wstrict-prototypes’ is valid for C/ObjC but not for C++\n",
      "gcc -pthread -B /home/leonard/Anaconda/envs/qualitative/compiler_compat -Wl,--sysroot=/ -Wsign-compare -DNDEBUG -g -fwrapv -O3 -Wall -Wstrict-prototypes -fPIC -I/home/leonard/Documents/projects/pypesto_qualitative/pyPESTO/doc/example/amici_models/Raf_Mitra_NatCom2018OptimalScaling_3CatQual -I/home/leonard/Anaconda/envs/qualitative/lib/python3.8/site-packages/amici/include -I/home/leonard/Anaconda/envs/qualitative/lib/python3.8/site-packages/amici/ThirdParty/gsl -I/home/leonard/Anaconda/envs/qualitative/lib/python3.8/site-packages/amici/ThirdParty/sundials/include -I/home/leonard/Anaconda/envs/qualitative/lib/python3.8/site-packages/amici/ThirdParty/SuiteSparse/include -I/usr/include/hdf5/serial -I/home/leonard/Anaconda/envs/qualitative/include/python3.8 -c Raf_Mitra_NatCom2018OptimalScaling_3CatQual_dxdotdw.cpp -o build/temp.linux-x86_64-3.8/Raf_Mitra_NatCom2018OptimalScaling_3CatQual_dxdotdw.o -std=c++14\n",
      "cc1plus: warning: command line option ‘-Wstrict-prototypes’ is valid for C/ObjC but not for C++\n",
      "gcc -pthread -B /home/leonard/Anaconda/envs/qualitative/compiler_compat -Wl,--sysroot=/ -Wsign-compare -DNDEBUG -g -fwrapv -O3 -Wall -Wstrict-prototypes -fPIC -I/home/leonard/Documents/projects/pypesto_qualitative/pyPESTO/doc/example/amici_models/Raf_Mitra_NatCom2018OptimalScaling_3CatQual -I/home/leonard/Anaconda/envs/qualitative/lib/python3.8/site-packages/amici/include -I/home/leonard/Anaconda/envs/qualitative/lib/python3.8/site-packages/amici/ThirdParty/gsl -I/home/leonard/Anaconda/envs/qualitative/lib/python3.8/site-packages/amici/ThirdParty/sundials/include -I/home/leonard/Anaconda/envs/qualitative/lib/python3.8/site-packages/amici/ThirdParty/SuiteSparse/include -I/usr/include/hdf5/serial -I/home/leonard/Anaconda/envs/qualitative/include/python3.8 -c Raf_Mitra_NatCom2018OptimalScaling_3CatQual_JSparseB_rowvals.cpp -o build/temp.linux-x86_64-3.8/Raf_Mitra_NatCom2018OptimalScaling_3CatQual_JSparseB_rowvals.o -std=c++14\n",
      "cc1plus: warning: command line option ‘-Wstrict-prototypes’ is valid for C/ObjC but not for C++\n",
      "gcc -pthread -B /home/leonard/Anaconda/envs/qualitative/compiler_compat -Wl,--sysroot=/ -Wsign-compare -DNDEBUG -g -fwrapv -O3 -Wall -Wstrict-prototypes -fPIC -I/home/leonard/Documents/projects/pypesto_qualitative/pyPESTO/doc/example/amici_models/Raf_Mitra_NatCom2018OptimalScaling_3CatQual -I/home/leonard/Anaconda/envs/qualitative/lib/python3.8/site-packages/amici/include -I/home/leonard/Anaconda/envs/qualitative/lib/python3.8/site-packages/amici/ThirdParty/gsl -I/home/leonard/Anaconda/envs/qualitative/lib/python3.8/site-packages/amici/ThirdParty/sundials/include -I/home/leonard/Anaconda/envs/qualitative/lib/python3.8/site-packages/amici/ThirdParty/SuiteSparse/include -I/usr/include/hdf5/serial -I/home/leonard/Anaconda/envs/qualitative/include/python3.8 -c Raf_Mitra_NatCom2018OptimalScaling_3CatQual_JB.cpp -o build/temp.linux-x86_64-3.8/Raf_Mitra_NatCom2018OptimalScaling_3CatQual_JB.o -std=c++14\n",
      "cc1plus: warning: command line option ‘-Wstrict-prototypes’ is valid for C/ObjC but not for C++\n",
      "gcc -pthread -B /home/leonard/Anaconda/envs/qualitative/compiler_compat -Wl,--sysroot=/ -Wsign-compare -DNDEBUG -g -fwrapv -O3 -Wall -Wstrict-prototypes -fPIC -I/home/leonard/Documents/projects/pypesto_qualitative/pyPESTO/doc/example/amici_models/Raf_Mitra_NatCom2018OptimalScaling_3CatQual -I/home/leonard/Anaconda/envs/qualitative/lib/python3.8/site-packages/amici/include -I/home/leonard/Anaconda/envs/qualitative/lib/python3.8/site-packages/amici/ThirdParty/gsl -I/home/leonard/Anaconda/envs/qualitative/lib/python3.8/site-packages/amici/ThirdParty/sundials/include -I/home/leonard/Anaconda/envs/qualitative/lib/python3.8/site-packages/amici/ThirdParty/SuiteSparse/include -I/usr/include/hdf5/serial -I/home/leonard/Anaconda/envs/qualitative/include/python3.8 -c Raf_Mitra_NatCom2018OptimalScaling_3CatQual_dwdp.cpp -o build/temp.linux-x86_64-3.8/Raf_Mitra_NatCom2018OptimalScaling_3CatQual_dwdp.o -std=c++14\n",
      "cc1plus: warning: command line option ‘-Wstrict-prototypes’ is valid for C/ObjC but not for C++\n",
      "gcc -pthread -B /home/leonard/Anaconda/envs/qualitative/compiler_compat -Wl,--sysroot=/ -Wsign-compare -DNDEBUG -g -fwrapv -O3 -Wall -Wstrict-prototypes -fPIC -I/home/leonard/Documents/projects/pypesto_qualitative/pyPESTO/doc/example/amici_models/Raf_Mitra_NatCom2018OptimalScaling_3CatQual -I/home/leonard/Anaconda/envs/qualitative/lib/python3.8/site-packages/amici/include -I/home/leonard/Anaconda/envs/qualitative/lib/python3.8/site-packages/amici/ThirdParty/gsl -I/home/leonard/Anaconda/envs/qualitative/lib/python3.8/site-packages/amici/ThirdParty/sundials/include -I/home/leonard/Anaconda/envs/qualitative/lib/python3.8/site-packages/amici/ThirdParty/SuiteSparse/include -I/usr/include/hdf5/serial -I/home/leonard/Anaconda/envs/qualitative/include/python3.8 -c Raf_Mitra_NatCom2018OptimalScaling_3CatQual_JSparse.cpp -o build/temp.linux-x86_64-3.8/Raf_Mitra_NatCom2018OptimalScaling_3CatQual_JSparse.o -std=c++14\n",
      "cc1plus: warning: command line option ‘-Wstrict-prototypes’ is valid for C/ObjC but not for C++\n",
      "gcc -pthread -B /home/leonard/Anaconda/envs/qualitative/compiler_compat -Wl,--sysroot=/ -Wsign-compare -DNDEBUG -g -fwrapv -O3 -Wall -Wstrict-prototypes -fPIC -I/home/leonard/Documents/projects/pypesto_qualitative/pyPESTO/doc/example/amici_models/Raf_Mitra_NatCom2018OptimalScaling_3CatQual -I/home/leonard/Anaconda/envs/qualitative/lib/python3.8/site-packages/amici/include -I/home/leonard/Anaconda/envs/qualitative/lib/python3.8/site-packages/amici/ThirdParty/gsl -I/home/leonard/Anaconda/envs/qualitative/lib/python3.8/site-packages/amici/ThirdParty/sundials/include -I/home/leonard/Anaconda/envs/qualitative/lib/python3.8/site-packages/amici/ThirdParty/SuiteSparse/include -I/usr/include/hdf5/serial -I/home/leonard/Anaconda/envs/qualitative/include/python3.8 -c Raf_Mitra_NatCom2018OptimalScaling_3CatQual_dxdotdp_implicit_rowvals.cpp -o build/temp.linux-x86_64-3.8/Raf_Mitra_NatCom2018OptimalScaling_3CatQual_dxdotdp_implicit_rowvals.o -std=c++14\n",
      "cc1plus: warning: command line option ‘-Wstrict-prototypes’ is valid for C/ObjC but not for C++\n",
      "gcc -pthread -B /home/leonard/Anaconda/envs/qualitative/compiler_compat -Wl,--sysroot=/ -Wsign-compare -DNDEBUG -g -fwrapv -O3 -Wall -Wstrict-prototypes -fPIC -I/home/leonard/Documents/projects/pypesto_qualitative/pyPESTO/doc/example/amici_models/Raf_Mitra_NatCom2018OptimalScaling_3CatQual -I/home/leonard/Anaconda/envs/qualitative/lib/python3.8/site-packages/amici/include -I/home/leonard/Anaconda/envs/qualitative/lib/python3.8/site-packages/amici/ThirdParty/gsl -I/home/leonard/Anaconda/envs/qualitative/lib/python3.8/site-packages/amici/ThirdParty/sundials/include -I/home/leonard/Anaconda/envs/qualitative/lib/python3.8/site-packages/amici/ThirdParty/SuiteSparse/include -I/usr/include/hdf5/serial -I/home/leonard/Anaconda/envs/qualitative/include/python3.8 -c Raf_Mitra_NatCom2018OptimalScaling_3CatQual_y.cpp -o build/temp.linux-x86_64-3.8/Raf_Mitra_NatCom2018OptimalScaling_3CatQual_y.o -std=c++14\n",
      "cc1plus: warning: command line option ‘-Wstrict-prototypes’ is valid for C/ObjC but not for C++\n",
      "gcc -pthread -B /home/leonard/Anaconda/envs/qualitative/compiler_compat -Wl,--sysroot=/ -Wsign-compare -DNDEBUG -g -fwrapv -O3 -Wall -Wstrict-prototypes -fPIC -I/home/leonard/Documents/projects/pypesto_qualitative/pyPESTO/doc/example/amici_models/Raf_Mitra_NatCom2018OptimalScaling_3CatQual -I/home/leonard/Anaconda/envs/qualitative/lib/python3.8/site-packages/amici/include -I/home/leonard/Anaconda/envs/qualitative/lib/python3.8/site-packages/amici/ThirdParty/gsl -I/home/leonard/Anaconda/envs/qualitative/lib/python3.8/site-packages/amici/ThirdParty/sundials/include -I/home/leonard/Anaconda/envs/qualitative/lib/python3.8/site-packages/amici/ThirdParty/SuiteSparse/include -I/usr/include/hdf5/serial -I/home/leonard/Anaconda/envs/qualitative/include/python3.8 -c Raf_Mitra_NatCom2018OptimalScaling_3CatQual_sx0.cpp -o build/temp.linux-x86_64-3.8/Raf_Mitra_NatCom2018OptimalScaling_3CatQual_sx0.o -std=c++14\n",
      "cc1plus: warning: command line option ‘-Wstrict-prototypes’ is valid for C/ObjC but not for C++\n",
      "gcc -pthread -B /home/leonard/Anaconda/envs/qualitative/compiler_compat -Wl,--sysroot=/ -Wsign-compare -DNDEBUG -g -fwrapv -O3 -Wall -Wstrict-prototypes -fPIC -I/home/leonard/Documents/projects/pypesto_qualitative/pyPESTO/doc/example/amici_models/Raf_Mitra_NatCom2018OptimalScaling_3CatQual -I/home/leonard/Anaconda/envs/qualitative/lib/python3.8/site-packages/amici/include -I/home/leonard/Anaconda/envs/qualitative/lib/python3.8/site-packages/amici/ThirdParty/gsl -I/home/leonard/Anaconda/envs/qualitative/lib/python3.8/site-packages/amici/ThirdParty/sundials/include -I/home/leonard/Anaconda/envs/qualitative/lib/python3.8/site-packages/amici/ThirdParty/SuiteSparse/include -I/usr/include/hdf5/serial -I/home/leonard/Anaconda/envs/qualitative/include/python3.8 -c Raf_Mitra_NatCom2018OptimalScaling_3CatQual_JDiag.cpp -o build/temp.linux-x86_64-3.8/Raf_Mitra_NatCom2018OptimalScaling_3CatQual_JDiag.o -std=c++14\n",
      "cc1plus: warning: command line option ‘-Wstrict-prototypes’ is valid for C/ObjC but not for C++\n",
      "gcc -pthread -B /home/leonard/Anaconda/envs/qualitative/compiler_compat -Wl,--sysroot=/ -Wsign-compare -DNDEBUG -g -fwrapv -O3 -Wall -Wstrict-prototypes -fPIC -I/home/leonard/Documents/projects/pypesto_qualitative/pyPESTO/doc/example/amici_models/Raf_Mitra_NatCom2018OptimalScaling_3CatQual -I/home/leonard/Anaconda/envs/qualitative/lib/python3.8/site-packages/amici/include -I/home/leonard/Anaconda/envs/qualitative/lib/python3.8/site-packages/amici/ThirdParty/gsl -I/home/leonard/Anaconda/envs/qualitative/lib/python3.8/site-packages/amici/ThirdParty/sundials/include -I/home/leonard/Anaconda/envs/qualitative/lib/python3.8/site-packages/amici/ThirdParty/SuiteSparse/include -I/usr/include/hdf5/serial -I/home/leonard/Anaconda/envs/qualitative/include/python3.8 -c Raf_Mitra_NatCom2018OptimalScaling_3CatQual_dJydsigmay.cpp -o build/temp.linux-x86_64-3.8/Raf_Mitra_NatCom2018OptimalScaling_3CatQual_dJydsigmay.o -std=c++14\n",
      "cc1plus: warning: command line option ‘-Wstrict-prototypes’ is valid for C/ObjC but not for C++\n",
      "gcc -pthread -B /home/leonard/Anaconda/envs/qualitative/compiler_compat -Wl,--sysroot=/ -Wsign-compare -DNDEBUG -g -fwrapv -O3 -Wall -Wstrict-prototypes -fPIC -I/home/leonard/Documents/projects/pypesto_qualitative/pyPESTO/doc/example/amici_models/Raf_Mitra_NatCom2018OptimalScaling_3CatQual -I/home/leonard/Anaconda/envs/qualitative/lib/python3.8/site-packages/amici/include -I/home/leonard/Anaconda/envs/qualitative/lib/python3.8/site-packages/amici/ThirdParty/gsl -I/home/leonard/Anaconda/envs/qualitative/lib/python3.8/site-packages/amici/ThirdParty/sundials/include -I/home/leonard/Anaconda/envs/qualitative/lib/python3.8/site-packages/amici/ThirdParty/SuiteSparse/include -I/usr/include/hdf5/serial -I/home/leonard/Anaconda/envs/qualitative/include/python3.8 -c Raf_Mitra_NatCom2018OptimalScaling_3CatQual_sx0_fixedParameters.cpp -o build/temp.linux-x86_64-3.8/Raf_Mitra_NatCom2018OptimalScaling_3CatQual_sx0_fixedParameters.o -std=c++14\n",
      "cc1plus: warning: command line option ‘-Wstrict-prototypes’ is valid for C/ObjC but not for C++\n",
      "gcc -pthread -B /home/leonard/Anaconda/envs/qualitative/compiler_compat -Wl,--sysroot=/ -Wsign-compare -DNDEBUG -g -fwrapv -O3 -Wall -Wstrict-prototypes -fPIC -I/home/leonard/Documents/projects/pypesto_qualitative/pyPESTO/doc/example/amici_models/Raf_Mitra_NatCom2018OptimalScaling_3CatQual -I/home/leonard/Anaconda/envs/qualitative/lib/python3.8/site-packages/amici/include -I/home/leonard/Anaconda/envs/qualitative/lib/python3.8/site-packages/amici/ThirdParty/gsl -I/home/leonard/Anaconda/envs/qualitative/lib/python3.8/site-packages/amici/ThirdParty/sundials/include -I/home/leonard/Anaconda/envs/qualitative/lib/python3.8/site-packages/amici/ThirdParty/SuiteSparse/include -I/usr/include/hdf5/serial -I/home/leonard/Anaconda/envs/qualitative/include/python3.8 -c Raf_Mitra_NatCom2018OptimalScaling_3CatQual_dJydy_colptrs.cpp -o build/temp.linux-x86_64-3.8/Raf_Mitra_NatCom2018OptimalScaling_3CatQual_dJydy_colptrs.o -std=c++14\n",
      "cc1plus: warning: command line option ‘-Wstrict-prototypes’ is valid for C/ObjC but not for C++\n",
      "g++ -pthread -shared -B /home/leonard/Anaconda/envs/qualitative/compiler_compat -L/home/leonard/Anaconda/envs/qualitative/lib -Wl,-rpath=/home/leonard/Anaconda/envs/qualitative/lib -Wl,--no-as-needed -Wl,--sysroot=/ build/temp.linux-x86_64-3.8/swig/Raf_Mitra_NatCom2018OptimalScaling_3CatQual_wrap.o build/temp.linux-x86_64-3.8/Raf_Mitra_NatCom2018OptimalScaling_3CatQual_dsigmaydp.o build/temp.linux-x86_64-3.8/Raf_Mitra_NatCom2018OptimalScaling_3CatQual_dJydy_rowvals.o build/temp.linux-x86_64-3.8/Raf_Mitra_NatCom2018OptimalScaling_3CatQual_total_cl.o build/temp.linux-x86_64-3.8/Raf_Mitra_NatCom2018OptimalScaling_3CatQual_x_rdata.o build/temp.linux-x86_64-3.8/Raf_Mitra_NatCom2018OptimalScaling_3CatQual_dxdotdw_rowvals.o build/temp.linux-x86_64-3.8/Raf_Mitra_NatCom2018OptimalScaling_3CatQual_dJydy.o build/temp.linux-x86_64-3.8/Raf_Mitra_NatCom2018OptimalScaling_3CatQual_dwdx_colptrs.o build/temp.linux-x86_64-3.8/Raf_Mitra_NatCom2018OptimalScaling_3CatQual_xdot.o build/temp.linux-x86_64-3.8/Raf_Mitra_NatCom2018OptimalScaling_3CatQual_dxdotdp_implicit_colptrs.o build/temp.linux-x86_64-3.8/Raf_Mitra_NatCom2018OptimalScaling_3CatQual_dxdotdp_explicit.o build/temp.linux-x86_64-3.8/Raf_Mitra_NatCom2018OptimalScaling_3CatQual_JSparseB.o build/temp.linux-x86_64-3.8/Raf_Mitra_NatCom2018OptimalScaling_3CatQual_dxdotdw_colptrs.o build/temp.linux-x86_64-3.8/Raf_Mitra_NatCom2018OptimalScaling_3CatQual_J.o build/temp.linux-x86_64-3.8/Raf_Mitra_NatCom2018OptimalScaling_3CatQual_JSparse_colptrs.o build/temp.linux-x86_64-3.8/Raf_Mitra_NatCom2018OptimalScaling_3CatQual_x0_fixedParameters.o build/temp.linux-x86_64-3.8/Raf_Mitra_NatCom2018OptimalScaling_3CatQual_Jy.o build/temp.linux-x86_64-3.8/wrapfunctions.o build/temp.linux-x86_64-3.8/Raf_Mitra_NatCom2018OptimalScaling_3CatQual_x0.o build/temp.linux-x86_64-3.8/Raf_Mitra_NatCom2018OptimalScaling_3CatQual_dydx.o build/temp.linux-x86_64-3.8/Raf_Mitra_NatCom2018OptimalScaling_3CatQual_dxdotdp_explicit_rowvals.o build/temp.linux-x86_64-3.8/Raf_Mitra_NatCom2018OptimalScaling_3CatQual_JSparseB_colptrs.o build/temp.linux-x86_64-3.8/Raf_Mitra_NatCom2018OptimalScaling_3CatQual_x_solver.o build/temp.linux-x86_64-3.8/Raf_Mitra_NatCom2018OptimalScaling_3CatQual_dwdp_colptrs.o build/temp.linux-x86_64-3.8/Raf_Mitra_NatCom2018OptimalScaling_3CatQual_sigmay.o build/temp.linux-x86_64-3.8/Raf_Mitra_NatCom2018OptimalScaling_3CatQual_dwdp_rowvals.o build/temp.linux-x86_64-3.8/Raf_Mitra_NatCom2018OptimalScaling_3CatQual_w.o build/temp.linux-x86_64-3.8/Raf_Mitra_NatCom2018OptimalScaling_3CatQual_JSparse_rowvals.o build/temp.linux-x86_64-3.8/Raf_Mitra_NatCom2018OptimalScaling_3CatQual_dwdx.o build/temp.linux-x86_64-3.8/Raf_Mitra_NatCom2018OptimalScaling_3CatQual_dwdx_rowvals.o build/temp.linux-x86_64-3.8/Raf_Mitra_NatCom2018OptimalScaling_3CatQual_dxdotdp_explicit_colptrs.o build/temp.linux-x86_64-3.8/Raf_Mitra_NatCom2018OptimalScaling_3CatQual_dydp.o build/temp.linux-x86_64-3.8/Raf_Mitra_NatCom2018OptimalScaling_3CatQual_dxdotdw.o build/temp.linux-x86_64-3.8/Raf_Mitra_NatCom2018OptimalScaling_3CatQual_JSparseB_rowvals.o build/temp.linux-x86_64-3.8/Raf_Mitra_NatCom2018OptimalScaling_3CatQual_JB.o build/temp.linux-x86_64-3.8/Raf_Mitra_NatCom2018OptimalScaling_3CatQual_dwdp.o build/temp.linux-x86_64-3.8/Raf_Mitra_NatCom2018OptimalScaling_3CatQual_JSparse.o build/temp.linux-x86_64-3.8/Raf_Mitra_NatCom2018OptimalScaling_3CatQual_dxdotdp_implicit_rowvals.o build/temp.linux-x86_64-3.8/Raf_Mitra_NatCom2018OptimalScaling_3CatQual_y.o build/temp.linux-x86_64-3.8/Raf_Mitra_NatCom2018OptimalScaling_3CatQual_sx0.o build/temp.linux-x86_64-3.8/Raf_Mitra_NatCom2018OptimalScaling_3CatQual_JDiag.o build/temp.linux-x86_64-3.8/Raf_Mitra_NatCom2018OptimalScaling_3CatQual_dJydsigmay.o build/temp.linux-x86_64-3.8/Raf_Mitra_NatCom2018OptimalScaling_3CatQual_sx0_fixedParameters.o build/temp.linux-x86_64-3.8/Raf_Mitra_NatCom2018OptimalScaling_3CatQual_dJydy_colptrs.o -L/usr/lib/x86_64-linux-gnu/hdf5/serial -L/home/leonard/Anaconda/envs/qualitative/lib/python3.8/site-packages/amici/libs -lamici -lsundials -lsuitesparse -lcblas -lhdf5_hl_cpp -lhdf5_hl -lhdf5_cpp -lhdf5 -o /home/leonard/Documents/projects/pypesto_qualitative/pyPESTO/doc/example/amici_models/Raf_Mitra_NatCom2018OptimalScaling_3CatQual/Raf_Mitra_NatCom2018OptimalScaling_3CatQual/_Raf_Mitra_NatCom2018OptimalScaling_3CatQual.cpython-38-x86_64-linux-gnu.so\n",
      "\n"
     ]
    }
   ],
   "source": [
    "petab_folder = './example_qualitative/'\n",
    "yaml_file = 'Raf_Mitra_NatCom2018.yaml'\n",
    "\n",
    "petab_problem = petab.Problem.from_yaml(petab_folder + yaml_file)\n",
    "\n",
    "importer = pypesto.petab.PetabImporter(petab_problem)\n",
    "\n",
    "model = importer.create_model()"
   ]
  },
  {
   "cell_type": "code",
   "execution_count": 7,
   "metadata": {},
   "outputs": [],
   "source": [
    "# To allow for hierarchical optimization, set hierarchical=True, when creating the objective\n",
    "\n",
    "objective = importer.create_objective(hierarchical=True)\n",
    "problem = importer.create_problem(objective)\n",
    "\n",
    "engine = pypesto.engine.SingleCoreEngine()\n",
    "\n",
    "# pypesto.logging.log_to_console(logging.INFO)\n",
    "\n",
    "optimizer = optimize.ScipyOptimizer(method='Nelder-Mead',\n",
    "                                   options={'disp': True, 'maxiter': 500, 'maxfev': 500, 'fatol': 1e-10})\n",
    "\n",
    "n_starts = 10"
   ]
  },
  {
   "cell_type": "markdown",
   "metadata": {},
   "source": [
    "## Run optimization using optimal scaling approach"
   ]
  },
  {
   "cell_type": "markdown",
   "metadata": {},
   "source": [
    "Different options can be used for the optimal scaling approach:\n",
    "- method: `standard` / `reduced`\n",
    "- reparameterized: `True` / `False`\n",
    "- intervalConstraints: `max` / `max-min`\n",
    "- minGap: Any float value\n",
    "\n",
    "It is recommended to use the reduced method with reparameterization as it is the most efficient and robust choice.\n",
    "\n",
    "When no options are provided, the default is the reduced and reparameterized formulation with max as interval constraint and `minGap=1e-10`."
   ]
  },
  {
   "cell_type": "markdown",
   "metadata": {},
   "source": [
    "### Run optimization using the reduced and reparameterized approach"
   ]
  },
  {
   "cell_type": "code",
   "execution_count": 9,
   "metadata": {
    "scrolled": true
   },
   "outputs": [
    {
     "name": "stdout",
     "output_type": "stream",
     "text": [
      "Optimization terminated successfully.\n",
      "         Current function value: 0.000000\n",
      "         Iterations: 13\n",
      "         Function evaluations: 51\n",
      "Optimization terminated successfully.\n",
      "         Current function value: 0.000000\n",
      "         Iterations: 11\n",
      "         Function evaluations: 43\n",
      "Optimization terminated successfully.\n",
      "         Current function value: 0.000000\n",
      "         Iterations: 12\n",
      "         Function evaluations: 47\n",
      "Optimization terminated successfully.\n",
      "         Current function value: 0.000000\n",
      "         Iterations: 12\n",
      "         Function evaluations: 47\n",
      "Optimization terminated successfully.\n",
      "         Current function value: 0.000000\n",
      "         Iterations: 10\n",
      "         Function evaluations: 39\n",
      "Optimization terminated successfully.\n",
      "         Current function value: 0.000000\n",
      "         Iterations: 12\n",
      "         Function evaluations: 47\n",
      "Optimization terminated successfully.\n",
      "         Current function value: 0.000000\n",
      "         Iterations: 11\n",
      "         Function evaluations: 43\n",
      "Optimization terminated successfully.\n",
      "         Current function value: 0.000000\n",
      "         Iterations: 13\n",
      "         Function evaluations: 51\n",
      "Optimization terminated successfully.\n",
      "         Current function value: 0.000000\n",
      "         Iterations: 13\n",
      "         Function evaluations: 51\n",
      "Optimization terminated successfully.\n",
      "         Current function value: 0.000000\n",
      "         Iterations: 12\n",
      "         Function evaluations: 47\n"
     ]
    }
   ],
   "source": [
    "problem.objective.calculator.inner_solver = OptimalScalingInnerSolver(options={'method': 'reduced',\n",
    "                                                                               'reparameterized': True,\n",
    "                                                                               'intervalConstraints': 'max',\n",
    "                                                                               'minGap': 1e-10})\n",
    "\n",
    "res_reduced_reparameterized = optimize.minimize(problem, n_starts=n_starts, optimizer=optimizer, engine=engine)"
   ]
  },
  {
   "cell_type": "markdown",
   "metadata": {},
   "source": [
    "### Run optimization using the reduced non-reparameterized approach"
   ]
  },
  {
   "cell_type": "code",
   "execution_count": 11,
   "metadata": {},
   "outputs": [
    {
     "name": "stdout",
     "output_type": "stream",
     "text": [
      "Optimization terminated successfully.\n",
      "         Current function value: 0.000000\n",
      "         Iterations: 12\n",
      "         Function evaluations: 47\n",
      "Optimization terminated successfully.\n",
      "         Current function value: 0.000000\n",
      "         Iterations: 12\n",
      "         Function evaluations: 47\n",
      "Optimization terminated successfully.\n",
      "         Current function value: 0.000000\n",
      "         Iterations: 11\n",
      "         Function evaluations: 43\n",
      "Optimization terminated successfully.\n",
      "         Current function value: 0.000000\n",
      "         Iterations: 11\n",
      "         Function evaluations: 43\n",
      "Optimization terminated successfully.\n",
      "         Current function value: 0.000000\n",
      "         Iterations: 13\n",
      "         Function evaluations: 51\n",
      "Optimization terminated successfully.\n",
      "         Current function value: 0.000000\n",
      "         Iterations: 13\n",
      "         Function evaluations: 51\n",
      "Optimization terminated successfully.\n",
      "         Current function value: 0.000000\n",
      "         Iterations: 13\n",
      "         Function evaluations: 51\n",
      "Optimization terminated successfully.\n",
      "         Current function value: 0.000000\n",
      "         Iterations: 12\n",
      "         Function evaluations: 47\n",
      "Optimization terminated successfully.\n",
      "         Current function value: 0.000000\n",
      "         Iterations: 13\n",
      "         Function evaluations: 51\n",
      "Optimization terminated successfully.\n",
      "         Current function value: 0.000000\n",
      "         Iterations: 12\n",
      "         Function evaluations: 47\n"
     ]
    }
   ],
   "source": [
    "problem.objective.calculator.inner_solver = OptimalScalingInnerSolver(options={'method': 'reduced',\n",
    "                                                                               'reparameterized': False,\n",
    "                                                                               'intervalConstraints': 'max',\n",
    "                                                                               'minGap': 1e-10})\n",
    "\n",
    "res_reduced = optimize.minimize(problem, n_starts=n_starts, optimizer=optimizer, engine=engine)"
   ]
  },
  {
   "cell_type": "markdown",
   "metadata": {},
   "source": [
    "### Run optimization using the standard approach"
   ]
  },
  {
   "cell_type": "code",
   "execution_count": null,
   "metadata": {},
   "outputs": [
    {
     "name": "stdout",
     "output_type": "stream",
     "text": [
      "Optimization terminated successfully.\n",
      "         Current function value: 0.000000\n",
      "         Iterations: 20\n",
      "         Function evaluations: 58\n",
      "Optimization terminated successfully.\n",
      "         Current function value: 0.000000\n",
      "         Iterations: 18\n",
      "         Function evaluations: 51\n",
      "Optimization terminated successfully.\n",
      "         Current function value: 0.000000\n",
      "         Iterations: 20\n",
      "         Function evaluations: 58\n",
      "Optimization terminated successfully.\n",
      "         Current function value: 0.000000\n",
      "         Iterations: 20\n",
      "         Function evaluations: 56\n",
      "Optimization terminated successfully.\n",
      "         Current function value: 0.000000\n",
      "         Iterations: 18\n",
      "         Function evaluations: 49\n"
     ]
    }
   ],
   "source": [
    "problem.objective.calculator.inner_solver = OptimalScalingInnerSolver(options={'method': 'standard',\n",
    "                                                                               'reparameterized': False,\n",
    "                                                                               'intervalConstraints': 'max',\n",
    "                                                                               'minGap': 1e-10})\n",
    "\n",
    "res_standard = optimize.minimize(problem, n_starts=n_starts, optimizer=optimizer, engine=engine)"
   ]
  },
  {
   "cell_type": "markdown",
   "metadata": {},
   "source": [
    "### Compare results"
   ]
  },
  {
   "cell_type": "markdown",
   "metadata": {},
   "source": [
    "Reduced formulation leads to improved computation times"
   ]
  },
  {
   "cell_type": "code",
   "execution_count": null,
   "metadata": {},
   "outputs": [],
   "source": [
    "time_standard = res_standard.optimize_result.get_for_key('time')\n",
    "print(f\"Mean computation time for standard approach: {np.mean(time_standard)}\")\n",
    "\n",
    "time_reduced = res_reduced.optimize_result.get_for_key('time')\n",
    "print(f\"Mean computation time for reduced approach: {np.mean(time_reduced)}\")\n",
    "\n",
    "time_reduced_reparameterized = res_reduced_reparameterized.optimize_result.get_for_key('time')\n",
    "print(f\"Mean computation time for reduced reparameterized approach: {np.mean(time_reduced_reparameterized)}\")"
   ]
  },
  {
   "cell_type": "markdown",
   "metadata": {},
   "source": [
    "All approaches yield the same objective function values"
   ]
  },
  {
   "cell_type": "code",
   "execution_count": null,
   "metadata": {},
   "outputs": [],
   "source": [
    "from pypesto.visualize import waterfall\n",
    "\n",
    "waterfall([res_standard, res_reduced, res_reduced_reparameterized])"
   ]
  }
 ],
 "metadata": {
  "kernelspec": {
   "display_name": "qualitative",
   "language": "python",
   "name": "qualitative"
  },
  "language_info": {
   "codemirror_mode": {
    "name": "ipython",
    "version": 3
   },
   "file_extension": ".py",
   "mimetype": "text/x-python",
   "name": "python",
   "nbconvert_exporter": "python",
   "pygments_lexer": "ipython3",
   "version": "3.8.2"
  }
 },
 "nbformat": 4,
 "nbformat_minor": 2
}
