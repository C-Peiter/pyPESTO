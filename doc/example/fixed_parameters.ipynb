{
 "cells": [
  {
   "cell_type": "markdown",
   "metadata": {},
   "source": [
    "# Fixed parameters"
   ]
  },
  {
   "cell_type": "markdown",
   "metadata": {},
   "source": [
    "In this notebook we will show how to use fixed parameters. Therefore,\n",
    "we employ our Rosenbrock example. We define two problems, where for the\n",
    "first problem all parameters are optimized, and for the second we fix some\n",
    "of them to specified values."
   ]
  },
  {
   "cell_type": "markdown",
   "metadata": {},
   "source": [
    "## Define problem"
   ]
  },
  {
   "cell_type": "code",
   "execution_count": 1,
   "metadata": {},
   "outputs": [],
   "source": [
    "import pypesto\n",
    "import pypesto.visualize\n",
    "import numpy as np\n",
    "import scipy as sp\n",
    "import matplotlib.pyplot as plt\n",
    "\n",
    "%matplotlib inline"
   ]
  },
  {
   "cell_type": "code",
   "execution_count": 2,
   "metadata": {},
   "outputs": [],
   "source": [
    "objective = pypesto.Objective(fun=sp.optimize.rosen, \n",
    "                              grad=sp.optimize.rosen_der, \n",
    "                              hess=sp.optimize.rosen_hess)\n",
    "\n",
    "dim_full = 4\n",
    "lb = -2 * np.ones((dim_full,1))\n",
    "ub = 2 * np.ones((dim_full,1))\n",
    "\n",
    "problem1 = pypesto.Problem(objective=objective, lb=lb, ub=ub)\n",
    "\n",
    "x_fixed_indices = [1, 3]\n",
    "x_fixed_vals = [1, 1]\n",
    "problem2 = pypesto.Problem(objective=objective, lb=lb, ub=ub,\n",
    "                           x_fixed_indices=x_fixed_indices,\n",
    "                           x_fixed_vals=x_fixed_vals)"
   ]
  },
  {
   "cell_type": "markdown",
   "metadata": {},
   "source": [
    "## Optimize"
   ]
  },
  {
   "cell_type": "code",
   "execution_count": 3,
   "metadata": {},
   "outputs": [
    {
     "name": "stderr",
     "output_type": "stream",
     "text": [
      "/home/yannik/yenv/lib/python3.6/site-packages/scipy/optimize/_minimize.py:507: RuntimeWarning: Method L-BFGS-B does not use Hessian information (hess).\n",
      "  RuntimeWarning)\n",
      "/home/yannik/yenv/lib/python3.6/site-packages/scipy/optimize/_minimize.py:513: RuntimeWarning: Method L-BFGS-B does not use Hessian-vector product information (hessp).\n",
      "  'information (hessp).' % method, RuntimeWarning)\n"
     ]
    }
   ],
   "source": [
    "optimizer = pypesto.ScipyOptimizer()\n",
    "n_starts = 10\n",
    "\n",
    "result1 = pypesto.minimize(problem=problem1, optimizer=optimizer, \n",
    "                           n_starts=n_starts)\n",
    "result2 = pypesto.minimize(problem=problem2, optimizer=optimizer, \n",
    "                           n_starts=n_starts)"
   ]
  },
  {
   "cell_type": "markdown",
   "metadata": {},
   "source": [
    "## Visualize"
   ]
  },
  {
   "cell_type": "code",
   "execution_count": 4,
   "metadata": {},
   "outputs": [
    {
     "data": {
      "text/plain": [
       "<matplotlib.axes._subplots.AxesSubplot at 0x7f273687cb70>"
      ]
     },
     "execution_count": 4,
     "metadata": {},
     "output_type": "execute_result"
    },
    {
     "data": {
      "image/png": "[encoded data removed]",
      "text/plain": [
       "<Figure size 432x288 with 1 Axes>"
      ]
     },
     "metadata": {},
     "output_type": "display_data"
    }
   ],
   "source": [
    "fig, ax = plt.subplots()\n",
    "pypesto.visualize.waterfall(result1, ax)\n",
    "pypesto.visualize.waterfall(result2, ax)"
   ]
  },
  {
   "cell_type": "code",
   "execution_count": 5,
   "metadata": {},
   "outputs": [
    {
     "data": {
      "text/html": [
       "<style  type=\"text/css\" >\n",
       "</style>  \n",
       "<table id=\"T_1bab7e7c_ac43_11e8_8325_0800273a66c7\" > \n",
       "<thead>    <tr> \n",
       "        <th class=\"blank level0\" ></th> \n",
       "        <th class=\"col_heading level0 col0\" >fval</th> \n",
       "        <th class=\"col_heading level0 col1\" >grad</th> \n",
       "        <th class=\"col_heading level0 col2\" >x</th> \n",
       "    </tr></thead> \n",
       "<tbody>    <tr> \n",
       "        <th id=\"T_1bab7e7c_ac43_11e8_8325_0800273a66c7level0_row0\" class=\"row_heading level0 row0\" >0</th> \n",
       "        <td id=\"T_1bab7e7c_ac43_11e8_8325_0800273a66c7row0_col0\" class=\"data row0 col0\" >1.0569220914308164e-18</td> \n",
       "        <td id=\"T_1bab7e7c_ac43_11e8_8325_0800273a66c7row0_col1\" class=\"data row0 col1\" >[-2.10989e-08 -1.71099e-08 -2.90967e-09  8.72693e-09]</td> \n",
       "        <td id=\"T_1bab7e7c_ac43_11e8_8325_0800273a66c7row0_col2\" class=\"data row0 col2\" >[1. 1. 1. 1.]</td> \n",
       "    </tr>    <tr> \n",
       "        <th id=\"T_1bab7e7c_ac43_11e8_8325_0800273a66c7level0_row1\" class=\"row_heading level0 row1\" >1</th> \n",
       "        <td id=\"T_1bab7e7c_ac43_11e8_8325_0800273a66c7row1_col0\" class=\"data row1 col0\" >1.956253126882659e-17</td> \n",
       "        <td id=\"T_1bab7e7c_ac43_11e8_8325_0800273a66c7row1_col1\" class=\"data row1 col1\" >[-8.01486e-08 -7.72777e-08  1.23248e-07 -3.46881e-08]</td> \n",
       "        <td id=\"T_1bab7e7c_ac43_11e8_8325_0800273a66c7row1_col2\" class=\"data row1 col2\" >[1. 1. 1. 1.]</td> \n",
       "    </tr>    <tr> \n",
       "        <th id=\"T_1bab7e7c_ac43_11e8_8325_0800273a66c7level0_row2\" class=\"row_heading level0 row2\" >2</th> \n",
       "        <td id=\"T_1bab7e7c_ac43_11e8_8325_0800273a66c7row2_col0\" class=\"data row2 col0\" >2.0558027773437272e-13</td> \n",
       "        <td id=\"T_1bab7e7c_ac43_11e8_8325_0800273a66c7row2_col1\" class=\"data row2 col1\" >[-1.32548e-05 -4.55375e-06  1.05213e-05 -2.53357e-06]</td> \n",
       "        <td id=\"T_1bab7e7c_ac43_11e8_8325_0800273a66c7row2_col2\" class=\"data row2 col2\" >[1. 1. 1. 1.]</td> \n",
       "    </tr>    <tr> \n",
       "        <th id=\"T_1bab7e7c_ac43_11e8_8325_0800273a66c7level0_row3\" class=\"row_heading level0 row3\" >3</th> \n",
       "        <td id=\"T_1bab7e7c_ac43_11e8_8325_0800273a66c7row3_col0\" class=\"data row3 col0\" >5.09155818959299e-12</td> \n",
       "        <td id=\"T_1bab7e7c_ac43_11e8_8325_0800273a66c7row3_col1\" class=\"data row3 col1\" >[-1.86681e-05 -5.41202e-05 -2.00481e-05  2.47883e-05]</td> \n",
       "        <td id=\"T_1bab7e7c_ac43_11e8_8325_0800273a66c7row3_col2\" class=\"data row3 col2\" >[1. 1. 1. 1.]</td> \n",
       "    </tr>    <tr> \n",
       "        <th id=\"T_1bab7e7c_ac43_11e8_8325_0800273a66c7level0_row4\" class=\"row_heading level0 row4\" >4</th> \n",
       "        <td id=\"T_1bab7e7c_ac43_11e8_8325_0800273a66c7row4_col0\" class=\"data row4 col0\" >5.7530085083502776e-11</td> \n",
       "        <td id=\"T_1bab7e7c_ac43_11e8_8325_0800273a66c7row4_col1\" class=\"data row4 col1\" >[-1.08324e-04 -1.03510e-05 -9.38280e-05  6.97772e-05]</td> \n",
       "        <td id=\"T_1bab7e7c_ac43_11e8_8325_0800273a66c7row4_col2\" class=\"data row4 col2\" >[1.      1.      1.00001 1.00001]</td> \n",
       "    </tr>    <tr> \n",
       "        <th id=\"T_1bab7e7c_ac43_11e8_8325_0800273a66c7level0_row5\" class=\"row_heading level0 row5\" >5</th> \n",
       "        <td id=\"T_1bab7e7c_ac43_11e8_8325_0800273a66c7row5_col0\" class=\"data row5 col0\" >3.701428610430573</td> \n",
       "        <td id=\"T_1bab7e7c_ac43_11e8_8325_0800273a66c7row5_col1\" class=\"data row5 col1\" >[ 1.24397e-05  1.52071e-05 -6.27478e-07 -7.58407e-06]</td> \n",
       "        <td id=\"T_1bab7e7c_ac43_11e8_8325_0800273a66c7row5_col2\" class=\"data row5 col2\" >[-0.77566  0.61309  0.38206  0.14597]</td> \n",
       "    </tr>    <tr> \n",
       "        <th id=\"T_1bab7e7c_ac43_11e8_8325_0800273a66c7level0_row6\" class=\"row_heading level0 row6\" >6</th> \n",
       "        <td id=\"T_1bab7e7c_ac43_11e8_8325_0800273a66c7row6_col0\" class=\"data row6 col0\" >3.701428610431109</td> \n",
       "        <td id=\"T_1bab7e7c_ac43_11e8_8325_0800273a66c7row6_col1\" class=\"data row6 col1\" >[ 8.52346e-07 -1.89078e-06 -2.05533e-06  3.44710e-06]</td> \n",
       "        <td id=\"T_1bab7e7c_ac43_11e8_8325_0800273a66c7row6_col2\" class=\"data row6 col2\" >[-0.77566  0.61309  0.38206  0.14597]</td> \n",
       "    </tr>    <tr> \n",
       "        <th id=\"T_1bab7e7c_ac43_11e8_8325_0800273a66c7level0_row7\" class=\"row_heading level0 row7\" >7</th> \n",
       "        <td id=\"T_1bab7e7c_ac43_11e8_8325_0800273a66c7row7_col0\" class=\"data row7 col0\" >3.7014286104332013</td> \n",
       "        <td id=\"T_1bab7e7c_ac43_11e8_8325_0800273a66c7row7_col1\" class=\"data row7 col1\" >[-7.49929e-06  3.33922e-05 -3.32668e-05  1.00230e-06]</td> \n",
       "        <td id=\"T_1bab7e7c_ac43_11e8_8325_0800273a66c7row7_col2\" class=\"data row7 col2\" >[-0.77566  0.61309  0.38206  0.14597]</td> \n",
       "    </tr>    <tr> \n",
       "        <th id=\"T_1bab7e7c_ac43_11e8_8325_0800273a66c7level0_row8\" class=\"row_heading level0 row8\" >8</th> \n",
       "        <td id=\"T_1bab7e7c_ac43_11e8_8325_0800273a66c7row8_col0\" class=\"data row8 col0\" >3.7014286104334087</td> \n",
       "        <td id=\"T_1bab7e7c_ac43_11e8_8325_0800273a66c7row8_col1\" class=\"data row8 col1\" >[-3.06513e-06  1.34255e-05  1.53188e-06 -2.10301e-05]</td> \n",
       "        <td id=\"T_1bab7e7c_ac43_11e8_8325_0800273a66c7row8_col2\" class=\"data row8 col2\" >[-0.77566  0.61309  0.38206  0.14597]</td> \n",
       "    </tr>    <tr> \n",
       "        <th id=\"T_1bab7e7c_ac43_11e8_8325_0800273a66c7level0_row9\" class=\"row_heading level0 row9\" >9</th> \n",
       "        <td id=\"T_1bab7e7c_ac43_11e8_8325_0800273a66c7row9_col0\" class=\"data row9 col0\" >3.70142861044379</td> \n",
       "        <td id=\"T_1bab7e7c_ac43_11e8_8325_0800273a66c7row9_col1\" class=\"data row9 col1\" >[-3.89360e-05  5.67910e-05 -8.18518e-05  1.93193e-05]</td> \n",
       "        <td id=\"T_1bab7e7c_ac43_11e8_8325_0800273a66c7row9_col2\" class=\"data row9 col2\" >[-0.77566  0.61309  0.38206  0.14597]</td> \n",
       "    </tr></tbody> \n",
       "</table> "
      ],
      "text/plain": [
       "<pandas.io.formats.style.Styler at 0x7f273687c278>"
      ]
     },
     "execution_count": 5,
     "metadata": {},
     "output_type": "execute_result"
    }
   ],
   "source": [
    "np.set_printoptions(precision=5)\n",
    "df = result1.optimize_result.as_dataframe(['fval', 'x', 'grad'])\n",
    "df.style.format(lambda x: x)"
   ]
  },
  {
   "cell_type": "code",
   "execution_count": 6,
   "metadata": {},
   "outputs": [
    {
     "data": {
      "text/html": [
       "<style  type=\"text/css\" >\n",
       "</style>  \n",
       "<table id=\"T_1bab7e7d_ac43_11e8_8325_0800273a66c7\" > \n",
       "<thead>    <tr> \n",
       "        <th class=\"blank level0\" ></th> \n",
       "        <th class=\"col_heading level0 col0\" >fval</th> \n",
       "        <th class=\"col_heading level0 col1\" >grad</th> \n",
       "        <th class=\"col_heading level0 col2\" >x</th> \n",
       "    </tr></thead> \n",
       "<tbody>    <tr> \n",
       "        <th id=\"T_1bab7e7d_ac43_11e8_8325_0800273a66c7level0_row0\" class=\"row_heading level0 row0\" >0</th> \n",
       "        <td id=\"T_1bab7e7d_ac43_11e8_8325_0800273a66c7row0_col0\" class=\"data row0 col0\" >9.22163e-18</td> \n",
       "        <td id=\"T_1bab7e7d_ac43_11e8_8325_0800273a66c7row0_col1\" class=\"data row0 col1\" >[-7.13881e-08          nan -1.10059e-07          nan]</td> \n",
       "        <td id=\"T_1bab7e7d_ac43_11e8_8325_0800273a66c7row0_col2\" class=\"data row0 col2\" >[1. 1. 1. 1.]</td> \n",
       "    </tr>    <tr> \n",
       "        <th id=\"T_1bab7e7d_ac43_11e8_8325_0800273a66c7level0_row1\" class=\"row_heading level0 row1\" >1</th> \n",
       "        <td id=\"T_1bab7e7d_ac43_11e8_8325_0800273a66c7row1_col0\" class=\"data row1 col0\" >1.68778e-17</td> \n",
       "        <td id=\"T_1bab7e7d_ac43_11e8_8325_0800273a66c7row1_col1\" class=\"data row1 col1\" >[ 1.62595e-07          nan -2.81623e-08          nan]</td> \n",
       "        <td id=\"T_1bab7e7d_ac43_11e8_8325_0800273a66c7row1_col2\" class=\"data row1 col2\" >[1. 1. 1. 1.]</td> \n",
       "    </tr>    <tr> \n",
       "        <th id=\"T_1bab7e7d_ac43_11e8_8325_0800273a66c7level0_row2\" class=\"row_heading level0 row2\" >2</th> \n",
       "        <td id=\"T_1bab7e7d_ac43_11e8_8325_0800273a66c7row2_col0\" class=\"data row2 col0\" >1.24949e-16</td> \n",
       "        <td id=\"T_1bab7e7d_ac43_11e8_8325_0800273a66c7row2_col1\" class=\"data row2 col1\" >[-3.69805e-07          nan -2.82024e-07          nan]</td> \n",
       "        <td id=\"T_1bab7e7d_ac43_11e8_8325_0800273a66c7row2_col2\" class=\"data row2 col2\" >[1. 1. 1. 1.]</td> \n",
       "    </tr>    <tr> \n",
       "        <th id=\"T_1bab7e7d_ac43_11e8_8325_0800273a66c7level0_row3\" class=\"row_heading level0 row3\" >3</th> \n",
       "        <td id=\"T_1bab7e7d_ac43_11e8_8325_0800273a66c7row3_col0\" class=\"data row3 col0\" >1.72652e-16</td> \n",
       "        <td id=\"T_1bab7e7d_ac43_11e8_8325_0800273a66c7row3_col1\" class=\"data row3 col1\" >[-4.63429e-07          nan -2.78694e-07          nan]</td> \n",
       "        <td id=\"T_1bab7e7d_ac43_11e8_8325_0800273a66c7row3_col2\" class=\"data row3 col2\" >[1. 1. 1. 1.]</td> \n",
       "    </tr>    <tr> \n",
       "        <th id=\"T_1bab7e7d_ac43_11e8_8325_0800273a66c7level0_row4\" class=\"row_heading level0 row4\" >4</th> \n",
       "        <td id=\"T_1bab7e7d_ac43_11e8_8325_0800273a66c7row4_col0\" class=\"data row4 col0\" >3.98997</td> \n",
       "        <td id=\"T_1bab7e7d_ac43_11e8_8325_0800273a66c7row4_col1\" class=\"data row4 col1\" >[-2.09822e-08          nan  2.79248e-07          nan]</td> \n",
       "        <td id=\"T_1bab7e7d_ac43_11e8_8325_0800273a66c7row4_col2\" class=\"data row4 col2\" >[-0.99497  1.       1.       1.     ]</td> \n",
       "    </tr>    <tr> \n",
       "        <th id=\"T_1bab7e7d_ac43_11e8_8325_0800273a66c7level0_row5\" class=\"row_heading level0 row5\" >5</th> \n",
       "        <td id=\"T_1bab7e7d_ac43_11e8_8325_0800273a66c7row5_col0\" class=\"data row5 col0\" >3.98997</td> \n",
       "        <td id=\"T_1bab7e7d_ac43_11e8_8325_0800273a66c7row5_col1\" class=\"data row5 col1\" >[ 4.04279e-10          nan -7.81247e-08          nan]</td> \n",
       "        <td id=\"T_1bab7e7d_ac43_11e8_8325_0800273a66c7row5_col2\" class=\"data row5 col2\" >[-0.99497  1.       1.       1.     ]</td> \n",
       "    </tr>    <tr> \n",
       "        <th id=\"T_1bab7e7d_ac43_11e8_8325_0800273a66c7level0_row6\" class=\"row_heading level0 row6\" >6</th> \n",
       "        <td id=\"T_1bab7e7d_ac43_11e8_8325_0800273a66c7row6_col0\" class=\"data row6 col0\" >3.98997</td> \n",
       "        <td id=\"T_1bab7e7d_ac43_11e8_8325_0800273a66c7row6_col1\" class=\"data row6 col1\" >[ 1.29993e-07          nan -2.55683e-08          nan]</td> \n",
       "        <td id=\"T_1bab7e7d_ac43_11e8_8325_0800273a66c7row6_col2\" class=\"data row6 col2\" >[-0.99497  1.       1.       1.     ]</td> \n",
       "    </tr>    <tr> \n",
       "        <th id=\"T_1bab7e7d_ac43_11e8_8325_0800273a66c7level0_row7\" class=\"row_heading level0 row7\" >7</th> \n",
       "        <td id=\"T_1bab7e7d_ac43_11e8_8325_0800273a66c7row7_col0\" class=\"data row7 col0\" >3.98997</td> \n",
       "        <td id=\"T_1bab7e7d_ac43_11e8_8325_0800273a66c7row7_col1\" class=\"data row7 col1\" >[4.37022e-07         nan 4.14762e-07         nan]</td> \n",
       "        <td id=\"T_1bab7e7d_ac43_11e8_8325_0800273a66c7row7_col2\" class=\"data row7 col2\" >[-0.99497  1.       1.       1.     ]</td> \n",
       "    </tr>    <tr> \n",
       "        <th id=\"T_1bab7e7d_ac43_11e8_8325_0800273a66c7level0_row8\" class=\"row_heading level0 row8\" >8</th> \n",
       "        <td id=\"T_1bab7e7d_ac43_11e8_8325_0800273a66c7row8_col0\" class=\"data row8 col0\" >3.98997</td> \n",
       "        <td id=\"T_1bab7e7d_ac43_11e8_8325_0800273a66c7row8_col1\" class=\"data row8 col1\" >[ 1.33709e-06          nan -8.65618e-07          nan]</td> \n",
       "        <td id=\"T_1bab7e7d_ac43_11e8_8325_0800273a66c7row8_col2\" class=\"data row8 col2\" >[-0.99497  1.       1.       1.     ]</td> \n",
       "    </tr>    <tr> \n",
       "        <th id=\"T_1bab7e7d_ac43_11e8_8325_0800273a66c7level0_row9\" class=\"row_heading level0 row9\" >9</th> \n",
       "        <td id=\"T_1bab7e7d_ac43_11e8_8325_0800273a66c7row9_col0\" class=\"data row9 col0\" >3.98997</td> \n",
       "        <td id=\"T_1bab7e7d_ac43_11e8_8325_0800273a66c7row9_col1\" class=\"data row9 col1\" >[-5.52269e-06          nan -3.34987e-07          nan]</td> \n",
       "        <td id=\"T_1bab7e7d_ac43_11e8_8325_0800273a66c7row9_col2\" class=\"data row9 col2\" >[-0.99497  1.       1.       1.     ]</td> \n",
       "    </tr></tbody> \n",
       "</table> "
      ],
      "text/plain": [
       "<pandas.io.formats.style.Styler at 0x7f276828ce80>"
      ]
     },
     "execution_count": 6,
     "metadata": {},
     "output_type": "execute_result"
    }
   ],
   "source": [
    "df = result2.optimize_result.as_dataframe(['fval', 'x', 'grad'])\n",
    "df.style.format({'grad': lambda x: x})"
   ]
  }
 ],
 "metadata": {
  "kernelspec": {
   "display_name": "Python 3",
   "language": "python",
   "name": "python3"
  },
  "language_info": {
   "codemirror_mode": {
    "name": "ipython",
    "version": 3
   },
   "file_extension": ".py",
   "mimetype": "text/x-python",
   "name": "python",
   "nbconvert_exporter": "python",
   "pygments_lexer": "ipython3",
   "version": "3.6.5"
  }
 },
 "nbformat": 4,
 "nbformat_minor": 2
}
