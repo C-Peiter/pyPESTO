{
 "cells": [
  {
   "cell_type": "markdown",
   "metadata": {},
   "source": [
    "# Fixed parameters"
   ]
  },
  {
   "cell_type": "markdown",
   "metadata": {},
   "source": [
    "In this notebook we will show how to use fixed parameters. Therefore,\n",
    "we employ our Rosenbrock example. We define two problems, where for the\n",
    "first problem all parameters are optimized, and for the second we fix some\n",
    "of them to specified values."
   ]
  },
  {
   "cell_type": "markdown",
   "metadata": {},
   "source": [
    "## Define problem"
   ]
  },
  {
   "cell_type": "code",
   "execution_count": 1,
   "metadata": {},
   "outputs": [],
   "source": [
    "import pypesto\n",
    "import pypesto.visualize\n",
    "import numpy as np\n",
    "import scipy as sp\n",
    "import matplotlib.pyplot as plt\n",
    "\n",
    "%matplotlib inline"
   ]
  },
  {
   "cell_type": "code",
   "execution_count": 2,
   "metadata": {},
   "outputs": [],
   "source": [
    "objective = pypesto.Objective(fun=sp.optimize.rosen, \n",
    "                              grad=sp.optimize.rosen_der, \n",
    "                              hess=sp.optimize.rosen_hess)\n",
    "\n",
    "dim_full = 4\n",
    "lb = -2 * np.ones((dim_full,1))\n",
    "ub = 2 * np.ones((dim_full,1))\n",
    "\n",
    "problem1 = pypesto.Problem(objective=objective, lb=lb, ub=ub)\n",
    "\n",
    "x_fixed_indices = [1, 3]\n",
    "x_fixed_vals = [1, 1]\n",
    "problem2 = pypesto.Problem(objective=objective, lb=lb, ub=ub,\n",
    "                           x_fixed_indices=x_fixed_indices,\n",
    "                           x_fixed_vals=x_fixed_vals)"
   ]
  },
  {
   "cell_type": "markdown",
   "metadata": {},
   "source": [
    "## Optimize"
   ]
  },
  {
   "cell_type": "code",
   "execution_count": 3,
   "metadata": {},
   "outputs": [],
   "source": [
    "optimizer = pypesto.ScipyOptimizer()\n",
    "n_starts = 10\n",
    "\n",
    "result1 = pypesto.minimize(problem=problem1, optimizer=optimizer, \n",
    "                           n_starts=n_starts)\n",
    "result2 = pypesto.minimize(problem=problem2, optimizer=optimizer, \n",
    "                           n_starts=n_starts)"
   ]
  },
  {
   "cell_type": "markdown",
   "metadata": {},
   "source": [
    "## Visualize"
   ]
  },
  {
   "cell_type": "code",
   "execution_count": 4,
   "metadata": {},
   "outputs": [
    {
     "data": {
      "text/plain": [
       "<matplotlib.axes._subplots.AxesSubplot at 0x7fa11ed35e48>"
      ]
     },
     "execution_count": 4,
     "metadata": {},
     "output_type": "execute_result"
    },
    {
     "data": {
      "image/png": "[encoded data removed]",
      "text/plain": [
       "<Figure size 432x288 with 1 Axes>"
      ]
     },
     "metadata": {},
     "output_type": "display_data"
    }
   ],
   "source": [
    "fig, ax = plt.subplots()\n",
    "pypesto.visualize.waterfall(result1, ax)\n",
    "pypesto.visualize.waterfall(result2, ax)"
   ]
  },
  {
   "cell_type": "code",
   "execution_count": 5,
   "metadata": {},
   "outputs": [
    {
     "data": {
      "text/html": [
       "<div>\n",
       "<style scoped>\n",
       "    .dataframe tbody tr th:only-of-type {\n",
       "        vertical-align: middle;\n",
       "    }\n",
       "\n",
       "    .dataframe tbody tr th {\n",
       "        vertical-align: top;\n",
       "    }\n",
       "\n",
       "    .dataframe thead th {\n",
       "        text-align: right;\n",
       "    }\n",
       "</style>\n",
       "<table border=\"1\" class=\"dataframe\">\n",
       "  <thead>\n",
       "    <tr style=\"text-align: right;\">\n",
       "      <th></th>\n",
       "      <th>fval</th>\n",
       "      <th>grad</th>\n",
       "      <th>x</th>\n",
       "    </tr>\n",
       "  </thead>\n",
       "  <tbody>\n",
       "    <tr>\n",
       "      <th>0</th>\n",
       "      <td>1.451214e-15</td>\n",
       "      <td>[4.42201635841552e-08, -7.392823832362652e-07,...</td>\n",
       "      <td>[0.9999999966812451, 0.9999999932353459, 0.999...</td>\n",
       "    </tr>\n",
       "    <tr>\n",
       "      <th>1</th>\n",
       "      <td>2.367551e-15</td>\n",
       "      <td>[-5.2325164545828944e-08, -1.2485916067319346e...</td>\n",
       "      <td>[1.0000000054465776, 1.000000011051201, 1.0000...</td>\n",
       "    </tr>\n",
       "    <tr>\n",
       "      <th>2</th>\n",
       "      <td>4.107198e-15</td>\n",
       "      <td>[2.508209884801095e-06, -1.2687876153983722e-0...</td>\n",
       "      <td>[1.000000002533204, 0.9999999988085495, 0.9999...</td>\n",
       "    </tr>\n",
       "    <tr>\n",
       "      <th>3</th>\n",
       "      <td>3.174533e-14</td>\n",
       "      <td>[2.437123512058238e-06, -6.729074523928455e-06...</td>\n",
       "      <td>[0.9999999968884862, 0.999999987668606, 0.9999...</td>\n",
       "    </tr>\n",
       "    <tr>\n",
       "      <th>4</th>\n",
       "      <td>4.812483e-14</td>\n",
       "      <td>[-2.4171095630675593e-07, -8.369263218376574e-...</td>\n",
       "      <td>[1.0000000336057708, 1.000000067983849, 1.0000...</td>\n",
       "    </tr>\n",
       "    <tr>\n",
       "      <th>5</th>\n",
       "      <td>8.547243e-14</td>\n",
       "      <td>[-2.4800482449782825e-06, -9.984301384241792e-...</td>\n",
       "      <td>[0.999999985775322, 0.9999999776796415, 0.9999...</td>\n",
       "    </tr>\n",
       "    <tr>\n",
       "      <th>6</th>\n",
       "      <td>4.117403e-13</td>\n",
       "      <td>[1.709153623412145e-06, -1.371899404065576e-05...</td>\n",
       "      <td>[0.9999999582005427, 0.9999999119192056, 0.999...</td>\n",
       "    </tr>\n",
       "    <tr>\n",
       "      <th>7</th>\n",
       "      <td>2.391616e-12</td>\n",
       "      <td>[6.5592641449613e-07, -4.1063896551486625e-05,...</td>\n",
       "      <td>[1.0000001480157459, 1.0000002951317766, 1.000...</td>\n",
       "    </tr>\n",
       "    <tr>\n",
       "      <th>8</th>\n",
       "      <td>2.655517e-12</td>\n",
       "      <td>[1.6980557465656322e-05, 3.7216860749778654e-0...</td>\n",
       "      <td>[0.9999999045416096, 0.9999997661545386, 0.999...</td>\n",
       "    </tr>\n",
       "    <tr>\n",
       "      <th>9</th>\n",
       "      <td>3.701429e+00</td>\n",
       "      <td>[1.5242108767132834e-05, 1.2848924632713477e-0...</td>\n",
       "      <td>[-0.7756604733907203, 0.6130953384742773, 0.38...</td>\n",
       "    </tr>\n",
       "  </tbody>\n",
       "</table>\n",
       "</div>"
      ],
      "text/plain": [
       "           fval                                               grad  \\\n",
       "0  1.451214e-15  [4.42201635841552e-08, -7.392823832362652e-07,...   \n",
       "1  2.367551e-15  [-5.2325164545828944e-08, -1.2485916067319346e...   \n",
       "2  4.107198e-15  [2.508209884801095e-06, -1.2687876153983722e-0...   \n",
       "3  3.174533e-14  [2.437123512058238e-06, -6.729074523928455e-06...   \n",
       "4  4.812483e-14  [-2.4171095630675593e-07, -8.369263218376574e-...   \n",
       "5  8.547243e-14  [-2.4800482449782825e-06, -9.984301384241792e-...   \n",
       "6  4.117403e-13  [1.709153623412145e-06, -1.371899404065576e-05...   \n",
       "7  2.391616e-12  [6.5592641449613e-07, -4.1063896551486625e-05,...   \n",
       "8  2.655517e-12  [1.6980557465656322e-05, 3.7216860749778654e-0...   \n",
       "9  3.701429e+00  [1.5242108767132834e-05, 1.2848924632713477e-0...   \n",
       "\n",
       "                                                   x  \n",
       "0  [0.9999999966812451, 0.9999999932353459, 0.999...  \n",
       "1  [1.0000000054465776, 1.000000011051201, 1.0000...  \n",
       "2  [1.000000002533204, 0.9999999988085495, 0.9999...  \n",
       "3  [0.9999999968884862, 0.999999987668606, 0.9999...  \n",
       "4  [1.0000000336057708, 1.000000067983849, 1.0000...  \n",
       "5  [0.999999985775322, 0.9999999776796415, 0.9999...  \n",
       "6  [0.9999999582005427, 0.9999999119192056, 0.999...  \n",
       "7  [1.0000001480157459, 1.0000002951317766, 1.000...  \n",
       "8  [0.9999999045416096, 0.9999997661545386, 0.999...  \n",
       "9  [-0.7756604733907203, 0.6130953384742773, 0.38...  "
      ]
     },
     "execution_count": 5,
     "metadata": {},
     "output_type": "execute_result"
    }
   ],
   "source": [
    "result1.optimize_result.as_dataframe(['fval', 'x', 'grad'])"
   ]
  },
  {
   "cell_type": "code",
   "execution_count": 6,
   "metadata": {},
   "outputs": [
    {
     "data": {
      "text/html": [
       "<div>\n",
       "<style scoped>\n",
       "    .dataframe tbody tr th:only-of-type {\n",
       "        vertical-align: middle;\n",
       "    }\n",
       "\n",
       "    .dataframe tbody tr th {\n",
       "        vertical-align: top;\n",
       "    }\n",
       "\n",
       "    .dataframe thead th {\n",
       "        text-align: right;\n",
       "    }\n",
       "</style>\n",
       "<table border=\"1\" class=\"dataframe\">\n",
       "  <thead>\n",
       "    <tr style=\"text-align: right;\">\n",
       "      <th></th>\n",
       "      <th>fval</th>\n",
       "      <th>grad</th>\n",
       "      <th>x</th>\n",
       "    </tr>\n",
       "  </thead>\n",
       "  <tbody>\n",
       "    <tr>\n",
       "      <th>0</th>\n",
       "      <td>1.088189e-17</td>\n",
       "      <td>[3.562414630111836e-08, nan, 1.422032038950340...</td>\n",
       "      <td>[1.0000000000444191, 1.0, 1.0000000001419194, ...</td>\n",
       "    </tr>\n",
       "    <tr>\n",
       "      <th>1</th>\n",
       "      <td>4.050606e-15</td>\n",
       "      <td>[1.163428104429695e-06, nan, 2.535015049667433...</td>\n",
       "      <td>[1.0000000014506585, 1.0, 1.0000000025299551, ...</td>\n",
       "    </tr>\n",
       "    <tr>\n",
       "      <th>2</th>\n",
       "      <td>4.322952e-15</td>\n",
       "      <td>[7.566046836175028e-07, nan, 2.819217881482638...</td>\n",
       "      <td>[1.0000000009433974, 1.0, 1.0000000028135907, ...</td>\n",
       "    </tr>\n",
       "    <tr>\n",
       "      <th>3</th>\n",
       "      <td>3.989975e+00</td>\n",
       "      <td>[-1.7572778565622116e-07, nan, 3.3517410056374...</td>\n",
       "      <td>[-0.994974747053032, 1.0, 1.000000000334505, 1.0]</td>\n",
       "    </tr>\n",
       "    <tr>\n",
       "      <th>4</th>\n",
       "      <td>3.989975e+00</td>\n",
       "      <td>[5.451110629550726e-07, nan, -1.43439017314099...</td>\n",
       "      <td>[-0.9949747461405428, 1.0, 0.9999999998568473,...</td>\n",
       "    </tr>\n",
       "    <tr>\n",
       "      <th>5</th>\n",
       "      <td>3.989975e+00</td>\n",
       "      <td>[2.712661206771827e-10, nan, -1.77620511629656...</td>\n",
       "      <td>[-0.9949747468302399, 1.0, 0.9999999999822734,...</td>\n",
       "    </tr>\n",
       "    <tr>\n",
       "      <th>6</th>\n",
       "      <td>3.989975e+00</td>\n",
       "      <td>[3.7324034130037376e-07, nan, 1.30668277545103...</td>\n",
       "      <td>[-0.994974746358109, 1.0, 1.0000000001304075, ...</td>\n",
       "    </tr>\n",
       "    <tr>\n",
       "      <th>7</th>\n",
       "      <td>3.989975e+00</td>\n",
       "      <td>[3.0230786323137693e-06, nan, -1.6759105480981...</td>\n",
       "      <td>[-0.9949747430037547, 1.0, 0.9999999983274346,...</td>\n",
       "    </tr>\n",
       "    <tr>\n",
       "      <th>8</th>\n",
       "      <td>3.989975e+00</td>\n",
       "      <td>[-1.467471673288756e-05, nan, 3.64759181176149...</td>\n",
       "      <td>[-0.9949747654068861, 1.0, 1.0000000364031103,...</td>\n",
       "    </tr>\n",
       "    <tr>\n",
       "      <th>9</th>\n",
       "      <td>3.989975e+00</td>\n",
       "      <td>[7.630189411411692e-06, nan, 5.908302452679313...</td>\n",
       "      <td>[-0.994974737171745, 1.0, 1.0000000589650901, ...</td>\n",
       "    </tr>\n",
       "  </tbody>\n",
       "</table>\n",
       "</div>"
      ],
      "text/plain": [
       "           fval                                               grad  \\\n",
       "0  1.088189e-17  [3.562414630111836e-08, nan, 1.422032038950340...   \n",
       "1  4.050606e-15  [1.163428104429695e-06, nan, 2.535015049667433...   \n",
       "2  4.322952e-15  [7.566046836175028e-07, nan, 2.819217881482638...   \n",
       "3  3.989975e+00  [-1.7572778565622116e-07, nan, 3.3517410056374...   \n",
       "4  3.989975e+00  [5.451110629550726e-07, nan, -1.43439017314099...   \n",
       "5  3.989975e+00  [2.712661206771827e-10, nan, -1.77620511629656...   \n",
       "6  3.989975e+00  [3.7324034130037376e-07, nan, 1.30668277545103...   \n",
       "7  3.989975e+00  [3.0230786323137693e-06, nan, -1.6759105480981...   \n",
       "8  3.989975e+00  [-1.467471673288756e-05, nan, 3.64759181176149...   \n",
       "9  3.989975e+00  [7.630189411411692e-06, nan, 5.908302452679313...   \n",
       "\n",
       "                                                   x  \n",
       "0  [1.0000000000444191, 1.0, 1.0000000001419194, ...  \n",
       "1  [1.0000000014506585, 1.0, 1.0000000025299551, ...  \n",
       "2  [1.0000000009433974, 1.0, 1.0000000028135907, ...  \n",
       "3  [-0.994974747053032, 1.0, 1.000000000334505, 1.0]  \n",
       "4  [-0.9949747461405428, 1.0, 0.9999999998568473,...  \n",
       "5  [-0.9949747468302399, 1.0, 0.9999999999822734,...  \n",
       "6  [-0.994974746358109, 1.0, 1.0000000001304075, ...  \n",
       "7  [-0.9949747430037547, 1.0, 0.9999999983274346,...  \n",
       "8  [-0.9949747654068861, 1.0, 1.0000000364031103,...  \n",
       "9  [-0.994974737171745, 1.0, 1.0000000589650901, ...  "
      ]
     },
     "execution_count": 6,
     "metadata": {},
     "output_type": "execute_result"
    }
   ],
   "source": [
    "result2.optimize_result.as_dataframe(['fval', 'x', 'grad'])"
   ]
  }
 ],
 "metadata": {
  "kernelspec": {
   "display_name": "Python 3",
   "language": "python",
   "name": "python3"
  },
  "language_info": {
   "codemirror_mode": {
    "name": "ipython",
    "version": 3
   },
   "file_extension": ".py",
   "mimetype": "text/x-python",
   "name": "python",
   "nbconvert_exporter": "python",
   "pygments_lexer": "ipython3",
   "version": "3.6.5"
  }
 },
 "nbformat": 4,
 "nbformat_minor": 2
}
