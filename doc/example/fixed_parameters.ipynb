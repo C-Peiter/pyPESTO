{
 "cells": [
  {
   "cell_type": "markdown",
   "metadata": {},
   "source": [
    "# Fixed parameters"
   ]
  },
  {
   "cell_type": "markdown",
   "metadata": {},
   "source": [
    "In this notebook we will show how to use fixed parameters. Therefore,\n",
    "we employ our Rosenbrock example. We define two problems, where for the\n",
    "first problem all parameters are optimized, and for the second we fix some\n",
    "of them to specified values."
   ]
  },
  {
   "cell_type": "markdown",
   "metadata": {},
   "source": [
    "## Define problem"
   ]
  },
  {
   "cell_type": "code",
   "execution_count": 1,
   "metadata": {},
   "outputs": [],
   "source": [
    "import pypesto\n",
    "import pypesto.visualize\n",
    "import numpy as np\n",
    "import scipy as sp\n",
    "import matplotlib.pyplot as plt\n",
    "\n",
    "%matplotlib inline"
   ]
  },
  {
   "cell_type": "code",
   "execution_count": 2,
   "metadata": {},
   "outputs": [],
   "source": [
    "objective = pypesto.Objective(fun=sp.optimize.rosen, \n",
    "                              grad=sp.optimize.rosen_der, \n",
    "                              hess=sp.optimize.rosen_hess)\n",
    "\n",
    "dim_full = 4\n",
    "lb = -2 * np.ones((dim_full,1))\n",
    "ub = 2 * np.ones((dim_full,1))\n",
    "\n",
    "problem1 = pypesto.Problem(objective=objective, lb=lb, ub=ub)\n",
    "\n",
    "x_fixed_indices = [1, 3]\n",
    "x_fixed_vals = [1, 1]\n",
    "problem2 = pypesto.Problem(objective=objective, lb=lb, ub=ub,\n",
    "                           x_fixed_indices=x_fixed_indices,\n",
    "                           x_fixed_vals=x_fixed_vals)"
   ]
  },
  {
   "cell_type": "markdown",
   "metadata": {},
   "source": [
    "## Optimize"
   ]
  },
  {
   "cell_type": "code",
   "execution_count": 3,
   "metadata": {},
   "outputs": [
    {
     "name": "stderr",
     "output_type": "stream",
     "text": [
      "/home/yannik/yenv/lib/python3.6/site-packages/scipy/optimize/_minimize.py:507: RuntimeWarning: Method L-BFGS-B does not use Hessian information (hess).\n",
      "  RuntimeWarning)\n",
      "/home/yannik/yenv/lib/python3.6/site-packages/scipy/optimize/_minimize.py:513: RuntimeWarning: Method L-BFGS-B does not use Hessian-vector product information (hessp).\n",
      "  'information (hessp).' % method, RuntimeWarning)\n"
     ]
    }
   ],
   "source": [
    "optimizer = pypesto.ScipyOptimizer()\n",
    "n_starts = 10\n",
    "\n",
    "result1 = pypesto.minimize(problem=problem1, optimizer=optimizer, \n",
    "                           n_starts=n_starts)\n",
    "result2 = pypesto.minimize(problem=problem2, optimizer=optimizer, \n",
    "                           n_starts=n_starts)"
   ]
  },
  {
   "cell_type": "markdown",
   "metadata": {},
   "source": [
    "## Visualize"
   ]
  },
  {
   "cell_type": "code",
   "execution_count": 4,
   "metadata": {},
   "outputs": [
    {
     "data": {
      "text/plain": [
       "<matplotlib.axes._subplots.AxesSubplot at 0x7f0ac9f9fc88>"
      ]
     },
     "execution_count": 4,
     "metadata": {},
     "output_type": "execute_result"
    },
    {
     "data": {
      "image/png": "[encoded data removed]",
      "text/plain": [
       "<Figure size 432x288 with 1 Axes>"
      ]
     },
     "metadata": {},
     "output_type": "display_data"
    }
   ],
   "source": [
    "fig, ax = plt.subplots()\n",
    "pypesto.visualize.waterfall(result1, ax)\n",
    "pypesto.visualize.waterfall(result2, ax)"
   ]
  },
  {
   "cell_type": "code",
   "execution_count": 5,
   "metadata": {},
   "outputs": [
    {
     "data": {
      "text/html": [
       "<div>\n",
       "<style scoped>\n",
       "    .dataframe tbody tr th:only-of-type {\n",
       "        vertical-align: middle;\n",
       "    }\n",
       "\n",
       "    .dataframe tbody tr th {\n",
       "        vertical-align: top;\n",
       "    }\n",
       "\n",
       "    .dataframe thead th {\n",
       "        text-align: right;\n",
       "    }\n",
       "</style>\n",
       "<table border=\"1\" class=\"dataframe\">\n",
       "  <thead>\n",
       "    <tr style=\"text-align: right;\">\n",
       "      <th></th>\n",
       "      <th>fval</th>\n",
       "      <th>grad</th>\n",
       "      <th>x</th>\n",
       "    </tr>\n",
       "  </thead>\n",
       "  <tbody>\n",
       "    <tr>\n",
       "      <th>0</th>\n",
       "      <td>4.292891e-16</td>\n",
       "      <td>[-7.332260170147267e-07, 6.00438377176788e-07,...</td>\n",
       "      <td>[1.0000000009080277, 1.0000000036536605, 1.000...</td>\n",
       "    </tr>\n",
       "    <tr>\n",
       "      <th>1</th>\n",
       "      <td>1.894812e-14</td>\n",
       "      <td>[1.0143040655355948e-06, -3.768456551085359e-0...</td>\n",
       "      <td>[0.9999999762815422, 0.9999999499087325, 0.999...</td>\n",
       "    </tr>\n",
       "    <tr>\n",
       "      <th>2</th>\n",
       "      <td>1.359270e-13</td>\n",
       "      <td>[-1.8303102181312013e-06, 7.581252371080891e-0...</td>\n",
       "      <td>[1.0000000541043716, 1.0000001130550433, 1.000...</td>\n",
       "    </tr>\n",
       "    <tr>\n",
       "      <th>3</th>\n",
       "      <td>8.273390e-13</td>\n",
       "      <td>[1.7535436085698887e-05, -2.23725263215039e-05...</td>\n",
       "      <td>[0.9999999495177628, 0.9999998549445246, 0.999...</td>\n",
       "    </tr>\n",
       "    <tr>\n",
       "      <th>4</th>\n",
       "      <td>8.666391e-13</td>\n",
       "      <td>[2.2098568402387052e-05, 1.84585149671918e-05,...</td>\n",
       "      <td>[1.0000000492575694, 1.0000000435150107, 1.000...</td>\n",
       "    </tr>\n",
       "    <tr>\n",
       "      <th>5</th>\n",
       "      <td>7.542493e-12</td>\n",
       "      <td>[-8.293911654503592e-05, -2.3853116980019994e-...</td>\n",
       "      <td>[1.0000000231573303, 1.0000002537782342, 1.000...</td>\n",
       "    </tr>\n",
       "    <tr>\n",
       "      <th>6</th>\n",
       "      <td>3.701429e+00</td>\n",
       "      <td>[-5.393017782573395e-06, 3.8823934878085e-06, ...</td>\n",
       "      <td>[-0.7756593294728725, 0.6130935068901302, 0.38...</td>\n",
       "    </tr>\n",
       "    <tr>\n",
       "      <th>7</th>\n",
       "      <td>3.701429e+00</td>\n",
       "      <td>[1.4928992439156019e-05, 1.7335570439813708e-0...</td>\n",
       "      <td>[-0.7756594156540532, 0.6130937053675443, 0.38...</td>\n",
       "    </tr>\n",
       "    <tr>\n",
       "      <th>8</th>\n",
       "      <td>3.701429e+00</td>\n",
       "      <td>[6.635640943386534e-07, 3.067933507239218e-08,...</td>\n",
       "      <td>[-0.7756598562371931, 0.6130943392127992, 0.38...</td>\n",
       "    </tr>\n",
       "    <tr>\n",
       "      <th>9</th>\n",
       "      <td>3.701429e+00</td>\n",
       "      <td>[0.00018246074072747476, 5.346183133170257e-05...</td>\n",
       "      <td>[-0.775659336026642, 0.6130941224674133, 0.382...</td>\n",
       "    </tr>\n",
       "  </tbody>\n",
       "</table>\n",
       "</div>"
      ],
      "text/plain": [
       "           fval                                               grad  \\\n",
       "0  4.292891e-16  [-7.332260170147267e-07, 6.00438377176788e-07,...   \n",
       "1  1.894812e-14  [1.0143040655355948e-06, -3.768456551085359e-0...   \n",
       "2  1.359270e-13  [-1.8303102181312013e-06, 7.581252371080891e-0...   \n",
       "3  8.273390e-13  [1.7535436085698887e-05, -2.23725263215039e-05...   \n",
       "4  8.666391e-13  [2.2098568402387052e-05, 1.84585149671918e-05,...   \n",
       "5  7.542493e-12  [-8.293911654503592e-05, -2.3853116980019994e-...   \n",
       "6  3.701429e+00  [-5.393017782573395e-06, 3.8823934878085e-06, ...   \n",
       "7  3.701429e+00  [1.4928992439156019e-05, 1.7335570439813708e-0...   \n",
       "8  3.701429e+00  [6.635640943386534e-07, 3.067933507239218e-08,...   \n",
       "9  3.701429e+00  [0.00018246074072747476, 5.346183133170257e-05...   \n",
       "\n",
       "                                                   x  \n",
       "0  [1.0000000009080277, 1.0000000036536605, 1.000...  \n",
       "1  [0.9999999762815422, 0.9999999499087325, 0.999...  \n",
       "2  [1.0000000541043716, 1.0000001130550433, 1.000...  \n",
       "3  [0.9999999495177628, 0.9999998549445246, 0.999...  \n",
       "4  [1.0000000492575694, 1.0000000435150107, 1.000...  \n",
       "5  [1.0000000231573303, 1.0000002537782342, 1.000...  \n",
       "6  [-0.7756593294728725, 0.6130935068901302, 0.38...  \n",
       "7  [-0.7756594156540532, 0.6130937053675443, 0.38...  \n",
       "8  [-0.7756598562371931, 0.6130943392127992, 0.38...  \n",
       "9  [-0.775659336026642, 0.6130941224674133, 0.382...  "
      ]
     },
     "execution_count": 5,
     "metadata": {},
     "output_type": "execute_result"
    }
   ],
   "source": [
    "result1.optimize_result.as_dataframe(['fval', 'x', 'grad'])"
   ]
  },
  {
   "cell_type": "code",
   "execution_count": 6,
   "metadata": {},
   "outputs": [
    {
     "data": {
      "text/html": [
       "<div>\n",
       "<style scoped>\n",
       "    .dataframe tbody tr th:only-of-type {\n",
       "        vertical-align: middle;\n",
       "    }\n",
       "\n",
       "    .dataframe tbody tr th {\n",
       "        vertical-align: top;\n",
       "    }\n",
       "\n",
       "    .dataframe thead th {\n",
       "        text-align: right;\n",
       "    }\n",
       "</style>\n",
       "<table border=\"1\" class=\"dataframe\">\n",
       "  <thead>\n",
       "    <tr style=\"text-align: right;\">\n",
       "      <th></th>\n",
       "      <th>fval</th>\n",
       "      <th>grad</th>\n",
       "      <th>x</th>\n",
       "    </tr>\n",
       "  </thead>\n",
       "  <tbody>\n",
       "    <tr>\n",
       "      <th>0</th>\n",
       "      <td>9.393846e-23</td>\n",
       "      <td>[3.486801958276067e-10, nan, -1.90672810873564...</td>\n",
       "      <td>[1.0000000000004348, 1.0, 0.9999999999998097, ...</td>\n",
       "    </tr>\n",
       "    <tr>\n",
       "      <th>1</th>\n",
       "      <td>5.067533e-20</td>\n",
       "      <td>[4.74636019379164e-09, nan, -8.567817122381655...</td>\n",
       "      <td>[1.0000000000059182, 1.0, 0.9999999999914493, ...</td>\n",
       "    </tr>\n",
       "    <tr>\n",
       "      <th>2</th>\n",
       "      <td>1.422782e-17</td>\n",
       "      <td>[1.3155198044166613e-07, nan, 8.30116442306856...</td>\n",
       "      <td>[1.00000000016403, 1.0, 1.000000000082846, 1.0]</td>\n",
       "    </tr>\n",
       "    <tr>\n",
       "      <th>3</th>\n",
       "      <td>1.792320e-17</td>\n",
       "      <td>[-1.6849071156976416e-07, nan, 2.1198722777529...</td>\n",
       "      <td>[0.9999999997899118, 1.0, 1.0000000000211564, ...</td>\n",
       "    </tr>\n",
       "    <tr>\n",
       "      <th>4</th>\n",
       "      <td>3.989975e+00</td>\n",
       "      <td>[4.2017434864760617e-08, nan, 4.18708148167226...</td>\n",
       "      <td>[-0.9949747467773946, 1.0, 1.0000000000417872,...</td>\n",
       "    </tr>\n",
       "    <tr>\n",
       "      <th>5</th>\n",
       "      <td>3.989975e+00</td>\n",
       "      <td>[8.314876178694419e-07, nan, 6.692197386486704...</td>\n",
       "      <td>[-0.9949747457780269, 1.0, 1.000000000667884, ...</td>\n",
       "    </tr>\n",
       "    <tr>\n",
       "      <th>6</th>\n",
       "      <td>3.989975e+00</td>\n",
       "      <td>[-1.949972376902309e-06, nan, 3.57199036033733...</td>\n",
       "      <td>[-0.9949747492989974, 1.0, 1.0000000035648606,...</td>\n",
       "    </tr>\n",
       "    <tr>\n",
       "      <th>7</th>\n",
       "      <td>3.989975e+00</td>\n",
       "      <td>[-7.962196425737034e-06, nan, -4.4994281146129...</td>\n",
       "      <td>[-0.9949747569096994, 1.0, 0.9999999955095528,...</td>\n",
       "    </tr>\n",
       "    <tr>\n",
       "      <th>8</th>\n",
       "      <td>3.989975e+00</td>\n",
       "      <td>[3.1302750342909746e-06, nan, -1.7495793893550...</td>\n",
       "      <td>[-0.9949747428680578, 1.0, 0.9999999825391275,...</td>\n",
       "    </tr>\n",
       "    <tr>\n",
       "      <th>9</th>\n",
       "      <td>3.989975e+00</td>\n",
       "      <td>[-1.9297693789610548e-05, nan, 1.3346228618525...</td>\n",
       "      <td>[-0.9949747712589799, 1.0, 1.0000000133195892,...</td>\n",
       "    </tr>\n",
       "  </tbody>\n",
       "</table>\n",
       "</div>"
      ],
      "text/plain": [
       "           fval                                               grad  \\\n",
       "0  9.393846e-23  [3.486801958276067e-10, nan, -1.90672810873564...   \n",
       "1  5.067533e-20  [4.74636019379164e-09, nan, -8.567817122381655...   \n",
       "2  1.422782e-17  [1.3155198044166613e-07, nan, 8.30116442306856...   \n",
       "3  1.792320e-17  [-1.6849071156976416e-07, nan, 2.1198722777529...   \n",
       "4  3.989975e+00  [4.2017434864760617e-08, nan, 4.18708148167226...   \n",
       "5  3.989975e+00  [8.314876178694419e-07, nan, 6.692197386486704...   \n",
       "6  3.989975e+00  [-1.949972376902309e-06, nan, 3.57199036033733...   \n",
       "7  3.989975e+00  [-7.962196425737034e-06, nan, -4.4994281146129...   \n",
       "8  3.989975e+00  [3.1302750342909746e-06, nan, -1.7495793893550...   \n",
       "9  3.989975e+00  [-1.9297693789610548e-05, nan, 1.3346228618525...   \n",
       "\n",
       "                                                   x  \n",
       "0  [1.0000000000004348, 1.0, 0.9999999999998097, ...  \n",
       "1  [1.0000000000059182, 1.0, 0.9999999999914493, ...  \n",
       "2    [1.00000000016403, 1.0, 1.000000000082846, 1.0]  \n",
       "3  [0.9999999997899118, 1.0, 1.0000000000211564, ...  \n",
       "4  [-0.9949747467773946, 1.0, 1.0000000000417872,...  \n",
       "5  [-0.9949747457780269, 1.0, 1.000000000667884, ...  \n",
       "6  [-0.9949747492989974, 1.0, 1.0000000035648606,...  \n",
       "7  [-0.9949747569096994, 1.0, 0.9999999955095528,...  \n",
       "8  [-0.9949747428680578, 1.0, 0.9999999825391275,...  \n",
       "9  [-0.9949747712589799, 1.0, 1.0000000133195892,...  "
      ]
     },
     "execution_count": 6,
     "metadata": {},
     "output_type": "execute_result"
    }
   ],
   "source": [
    "result2.optimize_result.as_dataframe(['fval', 'x', 'grad'])"
   ]
  }
 ],
 "metadata": {
  "kernelspec": {
   "display_name": "Python 3",
   "language": "python",
   "name": "python3"
  },
  "language_info": {
   "codemirror_mode": {
    "name": "ipython",
    "version": 3
   },
   "file_extension": ".py",
   "mimetype": "text/x-python",
   "name": "python",
   "nbconvert_exporter": "python",
   "pygments_lexer": "ipython3",
   "version": "3.6.5"
  }
 },
 "nbformat": 4,
 "nbformat_minor": 2
}
