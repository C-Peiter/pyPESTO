{
 "cells": [
  {
   "cell_type": "markdown",
   "metadata": {},
   "source": [
    "# Fixed parameters"
   ]
  },
  {
   "cell_type": "markdown",
   "metadata": {},
   "source": [
    "In this notebook we will show how to use fixed parameters. Therefore,\n",
    "we employ our Rosenbrock example. We define two problems, where for the\n",
    "first problem all parameters are optimized, and for the second we fix some\n",
    "of them to specified values."
   ]
  },
  {
   "cell_type": "markdown",
   "metadata": {},
   "source": [
    "## Define problem"
   ]
  },
  {
   "cell_type": "code",
   "execution_count": 1,
   "metadata": {},
   "outputs": [],
   "source": [
    "import pypesto\n",
    "import pypesto.visualize\n",
    "import numpy as np\n",
    "import scipy as sp\n",
    "import matplotlib.pyplot as plt\n",
    "\n",
    "%matplotlib inline"
   ]
  },
  {
   "cell_type": "code",
   "execution_count": 2,
   "metadata": {},
   "outputs": [],
   "source": [
    "objective = pypesto.Objective(fun=sp.optimize.rosen, \n",
    "                              grad=sp.optimize.rosen_der, \n",
    "                              hess=sp.optimize.rosen_hess)\n",
    "\n",
    "dim_full = 4\n",
    "lb = -2 * np.ones((dim_full,1))\n",
    "ub = 2 * np.ones((dim_full,1))\n",
    "\n",
    "problem1 = pypesto.Problem(objective=objective, lb=lb, ub=ub)\n",
    "\n",
    "x_fixed_indices = [1, 3]\n",
    "x_fixed_vals = [1, 1]\n",
    "problem2 = pypesto.Problem(objective=objective, lb=lb, ub=ub,\n",
    "                           x_fixed_indices=x_fixed_indices,\n",
    "                           x_fixed_vals=x_fixed_vals)"
   ]
  },
  {
   "cell_type": "markdown",
   "metadata": {},
   "source": [
    "## Optimize"
   ]
  },
  {
   "cell_type": "code",
   "execution_count": 3,
   "metadata": {},
   "outputs": [],
   "source": [
    "optimizer = pypesto.ScipyOptimizer()\n",
    "n_starts = 10\n",
    "\n",
    "result1 = pypesto.minimize(problem=problem1, optimizer=optimizer, \n",
    "                           n_starts=n_starts)\n",
    "result2 = pypesto.minimize(problem=problem2, optimizer=optimizer, \n",
    "                           n_starts=n_starts)"
   ]
  },
  {
   "cell_type": "markdown",
   "metadata": {},
   "source": [
    "## Visualize"
   ]
  },
  {
   "cell_type": "code",
   "execution_count": 4,
   "metadata": {},
   "outputs": [
    {
     "data": {
      "text/plain": [
       "<matplotlib.axes._subplots.AxesSubplot at 0x7f6ae7415eb8>"
      ]
     },
     "execution_count": 4,
     "metadata": {},
     "output_type": "execute_result"
    },
    {
     "data": {
      "image/png": "[encoded data removed]",
      "text/plain": [
       "<Figure size 432x288 with 1 Axes>"
      ]
     },
     "metadata": {
      "needs_background": "light"
     },
     "output_type": "display_data"
    }
   ],
   "source": [
    "fig, ax = plt.subplots()\n",
    "pypesto.visualize.waterfall(result1, ax)\n",
    "pypesto.visualize.waterfall(result2, ax)"
   ]
  },
  {
   "cell_type": "code",
   "execution_count": 5,
   "metadata": {},
   "outputs": [
    {
     "data": {
      "text/html": [
       "<div>\n",
       "<style scoped>\n",
       "    .dataframe tbody tr th:only-of-type {\n",
       "        vertical-align: middle;\n",
       "    }\n",
       "\n",
       "    .dataframe tbody tr th {\n",
       "        vertical-align: top;\n",
       "    }\n",
       "\n",
       "    .dataframe thead th {\n",
       "        text-align: right;\n",
       "    }\n",
       "</style>\n",
       "<table border=\"1\" class=\"dataframe\">\n",
       "  <thead>\n",
       "    <tr style=\"text-align: right;\">\n",
       "      <th></th>\n",
       "      <th>fval</th>\n",
       "      <th>grad</th>\n",
       "      <th>x</th>\n",
       "    </tr>\n",
       "  </thead>\n",
       "  <tbody>\n",
       "    <tr>\n",
       "      <th>0</th>\n",
       "      <td>3.927779e-15</td>\n",
       "      <td>[1.380082008367687e-06, -8.083573203926321e-08...</td>\n",
       "      <td>[1.0000000049630953, 1.000000006500801, 1.0000...</td>\n",
       "    </tr>\n",
       "    <tr>\n",
       "      <th>1</th>\n",
       "      <td>7.810296e-14</td>\n",
       "      <td>[1.717501444180088e-06, -1.351913230799428e-06...</td>\n",
       "      <td>[0.9999999523544961, 0.9999999001770131, 0.999...</td>\n",
       "    </tr>\n",
       "    <tr>\n",
       "      <th>2</th>\n",
       "      <td>8.211686e-14</td>\n",
       "      <td>[1.2722200973602453e-06, 2.6490319813334526e-0...</td>\n",
       "      <td>[1.000000062824105, 1.0000001227817845, 1.0000...</td>\n",
       "    </tr>\n",
       "    <tr>\n",
       "      <th>3</th>\n",
       "      <td>6.675828e-13</td>\n",
       "      <td>[2.3108400838756338e-05, 5.154092104522114e-06...</td>\n",
       "      <td>[1.0000000997998029, 1.0000001423276184, 1.000...</td>\n",
       "    </tr>\n",
       "    <tr>\n",
       "      <th>4</th>\n",
       "      <td>7.745611e-13</td>\n",
       "      <td>[-7.231244216666451e-06, 1.2069320871269854e-0...</td>\n",
       "      <td>[1.0000001767517774, 1.0000003724654523, 1.000...</td>\n",
       "    </tr>\n",
       "    <tr>\n",
       "      <th>5</th>\n",
       "      <td>2.390803e-12</td>\n",
       "      <td>[-6.369931909390899e-06, 1.2558236812991624e-0...</td>\n",
       "      <td>[0.9999996997057465, 0.9999994138349461, 0.999...</td>\n",
       "    </tr>\n",
       "    <tr>\n",
       "      <th>6</th>\n",
       "      <td>6.429238e-12</td>\n",
       "      <td>[7.387638091332483e-05, -5.3039113081590246e-0...</td>\n",
       "      <td>[1.00000037493649, 1.0000005670569194, 1.00000...</td>\n",
       "    </tr>\n",
       "    <tr>\n",
       "      <th>7</th>\n",
       "      <td>3.157806e-10</td>\n",
       "      <td>[-0.0001412479254942318, -0.000317098067357588...</td>\n",
       "      <td>[1.0000011490511884, 1.0000026569683544, 1.000...</td>\n",
       "    </tr>\n",
       "    <tr>\n",
       "      <th>8</th>\n",
       "      <td>3.701429e+00</td>\n",
       "      <td>[-9.476014543263744e-06, 2.2448530735408312e-0...</td>\n",
       "      <td>[-0.7756612066524641, 0.6130963902374005, 0.38...</td>\n",
       "    </tr>\n",
       "    <tr>\n",
       "      <th>9</th>\n",
       "      <td>3.701429e+00</td>\n",
       "      <td>[1.2004479082783348e-05, -0.000416246476298010...</td>\n",
       "      <td>[-0.7756557693277876, 0.6130880696435137, 0.38...</td>\n",
       "    </tr>\n",
       "  </tbody>\n",
       "</table>\n",
       "</div>"
      ],
      "text/plain": [
       "           fval                                               grad  \\\n",
       "0  3.927779e-15  [1.380082008367687e-06, -8.083573203926321e-08...   \n",
       "1  7.810296e-14  [1.717501444180088e-06, -1.351913230799428e-06...   \n",
       "2  8.211686e-14  [1.2722200973602453e-06, 2.6490319813334526e-0...   \n",
       "3  6.675828e-13  [2.3108400838756338e-05, 5.154092104522114e-06...   \n",
       "4  7.745611e-13  [-7.231244216666451e-06, 1.2069320871269854e-0...   \n",
       "5  2.390803e-12  [-6.369931909390899e-06, 1.2558236812991624e-0...   \n",
       "6  6.429238e-12  [7.387638091332483e-05, -5.3039113081590246e-0...   \n",
       "7  3.157806e-10  [-0.0001412479254942318, -0.000317098067357588...   \n",
       "8  3.701429e+00  [-9.476014543263744e-06, 2.2448530735408312e-0...   \n",
       "9  3.701429e+00  [1.2004479082783348e-05, -0.000416246476298010...   \n",
       "\n",
       "                                                   x  \n",
       "0  [1.0000000049630953, 1.000000006500801, 1.0000...  \n",
       "1  [0.9999999523544961, 0.9999999001770131, 0.999...  \n",
       "2  [1.000000062824105, 1.0000001227817845, 1.0000...  \n",
       "3  [1.0000000997998029, 1.0000001423276184, 1.000...  \n",
       "4  [1.0000001767517774, 1.0000003724654523, 1.000...  \n",
       "5  [0.9999996997057465, 0.9999994138349461, 0.999...  \n",
       "6  [1.00000037493649, 1.0000005670569194, 1.00000...  \n",
       "7  [1.0000011490511884, 1.0000026569683544, 1.000...  \n",
       "8  [-0.7756612066524641, 0.6130963902374005, 0.38...  \n",
       "9  [-0.7756557693277876, 0.6130880696435137, 0.38...  "
      ]
     },
     "execution_count": 5,
     "metadata": {},
     "output_type": "execute_result"
    }
   ],
   "source": [
    "result1.optimize_result.as_dataframe(['fval', 'x', 'grad'])"
   ]
  },
  {
   "cell_type": "code",
   "execution_count": 6,
   "metadata": {},
   "outputs": [
    {
     "data": {
      "text/html": [
       "<div>\n",
       "<style scoped>\n",
       "    .dataframe tbody tr th:only-of-type {\n",
       "        vertical-align: middle;\n",
       "    }\n",
       "\n",
       "    .dataframe tbody tr th {\n",
       "        vertical-align: top;\n",
       "    }\n",
       "\n",
       "    .dataframe thead th {\n",
       "        text-align: right;\n",
       "    }\n",
       "</style>\n",
       "<table border=\"1\" class=\"dataframe\">\n",
       "  <thead>\n",
       "    <tr style=\"text-align: right;\">\n",
       "      <th></th>\n",
       "      <th>fval</th>\n",
       "      <th>grad</th>\n",
       "      <th>x</th>\n",
       "    </tr>\n",
       "  </thead>\n",
       "  <tbody>\n",
       "    <tr>\n",
       "      <th>0</th>\n",
       "      <td>1.034572e-18</td>\n",
       "      <td>[3.7571982860009024e-08, nan, 1.75952958872096...</td>\n",
       "      <td>[1.0000000000468479, 1.0, 1.0000000000175602, ...</td>\n",
       "    </tr>\n",
       "    <tr>\n",
       "      <th>1</th>\n",
       "      <td>4.515451e-17</td>\n",
       "      <td>[-1.6843336988283393e-07, nan, -2.346168865413...</td>\n",
       "      <td>[0.9999999997899833, 1.0, 0.9999999997658514, ...</td>\n",
       "    </tr>\n",
       "    <tr>\n",
       "      <th>2</th>\n",
       "      <td>1.788081e-16</td>\n",
       "      <td>[-5.347585997124525e-07, nan, -3.2423277395438...</td>\n",
       "      <td>[0.9999999993332187, 1.0, 0.9999999999676414, ...</td>\n",
       "    </tr>\n",
       "    <tr>\n",
       "      <th>3</th>\n",
       "      <td>8.127003e-15</td>\n",
       "      <td>[-2.942953443493472e-06, nan, 2.33788272377160...</td>\n",
       "      <td>[0.999999996330482, 1.0, 1.0000000023332163, 1.0]</td>\n",
       "    </tr>\n",
       "    <tr>\n",
       "      <th>4</th>\n",
       "      <td>7.530951e-14</td>\n",
       "      <td>[1.096951855484312e-05, nan, 7.631266543328272...</td>\n",
       "      <td>[1.0000000136777036, 1.0, 1.0000000007616034, ...</td>\n",
       "    </tr>\n",
       "    <tr>\n",
       "      <th>5</th>\n",
       "      <td>3.989975e+00</td>\n",
       "      <td>[8.507160074167075e-07, nan, -1.00001459300255...</td>\n",
       "      <td>[-0.9949747457536863, 1.0, 0.9999999990019814,...</td>\n",
       "    </tr>\n",
       "    <tr>\n",
       "      <th>6</th>\n",
       "      <td>3.989975e+00</td>\n",
       "      <td>[5.853680722367471e-07, nan, -4.80007196752967...</td>\n",
       "      <td>[-0.9949747460895826, 1.0, 0.999999995209509, ...</td>\n",
       "    </tr>\n",
       "    <tr>\n",
       "      <th>7</th>\n",
       "      <td>3.989975e+00</td>\n",
       "      <td>[5.872636898551775e-06, nan, -2.24092759348412...</td>\n",
       "      <td>[-0.9949747393965804, 1.0, 0.9999999977635453,...</td>\n",
       "    </tr>\n",
       "    <tr>\n",
       "      <th>8</th>\n",
       "      <td>3.989975e+00</td>\n",
       "      <td>[-9.41635691198428e-07, nan, -9.52827066229709...</td>\n",
       "      <td>[-0.9949747480225729, 1.0, 0.9999999904907477,...</td>\n",
       "    </tr>\n",
       "    <tr>\n",
       "      <th>9</th>\n",
       "      <td>3.989975e+00</td>\n",
       "      <td>[3.688754127306737e-05, nan, -1.18522591456615...</td>\n",
       "      <td>[-0.9949747001356986, 1.0, 0.9999999881713979,...</td>\n",
       "    </tr>\n",
       "  </tbody>\n",
       "</table>\n",
       "</div>"
      ],
      "text/plain": [
       "           fval                                               grad  \\\n",
       "0  1.034572e-18  [3.7571982860009024e-08, nan, 1.75952958872096...   \n",
       "1  4.515451e-17  [-1.6843336988283393e-07, nan, -2.346168865413...   \n",
       "2  1.788081e-16  [-5.347585997124525e-07, nan, -3.2423277395438...   \n",
       "3  8.127003e-15  [-2.942953443493472e-06, nan, 2.33788272377160...   \n",
       "4  7.530951e-14  [1.096951855484312e-05, nan, 7.631266543328272...   \n",
       "5  3.989975e+00  [8.507160074167075e-07, nan, -1.00001459300255...   \n",
       "6  3.989975e+00  [5.853680722367471e-07, nan, -4.80007196752967...   \n",
       "7  3.989975e+00  [5.872636898551775e-06, nan, -2.24092759348412...   \n",
       "8  3.989975e+00  [-9.41635691198428e-07, nan, -9.52827066229709...   \n",
       "9  3.989975e+00  [3.688754127306737e-05, nan, -1.18522591456615...   \n",
       "\n",
       "                                                   x  \n",
       "0  [1.0000000000468479, 1.0, 1.0000000000175602, ...  \n",
       "1  [0.9999999997899833, 1.0, 0.9999999997658514, ...  \n",
       "2  [0.9999999993332187, 1.0, 0.9999999999676414, ...  \n",
       "3  [0.999999996330482, 1.0, 1.0000000023332163, 1.0]  \n",
       "4  [1.0000000136777036, 1.0, 1.0000000007616034, ...  \n",
       "5  [-0.9949747457536863, 1.0, 0.9999999990019814,...  \n",
       "6  [-0.9949747460895826, 1.0, 0.999999995209509, ...  \n",
       "7  [-0.9949747393965804, 1.0, 0.9999999977635453,...  \n",
       "8  [-0.9949747480225729, 1.0, 0.9999999904907477,...  \n",
       "9  [-0.9949747001356986, 1.0, 0.9999999881713979,...  "
      ]
     },
     "execution_count": 6,
     "metadata": {},
     "output_type": "execute_result"
    }
   ],
   "source": [
    "result2.optimize_result.as_dataframe(['fval', 'x', 'grad'])"
   ]
  }
 ],
 "metadata": {
  "kernelspec": {
   "display_name": "Python 3",
   "language": "python",
   "name": "python3"
  },
  "language_info": {
   "codemirror_mode": {
    "name": "ipython",
    "version": 3
   },
   "file_extension": ".py",
   "mimetype": "text/x-python",
   "name": "python",
   "nbconvert_exporter": "python",
   "pygments_lexer": "ipython3",
   "version": "3.6.6"
  }
 },
 "nbformat": 4,
 "nbformat_minor": 2
}
