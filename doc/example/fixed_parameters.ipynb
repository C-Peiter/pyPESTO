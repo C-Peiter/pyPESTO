{
 "cells": [
  {
   "cell_type": "markdown",
   "metadata": {},
   "source": [
    "# Fixed parameters"
   ]
  },
  {
   "cell_type": "markdown",
   "metadata": {},
   "source": [
    "In this notebook we will show how to use fixed parameters. Therefore,\n",
    "we employ our Rosenbrock example. We define two problems, where for the\n",
    "first problem all parameters are optimized, and for the second we fix some\n",
    "of them to specified values."
   ]
  },
  {
   "cell_type": "markdown",
   "metadata": {},
   "source": [
    "## Define problem"
   ]
  },
  {
   "cell_type": "code",
   "execution_count": 1,
   "metadata": {},
   "outputs": [],
   "source": [
    "import pypesto\n",
    "import pypesto.visualize\n",
    "import numpy as np\n",
    "import scipy as sp\n",
    "import matplotlib.pyplot as plt\n",
    "\n",
    "%matplotlib inline"
   ]
  },
  {
   "cell_type": "code",
   "execution_count": 2,
   "metadata": {},
   "outputs": [],
   "source": [
    "objective = pypesto.Objective(fun=sp.optimize.rosen, \n",
    "                              grad=sp.optimize.rosen_der, \n",
    "                              hess=sp.optimize.rosen_hess)\n",
    "\n",
    "dim_full = 4\n",
    "lb = -2 * np.ones((dim_full,1))\n",
    "ub = 2 * np.ones((dim_full,1))\n",
    "\n",
    "problem1 = pypesto.Problem(objective=objective, lb=lb, ub=ub)\n",
    "\n",
    "x_fixed_indices = [1, 3]\n",
    "x_fixed_vals = [1, 1]\n",
    "problem2 = pypesto.Problem(objective=objective, lb=lb, ub=ub,\n",
    "                           x_fixed_indices=x_fixed_indices,\n",
    "                           x_fixed_vals=x_fixed_vals)"
   ]
  },
  {
   "cell_type": "markdown",
   "metadata": {},
   "source": [
    "## Optimize"
   ]
  },
  {
   "cell_type": "code",
   "execution_count": 3,
   "metadata": {},
   "outputs": [],
   "source": [
    "optimizer = pypesto.ScipyOptimizer()\n",
    "n_starts = 10\n",
    "\n",
    "result1 = pypesto.minimize(problem=problem1, optimizer=optimizer, \n",
    "                           n_starts=n_starts)\n",
    "result2 = pypesto.minimize(problem=problem2, optimizer=optimizer, \n",
    "                           n_starts=n_starts)"
   ]
  },
  {
   "cell_type": "markdown",
   "metadata": {},
   "source": [
    "## Visualize"
   ]
  },
  {
   "cell_type": "code",
   "execution_count": 4,
   "metadata": {},
   "outputs": [
    {
     "data": {
      "text/plain": [
       "<matplotlib.axes._subplots.AxesSubplot at 0x7f38f7b40f98>"
      ]
     },
     "execution_count": 4,
     "metadata": {},
     "output_type": "execute_result"
    },
    {
     "data": {
      "image/png": "[encoded data removed]",
      "text/plain": [
       "<Figure size 432x288 with 1 Axes>"
      ]
     },
     "metadata": {},
     "output_type": "display_data"
    }
   ],
   "source": [
    "fig, ax = plt.subplots()\n",
    "pypesto.visualize.waterfall(result1, ax)\n",
    "pypesto.visualize.waterfall(result2, ax)"
   ]
  },
  {
   "cell_type": "code",
   "execution_count": 5,
   "metadata": {},
   "outputs": [
    {
     "data": {
      "text/html": [
       "<div>\n",
       "<style scoped>\n",
       "    .dataframe tbody tr th:only-of-type {\n",
       "        vertical-align: middle;\n",
       "    }\n",
       "\n",
       "    .dataframe tbody tr th {\n",
       "        vertical-align: top;\n",
       "    }\n",
       "\n",
       "    .dataframe thead th {\n",
       "        text-align: right;\n",
       "    }\n",
       "</style>\n",
       "<table border=\"1\" class=\"dataframe\">\n",
       "  <thead>\n",
       "    <tr style=\"text-align: right;\">\n",
       "      <th></th>\n",
       "      <th>fval</th>\n",
       "      <th>grad</th>\n",
       "      <th>x</th>\n",
       "    </tr>\n",
       "  </thead>\n",
       "  <tbody>\n",
       "    <tr>\n",
       "      <th>0</th>\n",
       "      <td>7.007482e-16</td>\n",
       "      <td>[-3.2209517876620487e-07, -1.2070113233822035e...</td>\n",
       "      <td>[0.9999999965259643, 0.9999999938397963, 0.999...</td>\n",
       "    </tr>\n",
       "    <tr>\n",
       "      <th>1</th>\n",
       "      <td>1.257280e-15</td>\n",
       "      <td>[1.8870506398815347e-07, 8.707554043188554e-07...</td>\n",
       "      <td>[0.9999999953570096, 0.9999999902190415, 0.999...</td>\n",
       "    </tr>\n",
       "    <tr>\n",
       "      <th>2</th>\n",
       "      <td>1.742096e-15</td>\n",
       "      <td>[-4.4987317323516553e-07, -5.343672161792847e-...</td>\n",
       "      <td>[0.9999999940927179, 0.9999999892805823, 0.999...</td>\n",
       "    </tr>\n",
       "    <tr>\n",
       "      <th>3</th>\n",
       "      <td>4.167957e-15</td>\n",
       "      <td>[-2.269844370002458e-07, 1.033037292125441e-06...</td>\n",
       "      <td>[0.9999999878298865, 0.9999999761663837, 0.999...</td>\n",
       "    </tr>\n",
       "    <tr>\n",
       "      <th>4</th>\n",
       "      <td>3.934882e-14</td>\n",
       "      <td>[-7.318032160732057e-07, 1.0870076540163968e-0...</td>\n",
       "      <td>[0.9999999685346379, 0.9999999387414581, 0.999...</td>\n",
       "    </tr>\n",
       "    <tr>\n",
       "      <th>5</th>\n",
       "      <td>4.041890e-14</td>\n",
       "      <td>[5.988108461892201e-06, -6.58578833990199e-06,...</td>\n",
       "      <td>[0.9999999918507252, 0.9999999686904328, 0.999...</td>\n",
       "    </tr>\n",
       "    <tr>\n",
       "      <th>6</th>\n",
       "      <td>2.809725e-12</td>\n",
       "      <td>[-4.586589318417951e-05, 2.6877807464213433e-0...</td>\n",
       "      <td>[1.0000001817842314, 1.000000479142129, 1.0000...</td>\n",
       "    </tr>\n",
       "    <tr>\n",
       "      <th>7</th>\n",
       "      <td>3.062619e-11</td>\n",
       "      <td>[3.981243851310658e-05, 0.00018551006173156176...</td>\n",
       "      <td>[1.0000000723004696, 1.0000000454313578, 0.999...</td>\n",
       "    </tr>\n",
       "    <tr>\n",
       "      <th>8</th>\n",
       "      <td>8.780620e-11</td>\n",
       "      <td>[0.00032235446605085265, -0.000294746923199141...</td>\n",
       "      <td>[1.0000000728370801, 0.9999993401522446, 0.999...</td>\n",
       "    </tr>\n",
       "    <tr>\n",
       "      <th>9</th>\n",
       "      <td>3.701429e+00</td>\n",
       "      <td>[-9.71289168205658e-07, 8.203829039654664e-06,...</td>\n",
       "      <td>[-0.7756597750448652, 0.613094208663062, 0.382...</td>\n",
       "    </tr>\n",
       "  </tbody>\n",
       "</table>\n",
       "</div>"
      ],
      "text/plain": [
       "           fval                                               grad  \\\n",
       "0  7.007482e-16  [-3.2209517876620487e-07, -1.2070113233822035e...   \n",
       "1  1.257280e-15  [1.8870506398815347e-07, 8.707554043188554e-07...   \n",
       "2  1.742096e-15  [-4.4987317323516553e-07, -5.343672161792847e-...   \n",
       "3  4.167957e-15  [-2.269844370002458e-07, 1.033037292125441e-06...   \n",
       "4  3.934882e-14  [-7.318032160732057e-07, 1.0870076540163968e-0...   \n",
       "5  4.041890e-14  [5.988108461892201e-06, -6.58578833990199e-06,...   \n",
       "6  2.809725e-12  [-4.586589318417951e-05, 2.6877807464213433e-0...   \n",
       "7  3.062619e-11  [3.981243851310658e-05, 0.00018551006173156176...   \n",
       "8  8.780620e-11  [0.00032235446605085265, -0.000294746923199141...   \n",
       "9  3.701429e+00  [-9.71289168205658e-07, 8.203829039654664e-06,...   \n",
       "\n",
       "                                                   x  \n",
       "0  [0.9999999965259643, 0.9999999938397963, 0.999...  \n",
       "1  [0.9999999953570096, 0.9999999902190415, 0.999...  \n",
       "2  [0.9999999940927179, 0.9999999892805823, 0.999...  \n",
       "3  [0.9999999878298865, 0.9999999761663837, 0.999...  \n",
       "4  [0.9999999685346379, 0.9999999387414581, 0.999...  \n",
       "5  [0.9999999918507252, 0.9999999686904328, 0.999...  \n",
       "6  [1.0000001817842314, 1.000000479142129, 1.0000...  \n",
       "7  [1.0000000723004696, 1.0000000454313578, 0.999...  \n",
       "8  [1.0000000728370801, 0.9999993401522446, 0.999...  \n",
       "9  [-0.7756597750448652, 0.613094208663062, 0.382...  "
      ]
     },
     "execution_count": 5,
     "metadata": {},
     "output_type": "execute_result"
    }
   ],
   "source": [
    "result1.optimize_result.as_dataframe(['fval', 'x', 'grad'])"
   ]
  },
  {
   "cell_type": "code",
   "execution_count": 6,
   "metadata": {},
   "outputs": [
    {
     "data": {
      "text/html": [
       "<div>\n",
       "<style scoped>\n",
       "    .dataframe tbody tr th:only-of-type {\n",
       "        vertical-align: middle;\n",
       "    }\n",
       "\n",
       "    .dataframe tbody tr th {\n",
       "        vertical-align: top;\n",
       "    }\n",
       "\n",
       "    .dataframe thead th {\n",
       "        text-align: right;\n",
       "    }\n",
       "</style>\n",
       "<table border=\"1\" class=\"dataframe\">\n",
       "  <thead>\n",
       "    <tr style=\"text-align: right;\">\n",
       "      <th></th>\n",
       "      <th>fval</th>\n",
       "      <th>grad</th>\n",
       "      <th>x</th>\n",
       "    </tr>\n",
       "  </thead>\n",
       "  <tbody>\n",
       "    <tr>\n",
       "      <th>0</th>\n",
       "      <td>1.236287e-18</td>\n",
       "      <td>[-3.864170805370737e-08, nan, -2.4738072922981...</td>\n",
       "      <td>[0.9999999999518183, 1.0, 0.9999999999753113, ...</td>\n",
       "    </tr>\n",
       "    <tr>\n",
       "      <th>1</th>\n",
       "      <td>4.120269e-17</td>\n",
       "      <td>[-2.5372325254999847e-07, nan, 4.6270528743548...</td>\n",
       "      <td>[0.9999999996836368, 1.0, 1.0000000000461782, ...</td>\n",
       "    </tr>\n",
       "    <tr>\n",
       "      <th>2</th>\n",
       "      <td>1.205457e-15</td>\n",
       "      <td>[1.3291110327651572e-06, nan, -4.5680143850894...</td>\n",
       "      <td>[1.0000000016572457, 1.0, 0.9999999995441103, ...</td>\n",
       "    </tr>\n",
       "    <tr>\n",
       "      <th>3</th>\n",
       "      <td>6.150446e-15</td>\n",
       "      <td>[-3.1014667894167055e-06, nan, -5.546345007481...</td>\n",
       "      <td>[0.9999999961328344, 1.0, 0.9999999994464726, ...</td>\n",
       "    </tr>\n",
       "    <tr>\n",
       "      <th>4</th>\n",
       "      <td>1.482473e-14</td>\n",
       "      <td>[1.2322764161311822e-06, nan, -5.2736675165027...</td>\n",
       "      <td>[1.0000000015365043, 1.0, 0.9999999947368587, ...</td>\n",
       "    </tr>\n",
       "    <tr>\n",
       "      <th>5</th>\n",
       "      <td>2.120314e-13</td>\n",
       "      <td>[-1.2903257784333678e-05, nan, -1.472742992973...</td>\n",
       "      <td>[0.9999999839111495, 1.0, 0.9999999853019659, ...</td>\n",
       "    </tr>\n",
       "    <tr>\n",
       "      <th>6</th>\n",
       "      <td>3.989975e+00</td>\n",
       "      <td>[-6.13996804954553e-07, nan, 6.544863148188245...</td>\n",
       "      <td>[-0.9949747476078242, 1.0, 1.00000000065318, 1.0]</td>\n",
       "    </tr>\n",
       "    <tr>\n",
       "      <th>7</th>\n",
       "      <td>3.989975e+00</td>\n",
       "      <td>[-9.555030549002197e-07, nan, 2.55369030575145...</td>\n",
       "      <td>[-0.9949747480401272, 1.0, 1.0000000025485931,...</td>\n",
       "    </tr>\n",
       "    <tr>\n",
       "      <th>8</th>\n",
       "      <td>3.989975e+00</td>\n",
       "      <td>[7.565856488866984e-06, nan, -1.84060513360567...</td>\n",
       "      <td>[-0.9949747372531822, 1.0, 0.9999999981630687,...</td>\n",
       "    </tr>\n",
       "    <tr>\n",
       "      <th>9</th>\n",
       "      <td>3.989975e+00</td>\n",
       "      <td>[4.7976442760777616e-06, nan, -3.6998676339034...</td>\n",
       "      <td>[-0.9949747407573828, 1.0, 0.9999999630751717,...</td>\n",
       "    </tr>\n",
       "  </tbody>\n",
       "</table>\n",
       "</div>"
      ],
      "text/plain": [
       "           fval                                               grad  \\\n",
       "0  1.236287e-18  [-3.864170805370737e-08, nan, -2.4738072922981...   \n",
       "1  4.120269e-17  [-2.5372325254999847e-07, nan, 4.6270528743548...   \n",
       "2  1.205457e-15  [1.3291110327651572e-06, nan, -4.5680143850894...   \n",
       "3  6.150446e-15  [-3.1014667894167055e-06, nan, -5.546345007481...   \n",
       "4  1.482473e-14  [1.2322764161311822e-06, nan, -5.2736675165027...   \n",
       "5  2.120314e-13  [-1.2903257784333678e-05, nan, -1.472742992973...   \n",
       "6  3.989975e+00  [-6.13996804954553e-07, nan, 6.544863148188245...   \n",
       "7  3.989975e+00  [-9.555030549002197e-07, nan, 2.55369030575145...   \n",
       "8  3.989975e+00  [7.565856488866984e-06, nan, -1.84060513360567...   \n",
       "9  3.989975e+00  [4.7976442760777616e-06, nan, -3.6998676339034...   \n",
       "\n",
       "                                                   x  \n",
       "0  [0.9999999999518183, 1.0, 0.9999999999753113, ...  \n",
       "1  [0.9999999996836368, 1.0, 1.0000000000461782, ...  \n",
       "2  [1.0000000016572457, 1.0, 0.9999999995441103, ...  \n",
       "3  [0.9999999961328344, 1.0, 0.9999999994464726, ...  \n",
       "4  [1.0000000015365043, 1.0, 0.9999999947368587, ...  \n",
       "5  [0.9999999839111495, 1.0, 0.9999999853019659, ...  \n",
       "6  [-0.9949747476078242, 1.0, 1.00000000065318, 1.0]  \n",
       "7  [-0.9949747480401272, 1.0, 1.0000000025485931,...  \n",
       "8  [-0.9949747372531822, 1.0, 0.9999999981630687,...  \n",
       "9  [-0.9949747407573828, 1.0, 0.9999999630751717,...  "
      ]
     },
     "execution_count": 6,
     "metadata": {},
     "output_type": "execute_result"
    }
   ],
   "source": [
    "result2.optimize_result.as_dataframe(['fval', 'x', 'grad'])"
   ]
  }
 ],
 "metadata": {
  "kernelspec": {
   "display_name": "Python 3",
   "language": "python",
   "name": "python3"
  },
  "language_info": {
   "codemirror_mode": {
    "name": "ipython",
    "version": 3
   },
   "file_extension": ".py",
   "mimetype": "text/x-python",
   "name": "python",
   "nbconvert_exporter": "python",
   "pygments_lexer": "ipython3",
   "version": "3.6.5"
  }
 },
 "nbformat": 4,
 "nbformat_minor": 2
}
