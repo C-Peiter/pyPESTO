{
 "cells": [
  {
   "cell_type": "markdown",
   "metadata": {},
   "source": [
    "# Fixed parameters"
   ]
  },
  {
   "cell_type": "markdown",
   "metadata": {},
   "source": [
    "In this notebook we will show how to use fixed parameters. Therefore,\n",
    "we employ our Rosenbrock example. We define two problems, where for the\n",
    "first problem all parameters are optimized, and for the second we fix some\n",
    "of them to specified values."
   ]
  },
  {
   "cell_type": "markdown",
   "metadata": {},
   "source": [
    "## Define problem"
   ]
  },
  {
   "cell_type": "code",
   "execution_count": 1,
   "metadata": {},
   "outputs": [],
   "source": [
    "import pypesto\n",
    "import pypesto.visualize\n",
    "import numpy as np\n",
    "import scipy as sp\n",
    "import matplotlib.pyplot as plt\n",
    "\n",
    "%matplotlib inline"
   ]
  },
  {
   "cell_type": "code",
   "execution_count": 2,
   "metadata": {},
   "outputs": [],
   "source": [
    "objective = pypesto.Objective(fun=sp.optimize.rosen, \n",
    "                              grad=sp.optimize.rosen_der, \n",
    "                              hess=sp.optimize.rosen_hess)\n",
    "\n",
    "dim_full = 4\n",
    "lb = -2 * np.ones((dim_full,1))\n",
    "ub = 2 * np.ones((dim_full,1))\n",
    "\n",
    "problem1 = pypesto.Problem(objective=objective, lb=lb, ub=ub)\n",
    "\n",
    "x_fixed_indices = [1, 3]\n",
    "x_fixed_vals = [1, 1]\n",
    "problem2 = pypesto.Problem(objective=objective, lb=lb, ub=ub,\n",
    "                           x_fixed_indices=x_fixed_indices,\n",
    "                           x_fixed_vals=x_fixed_vals)"
   ]
  },
  {
   "cell_type": "markdown",
   "metadata": {},
   "source": [
    "## Optimize"
   ]
  },
  {
   "cell_type": "code",
   "execution_count": 3,
   "metadata": {},
   "outputs": [],
   "source": [
    "optimizer = pypesto.ScipyOptimizer()\n",
    "n_starts = 10\n",
    "\n",
    "result1 = pypesto.minimize(problem=problem1, optimizer=optimizer, \n",
    "                           n_starts=n_starts)\n",
    "result2 = pypesto.minimize(problem=problem2, optimizer=optimizer, \n",
    "                           n_starts=n_starts)"
   ]
  },
  {
   "cell_type": "markdown",
   "metadata": {},
   "source": [
    "## Visualize"
   ]
  },
  {
   "cell_type": "code",
   "execution_count": 4,
   "metadata": {},
   "outputs": [
    {
     "data": {
      "text/plain": [
       "<matplotlib.axes._subplots.AxesSubplot at 0x7f478a0cbcc0>"
      ]
     },
     "execution_count": 4,
     "metadata": {},
     "output_type": "execute_result"
    },
    {
     "data": {
      "image/png": "[encoded data removed]",
      "text/plain": [
       "<Figure size 432x288 with 1 Axes>"
      ]
     },
     "metadata": {},
     "output_type": "display_data"
    }
   ],
   "source": [
    "fig, ax = plt.subplots()\n",
    "pypesto.visualize.waterfall(result1, ax)\n",
    "pypesto.visualize.waterfall(result2, ax)"
   ]
  },
  {
   "cell_type": "code",
   "execution_count": 5,
   "metadata": {},
   "outputs": [
    {
     "data": {
      "text/html": [
       "<div>\n",
       "<style scoped>\n",
       "    .dataframe tbody tr th:only-of-type {\n",
       "        vertical-align: middle;\n",
       "    }\n",
       "\n",
       "    .dataframe tbody tr th {\n",
       "        vertical-align: top;\n",
       "    }\n",
       "\n",
       "    .dataframe thead th {\n",
       "        text-align: right;\n",
       "    }\n",
       "</style>\n",
       "<table border=\"1\" class=\"dataframe\">\n",
       "  <thead>\n",
       "    <tr style=\"text-align: right;\">\n",
       "      <th></th>\n",
       "      <th>fval</th>\n",
       "      <th>grad</th>\n",
       "      <th>x</th>\n",
       "    </tr>\n",
       "  </thead>\n",
       "  <tbody>\n",
       "    <tr>\n",
       "      <th>0</th>\n",
       "      <td>9.936039e-17</td>\n",
       "      <td>[3.619753379159444e-08, 1.4199049543464888e-07...</td>\n",
       "      <td>[0.9999999982933874, 0.9999999964877478, 0.999...</td>\n",
       "    </tr>\n",
       "    <tr>\n",
       "      <th>1</th>\n",
       "      <td>1.250856e-16</td>\n",
       "      <td>[2.1928494772617822e-08, 3.2151665590417297e-0...</td>\n",
       "      <td>[0.9999999989532552, 0.9999999978464554, 0.999...</td>\n",
       "    </tr>\n",
       "    <tr>\n",
       "      <th>2</th>\n",
       "      <td>2.617309e-15</td>\n",
       "      <td>[-4.185067591469748e-07, 2.560218832691868e-08...</td>\n",
       "      <td>[0.9999999920276773, 0.99999998506176, 0.99999...</td>\n",
       "    </tr>\n",
       "    <tr>\n",
       "      <th>3</th>\n",
       "      <td>6.447065e-14</td>\n",
       "      <td>[1.5331072803041884e-08, -3.52849667128204e-06...</td>\n",
       "      <td>[0.9999999974291913, 0.9999999948072009, 0.999...</td>\n",
       "    </tr>\n",
       "    <tr>\n",
       "      <th>4</th>\n",
       "      <td>2.503050e-13</td>\n",
       "      <td>[-6.159698557551476e-06, 1.4403055890947163e-0...</td>\n",
       "      <td>[1.0000000499631536, 1.000000115575371, 1.0000...</td>\n",
       "    </tr>\n",
       "    <tr>\n",
       "      <th>5</th>\n",
       "      <td>3.980430e-13</td>\n",
       "      <td>[-2.586700120678826e-06, 2.2299710688733294e-0...</td>\n",
       "      <td>[0.9999999353594832, 0.9999998768625187, 0.999...</td>\n",
       "    </tr>\n",
       "    <tr>\n",
       "      <th>6</th>\n",
       "      <td>3.701429e+00</td>\n",
       "      <td>[-1.7945536412433682e-06, 4.692391674998575e-0...</td>\n",
       "      <td>[-0.7756592805014438, 0.6130934429249008, 0.38...</td>\n",
       "    </tr>\n",
       "    <tr>\n",
       "      <th>7</th>\n",
       "      <td>3.701429e+00</td>\n",
       "      <td>[2.2963624262573035e-05, -1.8957302666544606e-...</td>\n",
       "      <td>[-0.7756588662058167, 0.6130928834608361, 0.38...</td>\n",
       "    </tr>\n",
       "    <tr>\n",
       "      <th>8</th>\n",
       "      <td>3.701429e+00</td>\n",
       "      <td>[4.693715198822446e-05, 2.4732579503305985e-05...</td>\n",
       "      <td>[-0.7756581681606636, 0.6130918836410334, 0.38...</td>\n",
       "    </tr>\n",
       "    <tr>\n",
       "      <th>9</th>\n",
       "      <td>3.701429e+00</td>\n",
       "      <td>[-0.00010109007155012506, -0.00036418812595484...</td>\n",
       "      <td>[-0.775652275317849, 0.6130823138810441, 0.382...</td>\n",
       "    </tr>\n",
       "  </tbody>\n",
       "</table>\n",
       "</div>"
      ],
      "text/plain": [
       "           fval                                               grad  \\\n",
       "0  9.936039e-17  [3.619753379159444e-08, 1.4199049543464888e-07...   \n",
       "1  1.250856e-16  [2.1928494772617822e-08, 3.2151665590417297e-0...   \n",
       "2  2.617309e-15  [-4.185067591469748e-07, 2.560218832691868e-08...   \n",
       "3  6.447065e-14  [1.5331072803041884e-08, -3.52849667128204e-06...   \n",
       "4  2.503050e-13  [-6.159698557551476e-06, 1.4403055890947163e-0...   \n",
       "5  3.980430e-13  [-2.586700120678826e-06, 2.2299710688733294e-0...   \n",
       "6  3.701429e+00  [-1.7945536412433682e-06, 4.692391674998575e-0...   \n",
       "7  3.701429e+00  [2.2963624262573035e-05, -1.8957302666544606e-...   \n",
       "8  3.701429e+00  [4.693715198822446e-05, 2.4732579503305985e-05...   \n",
       "9  3.701429e+00  [-0.00010109007155012506, -0.00036418812595484...   \n",
       "\n",
       "                                                   x  \n",
       "0  [0.9999999982933874, 0.9999999964877478, 0.999...  \n",
       "1  [0.9999999989532552, 0.9999999978464554, 0.999...  \n",
       "2  [0.9999999920276773, 0.99999998506176, 0.99999...  \n",
       "3  [0.9999999974291913, 0.9999999948072009, 0.999...  \n",
       "4  [1.0000000499631536, 1.000000115575371, 1.0000...  \n",
       "5  [0.9999999353594832, 0.9999998768625187, 0.999...  \n",
       "6  [-0.7756592805014438, 0.6130934429249008, 0.38...  \n",
       "7  [-0.7756588662058167, 0.6130928834608361, 0.38...  \n",
       "8  [-0.7756581681606636, 0.6130918836410334, 0.38...  \n",
       "9  [-0.775652275317849, 0.6130823138810441, 0.382...  "
      ]
     },
     "execution_count": 5,
     "metadata": {},
     "output_type": "execute_result"
    }
   ],
   "source": [
    "result1.optimize_result.as_dataframe(['fval', 'x', 'grad'])"
   ]
  },
  {
   "cell_type": "code",
   "execution_count": 6,
   "metadata": {},
   "outputs": [
    {
     "data": {
      "text/html": [
       "<div>\n",
       "<style scoped>\n",
       "    .dataframe tbody tr th:only-of-type {\n",
       "        vertical-align: middle;\n",
       "    }\n",
       "\n",
       "    .dataframe tbody tr th {\n",
       "        vertical-align: top;\n",
       "    }\n",
       "\n",
       "    .dataframe thead th {\n",
       "        text-align: right;\n",
       "    }\n",
       "</style>\n",
       "<table border=\"1\" class=\"dataframe\">\n",
       "  <thead>\n",
       "    <tr style=\"text-align: right;\">\n",
       "      <th></th>\n",
       "      <th>fval</th>\n",
       "      <th>grad</th>\n",
       "      <th>x</th>\n",
       "    </tr>\n",
       "  </thead>\n",
       "  <tbody>\n",
       "    <tr>\n",
       "      <th>0</th>\n",
       "      <td>3.526609e-18</td>\n",
       "      <td>[7.142031766628693e-08, nan, 2.635200591127694...</td>\n",
       "      <td>[1.0000000000890528, 1.0, 1.0000000000262994, ...</td>\n",
       "    </tr>\n",
       "    <tr>\n",
       "      <th>1</th>\n",
       "      <td>1.545921e-17</td>\n",
       "      <td>[-9.12437127971989e-08, nan, -1.43452700368785...</td>\n",
       "      <td>[0.9999999998862298, 1.0, 0.9999999998568336, ...</td>\n",
       "    </tr>\n",
       "    <tr>\n",
       "      <th>2</th>\n",
       "      <td>3.217687e-13</td>\n",
       "      <td>[1.5050124354046839e-05, nan, 1.90219058740928...</td>\n",
       "      <td>[1.0000000187657405, 1.0, 1.0000000189839375, ...</td>\n",
       "    </tr>\n",
       "    <tr>\n",
       "      <th>3</th>\n",
       "      <td>3.237815e-13</td>\n",
       "      <td>[-2.0635948582739425e-05, nan, 1.0808360997585...</td>\n",
       "      <td>[0.9999999742693898, 1.0, 1.0000000107867872, ...</td>\n",
       "    </tr>\n",
       "    <tr>\n",
       "      <th>4</th>\n",
       "      <td>3.537400e-11</td>\n",
       "      <td>[-0.00023551294953802775, nan, -3.988853789101...</td>\n",
       "      <td>[0.9999997063428266, 1.0, 0.9999999601910781, ...</td>\n",
       "    </tr>\n",
       "    <tr>\n",
       "      <th>5</th>\n",
       "      <td>3.989975e+00</td>\n",
       "      <td>[7.30851854591208e-08, nan, 3.8449806417218316...</td>\n",
       "      <td>[-0.9949747467380669, 1.0, 1.0000000003837306,...</td>\n",
       "    </tr>\n",
       "    <tr>\n",
       "      <th>6</th>\n",
       "      <td>3.989975e+00</td>\n",
       "      <td>[-2.0001919174283955e-06, nan, 3.2055214357756...</td>\n",
       "      <td>[-0.9949747493625689, 1.0, 1.0000000003199123,...</td>\n",
       "    </tr>\n",
       "    <tr>\n",
       "      <th>7</th>\n",
       "      <td>3.989975e+00</td>\n",
       "      <td>[-3.604958118685886e-07, nan, -3.0491851855964...</td>\n",
       "      <td>[-0.9949747472869246, 1.0, 0.999999996956901, ...</td>\n",
       "    </tr>\n",
       "    <tr>\n",
       "      <th>8</th>\n",
       "      <td>3.989975e+00</td>\n",
       "      <td>[3.987928973714361e-07, nan, 5.188493325781615...</td>\n",
       "      <td>[-0.9949747463257628, 1.0, 1.000000005178137, ...</td>\n",
       "    </tr>\n",
       "    <tr>\n",
       "      <th>9</th>\n",
       "      <td>3.989975e+00</td>\n",
       "      <td>[5.154632407533555e-05, nan, 7.565690707756354...</td>\n",
       "      <td>[-0.9949746815795624, 1.0, 1.0000000755058884,...</td>\n",
       "    </tr>\n",
       "  </tbody>\n",
       "</table>\n",
       "</div>"
      ],
      "text/plain": [
       "           fval                                               grad  \\\n",
       "0  3.526609e-18  [7.142031766628693e-08, nan, 2.635200591127694...   \n",
       "1  1.545921e-17  [-9.12437127971989e-08, nan, -1.43452700368785...   \n",
       "2  3.217687e-13  [1.5050124354046839e-05, nan, 1.90219058740928...   \n",
       "3  3.237815e-13  [-2.0635948582739425e-05, nan, 1.0808360997585...   \n",
       "4  3.537400e-11  [-0.00023551294953802775, nan, -3.988853789101...   \n",
       "5  3.989975e+00  [7.30851854591208e-08, nan, 3.8449806417218316...   \n",
       "6  3.989975e+00  [-2.0001919174283955e-06, nan, 3.2055214357756...   \n",
       "7  3.989975e+00  [-3.604958118685886e-07, nan, -3.0491851855964...   \n",
       "8  3.989975e+00  [3.987928973714361e-07, nan, 5.188493325781615...   \n",
       "9  3.989975e+00  [5.154632407533555e-05, nan, 7.565690707756354...   \n",
       "\n",
       "                                                   x  \n",
       "0  [1.0000000000890528, 1.0, 1.0000000000262994, ...  \n",
       "1  [0.9999999998862298, 1.0, 0.9999999998568336, ...  \n",
       "2  [1.0000000187657405, 1.0, 1.0000000189839375, ...  \n",
       "3  [0.9999999742693898, 1.0, 1.0000000107867872, ...  \n",
       "4  [0.9999997063428266, 1.0, 0.9999999601910781, ...  \n",
       "5  [-0.9949747467380669, 1.0, 1.0000000003837306,...  \n",
       "6  [-0.9949747493625689, 1.0, 1.0000000003199123,...  \n",
       "7  [-0.9949747472869246, 1.0, 0.999999996956901, ...  \n",
       "8  [-0.9949747463257628, 1.0, 1.000000005178137, ...  \n",
       "9  [-0.9949746815795624, 1.0, 1.0000000755058884,...  "
      ]
     },
     "execution_count": 6,
     "metadata": {},
     "output_type": "execute_result"
    }
   ],
   "source": [
    "result2.optimize_result.as_dataframe(['fval', 'x', 'grad'])"
   ]
  }
 ],
 "metadata": {
  "kernelspec": {
   "display_name": "Python 3",
   "language": "python",
   "name": "python3"
  },
  "language_info": {
   "codemirror_mode": {
    "name": "ipython",
    "version": 3
   },
   "file_extension": ".py",
   "mimetype": "text/x-python",
   "name": "python",
   "nbconvert_exporter": "python",
   "pygments_lexer": "ipython3",
   "version": "3.6.5"
  }
 },
 "nbformat": 4,
 "nbformat_minor": 2
}
