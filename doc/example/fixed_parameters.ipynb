{
 "cells": [
  {
   "cell_type": "markdown",
   "metadata": {},
   "source": [
    "# Fixed parameters"
   ]
  },
  {
   "cell_type": "markdown",
   "metadata": {},
   "source": [
    "In this notebook we will show how to use fixed parameters. Therefore,\n",
    "we employ our Rosenbrock example. We define two problems, where for the\n",
    "first problem all parameters are optimized, and for the second we fix some\n",
    "of them to specified values."
   ]
  },
  {
   "cell_type": "markdown",
   "metadata": {},
   "source": [
    "## Define problem"
   ]
  },
  {
   "cell_type": "code",
   "execution_count": 1,
   "metadata": {},
   "outputs": [],
   "source": [
    "import pypesto\n",
    "import pypesto.visualize\n",
    "import numpy as np\n",
    "import scipy as sp\n",
    "import matplotlib.pyplot as plt\n",
    "\n",
    "%matplotlib inline"
   ]
  },
  {
   "cell_type": "code",
   "execution_count": 2,
   "metadata": {},
   "outputs": [],
   "source": [
    "objective = pypesto.Objective(fun=sp.optimize.rosen, \n",
    "                              grad=sp.optimize.rosen_der, \n",
    "                              hess=sp.optimize.rosen_hess)\n",
    "\n",
    "dim_full = 4\n",
    "lb = -2 * np.ones((dim_full,1))\n",
    "ub = 2 * np.ones((dim_full,1))\n",
    "\n",
    "problem1 = pypesto.Problem(objective=objective, lb=lb, ub=ub)\n",
    "\n",
    "x_fixed_indices = [1, 3]\n",
    "x_fixed_vals = [1, 1]\n",
    "problem2 = pypesto.Problem(objective=objective, lb=lb, ub=ub,\n",
    "                           x_fixed_indices=x_fixed_indices,\n",
    "                           x_fixed_vals=x_fixed_vals)"
   ]
  },
  {
   "cell_type": "markdown",
   "metadata": {},
   "source": [
    "## Optimize"
   ]
  },
  {
   "cell_type": "code",
   "execution_count": 3,
   "metadata": {},
   "outputs": [],
   "source": [
    "optimizer = pypesto.ScipyOptimizer()\n",
    "n_starts = 10\n",
    "\n",
    "result1 = pypesto.minimize(problem=problem1, optimizer=optimizer, \n",
    "                           n_starts=n_starts)\n",
    "result2 = pypesto.minimize(problem=problem2, optimizer=optimizer, \n",
    "                           n_starts=n_starts)"
   ]
  },
  {
   "cell_type": "markdown",
   "metadata": {},
   "source": [
    "## Visualize"
   ]
  },
  {
   "cell_type": "code",
   "execution_count": 4,
   "metadata": {},
   "outputs": [
    {
     "data": {
      "text/plain": [
       "<matplotlib.axes._subplots.AxesSubplot at 0x7f09484bce48>"
      ]
     },
     "execution_count": 4,
     "metadata": {},
     "output_type": "execute_result"
    },
    {
     "data": {
      "image/png": "[encoded data removed]",
      "text/plain": [
       "<Figure size 432x288 with 1 Axes>"
      ]
     },
     "metadata": {},
     "output_type": "display_data"
    }
   ],
   "source": [
    "fig, ax = plt.subplots()\n",
    "pypesto.visualize.waterfall(result1, ax)\n",
    "pypesto.visualize.waterfall(result2, ax)"
   ]
  },
  {
   "cell_type": "code",
   "execution_count": 5,
   "metadata": {},
   "outputs": [
    {
     "data": {
      "text/html": [
       "<div>\n",
       "<style scoped>\n",
       "    .dataframe tbody tr th:only-of-type {\n",
       "        vertical-align: middle;\n",
       "    }\n",
       "\n",
       "    .dataframe tbody tr th {\n",
       "        vertical-align: top;\n",
       "    }\n",
       "\n",
       "    .dataframe thead th {\n",
       "        text-align: right;\n",
       "    }\n",
       "</style>\n",
       "<table border=\"1\" class=\"dataframe\">\n",
       "  <thead>\n",
       "    <tr style=\"text-align: right;\">\n",
       "      <th></th>\n",
       "      <th>fval</th>\n",
       "      <th>grad</th>\n",
       "      <th>x</th>\n",
       "    </tr>\n",
       "  </thead>\n",
       "  <tbody>\n",
       "    <tr>\n",
       "      <th>0</th>\n",
       "      <td>5.356234e-15</td>\n",
       "      <td>[-1.7063752524508861e-06, 1.6609087156709249e-...</td>\n",
       "      <td>[1.00000000762136, 1.0000000195467649, 1.00000...</td>\n",
       "    </tr>\n",
       "    <tr>\n",
       "      <th>1</th>\n",
       "      <td>1.227011e-14</td>\n",
       "      <td>[-2.753622755559044e-07, 1.7333490953752973e-0...</td>\n",
       "      <td>[1.0000000073383264, 1.00000001540175, 1.00000...</td>\n",
       "    </tr>\n",
       "    <tr>\n",
       "      <th>2</th>\n",
       "      <td>2.363389e-14</td>\n",
       "      <td>[-1.2891196027680524e-06, -3.9526566755715405e...</td>\n",
       "      <td>[1.0000000155838376, 1.0000000344683935, 1.000...</td>\n",
       "    </tr>\n",
       "    <tr>\n",
       "      <th>3</th>\n",
       "      <td>3.561464e-14</td>\n",
       "      <td>[-6.726217359984972e-06, 3.9611409290435525e-0...</td>\n",
       "      <td>[0.9999999858124573, 0.9999999883695208, 0.999...</td>\n",
       "    </tr>\n",
       "    <tr>\n",
       "      <th>4</th>\n",
       "      <td>4.815424e-13</td>\n",
       "      <td>[-9.637385477364607e-06, 2.68065641968365e-05,...</td>\n",
       "      <td>[1.0000000015359294, 1.000000027173002, 0.9999...</td>\n",
       "    </tr>\n",
       "    <tr>\n",
       "      <th>5</th>\n",
       "      <td>1.569289e-12</td>\n",
       "      <td>[1.8361885964996678e-05, 3.28488111477629e-05,...</td>\n",
       "      <td>[1.0000000842831898, 1.0000001230830915, 1.000...</td>\n",
       "    </tr>\n",
       "    <tr>\n",
       "      <th>6</th>\n",
       "      <td>1.290006e-11</td>\n",
       "      <td>[-3.8742687087711544e-05, -0.00011089637893218...</td>\n",
       "      <td>[0.9999998761728294, 0.9999998485832678, 1.000...</td>\n",
       "    </tr>\n",
       "    <tr>\n",
       "      <th>7</th>\n",
       "      <td>1.427600e-11</td>\n",
       "      <td>[4.324555429976675e-05, -0.0001363489253797, 0...</td>\n",
       "      <td>[1.0000003478725716, 1.0000005893707784, 1.000...</td>\n",
       "    </tr>\n",
       "    <tr>\n",
       "      <th>8</th>\n",
       "      <td>2.601360e-11</td>\n",
       "      <td>[-6.759178567499624e-05, 0.0001252099149832489...</td>\n",
       "      <td>[0.9999997006070108, 0.9999995686966606, 0.999...</td>\n",
       "    </tr>\n",
       "    <tr>\n",
       "      <th>9</th>\n",
       "      <td>3.701429e+00</td>\n",
       "      <td>[-4.200712650170857e-06, -2.1703579815568474e-...</td>\n",
       "      <td>[-0.775659292645153, 0.613093453907536, 0.3820...</td>\n",
       "    </tr>\n",
       "  </tbody>\n",
       "</table>\n",
       "</div>"
      ],
      "text/plain": [
       "           fval                                               grad  \\\n",
       "0  5.356234e-15  [-1.7063752524508861e-06, 1.6609087156709249e-...   \n",
       "1  1.227011e-14  [-2.753622755559044e-07, 1.7333490953752973e-0...   \n",
       "2  2.363389e-14  [-1.2891196027680524e-06, -3.9526566755715405e...   \n",
       "3  3.561464e-14  [-6.726217359984972e-06, 3.9611409290435525e-0...   \n",
       "4  4.815424e-13  [-9.637385477364607e-06, 2.68065641968365e-05,...   \n",
       "5  1.569289e-12  [1.8361885964996678e-05, 3.28488111477629e-05,...   \n",
       "6  1.290006e-11  [-3.8742687087711544e-05, -0.00011089637893218...   \n",
       "7  1.427600e-11  [4.324555429976675e-05, -0.0001363489253797, 0...   \n",
       "8  2.601360e-11  [-6.759178567499624e-05, 0.0001252099149832489...   \n",
       "9  3.701429e+00  [-4.200712650170857e-06, -2.1703579815568474e-...   \n",
       "\n",
       "                                                   x  \n",
       "0  [1.00000000762136, 1.0000000195467649, 1.00000...  \n",
       "1  [1.0000000073383264, 1.00000001540175, 1.00000...  \n",
       "2  [1.0000000155838376, 1.0000000344683935, 1.000...  \n",
       "3  [0.9999999858124573, 0.9999999883695208, 0.999...  \n",
       "4  [1.0000000015359294, 1.000000027173002, 0.9999...  \n",
       "5  [1.0000000842831898, 1.0000001230830915, 1.000...  \n",
       "6  [0.9999998761728294, 0.9999998485832678, 1.000...  \n",
       "7  [1.0000003478725716, 1.0000005893707784, 1.000...  \n",
       "8  [0.9999997006070108, 0.9999995686966606, 0.999...  \n",
       "9  [-0.775659292645153, 0.613093453907536, 0.3820...  "
      ]
     },
     "execution_count": 5,
     "metadata": {},
     "output_type": "execute_result"
    }
   ],
   "source": [
    "result1.optimize_result.as_dataframe(['fval', 'x', 'grad'])"
   ]
  },
  {
   "cell_type": "code",
   "execution_count": 6,
   "metadata": {},
   "outputs": [
    {
     "data": {
      "text/html": [
       "<div>\n",
       "<style scoped>\n",
       "    .dataframe tbody tr th:only-of-type {\n",
       "        vertical-align: middle;\n",
       "    }\n",
       "\n",
       "    .dataframe tbody tr th {\n",
       "        vertical-align: top;\n",
       "    }\n",
       "\n",
       "    .dataframe thead th {\n",
       "        text-align: right;\n",
       "    }\n",
       "</style>\n",
       "<table border=\"1\" class=\"dataframe\">\n",
       "  <thead>\n",
       "    <tr style=\"text-align: right;\">\n",
       "      <th></th>\n",
       "      <th>fval</th>\n",
       "      <th>grad</th>\n",
       "      <th>x</th>\n",
       "    </tr>\n",
       "  </thead>\n",
       "  <tbody>\n",
       "    <tr>\n",
       "      <th>0</th>\n",
       "      <td>4.012151e-21</td>\n",
       "      <td>[5.451021856121373e-10, nan, -2.76931677589075...</td>\n",
       "      <td>[1.0000000000006797, 1.0, 0.9999999999972362, ...</td>\n",
       "    </tr>\n",
       "    <tr>\n",
       "      <th>1</th>\n",
       "      <td>9.658727e-18</td>\n",
       "      <td>[1.2050426747153072e-07, nan, 3.48359447964418...</td>\n",
       "      <td>[1.0000000001502547, 1.0, 1.0000000000347664, ...</td>\n",
       "    </tr>\n",
       "    <tr>\n",
       "      <th>2</th>\n",
       "      <td>6.592737e-17</td>\n",
       "      <td>[2.386879774538833e-07, nan, 2.4685832582942e-...</td>\n",
       "      <td>[1.000000000297616, 1.0, 1.0000000002463656, 1.0]</td>\n",
       "    </tr>\n",
       "    <tr>\n",
       "      <th>3</th>\n",
       "      <td>9.555401e-17</td>\n",
       "      <td>[4.552377897129224e-08, nan, 4.346274368578203...</td>\n",
       "      <td>[1.0000000000567628, 1.0, 1.00000000043376, 1.0]</td>\n",
       "    </tr>\n",
       "    <tr>\n",
       "      <th>4</th>\n",
       "      <td>2.231439e-16</td>\n",
       "      <td>[4.520695726972229e-07, nan, 4.380059276806076...</td>\n",
       "      <td>[1.0000000005636778, 1.0, 1.0000000004371317, ...</td>\n",
       "    </tr>\n",
       "    <tr>\n",
       "      <th>5</th>\n",
       "      <td>7.352578e-16</td>\n",
       "      <td>[1.0827132689442485e-06, nan, -9.4087353900869...</td>\n",
       "      <td>[1.0000000013500165, 1.0, 0.9999999999061004, ...</td>\n",
       "    </tr>\n",
       "    <tr>\n",
       "      <th>6</th>\n",
       "      <td>3.989975e+00</td>\n",
       "      <td>[4.130408806091168e-07, nan, -1.09417859410848...</td>\n",
       "      <td>[-0.9949747463077266, 1.0, 0.9999999989080054,...</td>\n",
       "    </tr>\n",
       "    <tr>\n",
       "      <th>7</th>\n",
       "      <td>3.989975e+00</td>\n",
       "      <td>[1.91632686785681e-06, nan, -9.320923546068538...</td>\n",
       "      <td>[-0.99497474440476, 1.0, 0.9999999990697681, 1.0]</td>\n",
       "    </tr>\n",
       "    <tr>\n",
       "      <th>8</th>\n",
       "      <td>3.989975e+00</td>\n",
       "      <td>[1.0322734052881088e-05, nan, 9.85502991987012...</td>\n",
       "      <td>[-0.9949747337633298, 1.0, 1.000000000983536, ...</td>\n",
       "    </tr>\n",
       "    <tr>\n",
       "      <th>9</th>\n",
       "      <td>3.989975e+00</td>\n",
       "      <td>[7.94297059192317e-06, nan, -1.987564720993031...</td>\n",
       "      <td>[-0.9949747367758043, 1.0, 0.9999999801640242,...</td>\n",
       "    </tr>\n",
       "  </tbody>\n",
       "</table>\n",
       "</div>"
      ],
      "text/plain": [
       "           fval                                               grad  \\\n",
       "0  4.012151e-21  [5.451021856121373e-10, nan, -2.76931677589075...   \n",
       "1  9.658727e-18  [1.2050426747153072e-07, nan, 3.48359447964418...   \n",
       "2  6.592737e-17  [2.386879774538833e-07, nan, 2.4685832582942e-...   \n",
       "3  9.555401e-17  [4.552377897129224e-08, nan, 4.346274368578203...   \n",
       "4  2.231439e-16  [4.520695726972229e-07, nan, 4.380059276806076...   \n",
       "5  7.352578e-16  [1.0827132689442485e-06, nan, -9.4087353900869...   \n",
       "6  3.989975e+00  [4.130408806091168e-07, nan, -1.09417859410848...   \n",
       "7  3.989975e+00  [1.91632686785681e-06, nan, -9.320923546068538...   \n",
       "8  3.989975e+00  [1.0322734052881088e-05, nan, 9.85502991987012...   \n",
       "9  3.989975e+00  [7.94297059192317e-06, nan, -1.987564720993031...   \n",
       "\n",
       "                                                   x  \n",
       "0  [1.0000000000006797, 1.0, 0.9999999999972362, ...  \n",
       "1  [1.0000000001502547, 1.0, 1.0000000000347664, ...  \n",
       "2  [1.000000000297616, 1.0, 1.0000000002463656, 1.0]  \n",
       "3   [1.0000000000567628, 1.0, 1.00000000043376, 1.0]  \n",
       "4  [1.0000000005636778, 1.0, 1.0000000004371317, ...  \n",
       "5  [1.0000000013500165, 1.0, 0.9999999999061004, ...  \n",
       "6  [-0.9949747463077266, 1.0, 0.9999999989080054,...  \n",
       "7  [-0.99497474440476, 1.0, 0.9999999990697681, 1.0]  \n",
       "8  [-0.9949747337633298, 1.0, 1.000000000983536, ...  \n",
       "9  [-0.9949747367758043, 1.0, 0.9999999801640242,...  "
      ]
     },
     "execution_count": 6,
     "metadata": {},
     "output_type": "execute_result"
    }
   ],
   "source": [
    "result2.optimize_result.as_dataframe(['fval', 'x', 'grad'])"
   ]
  }
 ],
 "metadata": {
  "kernelspec": {
   "display_name": "Python 3",
   "language": "python",
   "name": "python3"
  },
  "language_info": {
   "codemirror_mode": {
    "name": "ipython",
    "version": 3
   },
   "file_extension": ".py",
   "mimetype": "text/x-python",
   "name": "python",
   "nbconvert_exporter": "python",
   "pygments_lexer": "ipython3",
   "version": "3.6.5"
  }
 },
 "nbformat": 4,
 "nbformat_minor": 2
}
