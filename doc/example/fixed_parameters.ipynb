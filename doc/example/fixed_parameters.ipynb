{
 "cells": [
  {
   "cell_type": "markdown",
   "metadata": {},
   "source": [
    "# Fixed parameters"
   ]
  },
  {
   "cell_type": "markdown",
   "metadata": {},
   "source": [
    "In this notebook we will show how to use fixed parameters. Therefore,\n",
    "we employ our Rosenbrock example. We define two problems, where for the\n",
    "first problem all parameters are optimized, and for the second we fix some\n",
    "of them to specified values."
   ]
  },
  {
   "cell_type": "markdown",
   "metadata": {},
   "source": [
    "## Define problem"
   ]
  },
  {
   "cell_type": "code",
   "execution_count": 1,
   "metadata": {},
   "outputs": [],
   "source": [
    "import pypesto\n",
    "import pypesto.visualize\n",
    "import numpy as np\n",
    "import scipy as sp\n",
    "import matplotlib.pyplot as plt\n",
    "\n",
    "%matplotlib inline"
   ]
  },
  {
   "cell_type": "code",
   "execution_count": 2,
   "metadata": {},
   "outputs": [],
   "source": [
    "objective = pypesto.Objective(fun=sp.optimize.rosen, \n",
    "                              grad=sp.optimize.rosen_der, \n",
    "                              hess=sp.optimize.rosen_hess)\n",
    "\n",
    "dim_full = 4\n",
    "lb = -2 * np.ones((dim_full,1))\n",
    "ub = 2 * np.ones((dim_full,1))\n",
    "\n",
    "problem1 = pypesto.Problem(objective=objective, lb=lb, ub=ub)\n",
    "\n",
    "x_fixed_indices = [1, 3]\n",
    "x_fixed_vals = [1, 1]\n",
    "problem2 = pypesto.Problem(objective=objective, lb=lb, ub=ub,\n",
    "                           x_fixed_indices=x_fixed_indices,\n",
    "                           x_fixed_vals=x_fixed_vals)"
   ]
  },
  {
   "cell_type": "markdown",
   "metadata": {},
   "source": [
    "## Optimize"
   ]
  },
  {
   "cell_type": "code",
   "execution_count": 3,
   "metadata": {},
   "outputs": [],
   "source": [
    "optimizer = pypesto.ScipyOptimizer()\n",
    "n_starts = 10\n",
    "\n",
    "result1 = pypesto.minimize(problem=problem1, optimizer=optimizer, \n",
    "                           n_starts=n_starts)\n",
    "result2 = pypesto.minimize(problem=problem2, optimizer=optimizer, \n",
    "                           n_starts=n_starts)"
   ]
  },
  {
   "cell_type": "markdown",
   "metadata": {},
   "source": [
    "## Visualize"
   ]
  },
  {
   "cell_type": "code",
   "execution_count": 4,
   "metadata": {},
   "outputs": [
    {
     "data": {
      "text/plain": [
       "<matplotlib.axes._subplots.AxesSubplot at 0x7f076b235e48>"
      ]
     },
     "execution_count": 4,
     "metadata": {},
     "output_type": "execute_result"
    },
    {
     "data": {
      "image/png": "[encoded data removed]",
      "text/plain": [
       "<Figure size 432x288 with 1 Axes>"
      ]
     },
     "metadata": {},
     "output_type": "display_data"
    }
   ],
   "source": [
    "fig, ax = plt.subplots()\n",
    "pypesto.visualize.waterfall(result1, ax)\n",
    "pypesto.visualize.waterfall(result2, ax)"
   ]
  },
  {
   "cell_type": "code",
   "execution_count": 5,
   "metadata": {},
   "outputs": [
    {
     "data": {
      "text/html": [
       "<div>\n",
       "<style scoped>\n",
       "    .dataframe tbody tr th:only-of-type {\n",
       "        vertical-align: middle;\n",
       "    }\n",
       "\n",
       "    .dataframe tbody tr th {\n",
       "        vertical-align: top;\n",
       "    }\n",
       "\n",
       "    .dataframe thead th {\n",
       "        text-align: right;\n",
       "    }\n",
       "</style>\n",
       "<table border=\"1\" class=\"dataframe\">\n",
       "  <thead>\n",
       "    <tr style=\"text-align: right;\">\n",
       "      <th></th>\n",
       "      <th>fval</th>\n",
       "      <th>grad</th>\n",
       "      <th>x</th>\n",
       "    </tr>\n",
       "  </thead>\n",
       "  <tbody>\n",
       "    <tr>\n",
       "      <th>0</th>\n",
       "      <td>3.238005e-14</td>\n",
       "      <td>[1.4922486263800568e-06, 5.422372561353807e-06...</td>\n",
       "      <td>[1.0000000148339407, 1.00000002601143, 1.00000...</td>\n",
       "    </tr>\n",
       "    <tr>\n",
       "      <th>1</th>\n",
       "      <td>2.324382e-13</td>\n",
       "      <td>[1.1286031341617413e-05, 9.484161138691945e-06...</td>\n",
       "      <td>[1.0000000289636182, 1.0000000298569778, 1.000...</td>\n",
       "    </tr>\n",
       "    <tr>\n",
       "      <th>2</th>\n",
       "      <td>2.337473e-13</td>\n",
       "      <td>[1.3200678681412599e-05, -1.9106778058307334e-...</td>\n",
       "      <td>[0.9999999732065425, 0.9999999132774209, 0.999...</td>\n",
       "    </tr>\n",
       "    <tr>\n",
       "      <th>3</th>\n",
       "      <td>5.712754e-12</td>\n",
       "      <td>[-5.9240692252490704e-05, -3.750740544351813e-...</td>\n",
       "      <td>[0.999999735087819, 0.9999996169529168, 0.9999...</td>\n",
       "    </tr>\n",
       "    <tr>\n",
       "      <th>4</th>\n",
       "      <td>1.350477e-11</td>\n",
       "      <td>[6.020704908966616e-05, -0.0001526936908399500...</td>\n",
       "      <td>[1.0000002842392435, 1.0000004193821836, 1.000...</td>\n",
       "    </tr>\n",
       "    <tr>\n",
       "      <th>5</th>\n",
       "      <td>1.390260e-11</td>\n",
       "      <td>[2.8277270617336585e-05, -1.5409754038540833e-...</td>\n",
       "      <td>[1.0000004604406953, 1.0000008524906612, 1.000...</td>\n",
       "    </tr>\n",
       "    <tr>\n",
       "      <th>6</th>\n",
       "      <td>5.097283e-11</td>\n",
       "      <td>[4.576685541639203e-06, 3.880073478325974e-05,...</td>\n",
       "      <td>[0.9999991374978168, 0.9999982592421391, 0.999...</td>\n",
       "    </tr>\n",
       "    <tr>\n",
       "      <th>7</th>\n",
       "      <td>3.701429e+00</td>\n",
       "      <td>[4.433216540977725e-06, 6.038919765583017e-06,...</td>\n",
       "      <td>[-0.7756591466513596, 0.6130932564656705, 0.38...</td>\n",
       "    </tr>\n",
       "    <tr>\n",
       "      <th>8</th>\n",
       "      <td>3.701429e+00</td>\n",
       "      <td>[-2.0238836553332362e-05, -7.615992938303506e-...</td>\n",
       "      <td>[-0.7756597148281976, 0.6130940536476869, 0.38...</td>\n",
       "    </tr>\n",
       "    <tr>\n",
       "      <th>9</th>\n",
       "      <td>3.701429e+00</td>\n",
       "      <td>[1.4685334355668545e-05, 3.1430650295316553e-0...</td>\n",
       "      <td>[-0.7756600393349701, 0.6130946669274161, 0.38...</td>\n",
       "    </tr>\n",
       "  </tbody>\n",
       "</table>\n",
       "</div>"
      ],
      "text/plain": [
       "           fval                                               grad  \\\n",
       "0  3.238005e-14  [1.4922486263800568e-06, 5.422372561353807e-06...   \n",
       "1  2.324382e-13  [1.1286031341617413e-05, 9.484161138691945e-06...   \n",
       "2  2.337473e-13  [1.3200678681412599e-05, -1.9106778058307334e-...   \n",
       "3  5.712754e-12  [-5.9240692252490704e-05, -3.750740544351813e-...   \n",
       "4  1.350477e-11  [6.020704908966616e-05, -0.0001526936908399500...   \n",
       "5  1.390260e-11  [2.8277270617336585e-05, -1.5409754038540833e-...   \n",
       "6  5.097283e-11  [4.576685541639203e-06, 3.880073478325974e-05,...   \n",
       "7  3.701429e+00  [4.433216540977725e-06, 6.038919765583017e-06,...   \n",
       "8  3.701429e+00  [-2.0238836553332362e-05, -7.615992938303506e-...   \n",
       "9  3.701429e+00  [1.4685334355668545e-05, 3.1430650295316553e-0...   \n",
       "\n",
       "                                                   x  \n",
       "0  [1.0000000148339407, 1.00000002601143, 1.00000...  \n",
       "1  [1.0000000289636182, 1.0000000298569778, 1.000...  \n",
       "2  [0.9999999732065425, 0.9999999132774209, 0.999...  \n",
       "3  [0.999999735087819, 0.9999996169529168, 0.9999...  \n",
       "4  [1.0000002842392435, 1.0000004193821836, 1.000...  \n",
       "5  [1.0000004604406953, 1.0000008524906612, 1.000...  \n",
       "6  [0.9999991374978168, 0.9999982592421391, 0.999...  \n",
       "7  [-0.7756591466513596, 0.6130932564656705, 0.38...  \n",
       "8  [-0.7756597148281976, 0.6130940536476869, 0.38...  \n",
       "9  [-0.7756600393349701, 0.6130946669274161, 0.38...  "
      ]
     },
     "execution_count": 5,
     "metadata": {},
     "output_type": "execute_result"
    }
   ],
   "source": [
    "result1.optimize_result.as_dataframe(['fval', 'x', 'grad'])"
   ]
  },
  {
   "cell_type": "code",
   "execution_count": 6,
   "metadata": {},
   "outputs": [
    {
     "data": {
      "text/html": [
       "<div>\n",
       "<style scoped>\n",
       "    .dataframe tbody tr th:only-of-type {\n",
       "        vertical-align: middle;\n",
       "    }\n",
       "\n",
       "    .dataframe tbody tr th {\n",
       "        vertical-align: top;\n",
       "    }\n",
       "\n",
       "    .dataframe thead th {\n",
       "        text-align: right;\n",
       "    }\n",
       "</style>\n",
       "<table border=\"1\" class=\"dataframe\">\n",
       "  <thead>\n",
       "    <tr style=\"text-align: right;\">\n",
       "      <th></th>\n",
       "      <th>fval</th>\n",
       "      <th>grad</th>\n",
       "      <th>x</th>\n",
       "    </tr>\n",
       "  </thead>\n",
       "  <tbody>\n",
       "    <tr>\n",
       "      <th>0</th>\n",
       "      <td>1.496204e-18</td>\n",
       "      <td>[4.8779433384400114e-08, nan, -5.0580579724420...</td>\n",
       "      <td>[1.0000000000608222, 1.0, 0.999999999994952, 1.0]</td>\n",
       "    </tr>\n",
       "    <tr>\n",
       "      <th>1</th>\n",
       "      <td>2.093306e-17</td>\n",
       "      <td>[-2.166233592445976e-08, nan, -2.0338036385049...</td>\n",
       "      <td>[0.9999999999729896, 1.0, 0.9999999997970256, ...</td>\n",
       "    </tr>\n",
       "    <tr>\n",
       "      <th>2</th>\n",
       "      <td>7.294258e-17</td>\n",
       "      <td>[-3.140253376105194e-07, nan, -1.5157020037238...</td>\n",
       "      <td>[0.9999999996084472, 1.0, 0.9999999998487323, ...</td>\n",
       "    </tr>\n",
       "    <tr>\n",
       "      <th>3</th>\n",
       "      <td>1.785550e-14</td>\n",
       "      <td>[7.818784773903878e-07, nan, 5.917655307033875...</td>\n",
       "      <td>[1.0000000009749108, 1.0, 1.0000000059058436, ...</td>\n",
       "    </tr>\n",
       "    <tr>\n",
       "      <th>4</th>\n",
       "      <td>2.473004e-14</td>\n",
       "      <td>[-7.405829340729326e-07, nan, -6.9909777450618...</td>\n",
       "      <td>[0.9999999990765799, 1.0, 0.9999999930229763, ...</td>\n",
       "    </tr>\n",
       "    <tr>\n",
       "      <th>5</th>\n",
       "      <td>5.527049e-14</td>\n",
       "      <td>[8.398536199183643e-06, nan, 4.757811945140205...</td>\n",
       "      <td>[1.0000000104719902, 1.0, 1.0000000047483153, ...</td>\n",
       "    </tr>\n",
       "    <tr>\n",
       "      <th>6</th>\n",
       "      <td>3.723929e-13</td>\n",
       "      <td>[2.442789150259014e-05, nan, -8.63167359660710...</td>\n",
       "      <td>[1.0000000304587162, 1.0, 0.9999999991385555, ...</td>\n",
       "    </tr>\n",
       "    <tr>\n",
       "      <th>7</th>\n",
       "      <td>3.989975e+00</td>\n",
       "      <td>[9.185006883960511e-07, nan, -3.24063459982847...</td>\n",
       "      <td>[-0.9949747456678796, 1.0, 0.9999999996765834,...</td>\n",
       "    </tr>\n",
       "    <tr>\n",
       "      <th>8</th>\n",
       "      <td>3.989975e+00</td>\n",
       "      <td>[1.5137536397702434e-06, nan, 4.07971288884317...</td>\n",
       "      <td>[-0.9949747449143659, 1.0, 1.000000000407157, ...</td>\n",
       "    </tr>\n",
       "    <tr>\n",
       "      <th>9</th>\n",
       "      <td>3.989975e+00</td>\n",
       "      <td>[3.6806970578062703e-06, nan, 5.50418965621755...</td>\n",
       "      <td>[-0.9949747421712943, 1.0, 1.0000000054932032,...</td>\n",
       "    </tr>\n",
       "  </tbody>\n",
       "</table>\n",
       "</div>"
      ],
      "text/plain": [
       "           fval                                               grad  \\\n",
       "0  1.496204e-18  [4.8779433384400114e-08, nan, -5.0580579724420...   \n",
       "1  2.093306e-17  [-2.166233592445976e-08, nan, -2.0338036385049...   \n",
       "2  7.294258e-17  [-3.140253376105194e-07, nan, -1.5157020037238...   \n",
       "3  1.785550e-14  [7.818784773903878e-07, nan, 5.917655307033875...   \n",
       "4  2.473004e-14  [-7.405829340729326e-07, nan, -6.9909777450618...   \n",
       "5  5.527049e-14  [8.398536199183643e-06, nan, 4.757811945140205...   \n",
       "6  3.723929e-13  [2.442789150259014e-05, nan, -8.63167359660710...   \n",
       "7  3.989975e+00  [9.185006883960511e-07, nan, -3.24063459982847...   \n",
       "8  3.989975e+00  [1.5137536397702434e-06, nan, 4.07971288884317...   \n",
       "9  3.989975e+00  [3.6806970578062703e-06, nan, 5.50418965621755...   \n",
       "\n",
       "                                                   x  \n",
       "0  [1.0000000000608222, 1.0, 0.999999999994952, 1.0]  \n",
       "1  [0.9999999999729896, 1.0, 0.9999999997970256, ...  \n",
       "2  [0.9999999996084472, 1.0, 0.9999999998487323, ...  \n",
       "3  [1.0000000009749108, 1.0, 1.0000000059058436, ...  \n",
       "4  [0.9999999990765799, 1.0, 0.9999999930229763, ...  \n",
       "5  [1.0000000104719902, 1.0, 1.0000000047483153, ...  \n",
       "6  [1.0000000304587162, 1.0, 0.9999999991385555, ...  \n",
       "7  [-0.9949747456678796, 1.0, 0.9999999996765834,...  \n",
       "8  [-0.9949747449143659, 1.0, 1.000000000407157, ...  \n",
       "9  [-0.9949747421712943, 1.0, 1.0000000054932032,...  "
      ]
     },
     "execution_count": 6,
     "metadata": {},
     "output_type": "execute_result"
    }
   ],
   "source": [
    "result2.optimize_result.as_dataframe(['fval', 'x', 'grad'])"
   ]
  }
 ],
 "metadata": {
  "kernelspec": {
   "display_name": "Python 3",
   "language": "python",
   "name": "python3"
  },
  "language_info": {
   "codemirror_mode": {
    "name": "ipython",
    "version": 3
   },
   "file_extension": ".py",
   "mimetype": "text/x-python",
   "name": "python",
   "nbconvert_exporter": "python",
   "pygments_lexer": "ipython3",
   "version": "3.6.5"
  }
 },
 "nbformat": 4,
 "nbformat_minor": 2
}
