{
 "cells": [
  {
   "cell_type": "markdown",
   "metadata": {},
   "source": [
    "Conversion reaction\n",
    "==================="
   ]
  },
  {
   "cell_type": "code",
   "execution_count": 1,
   "metadata": {},
   "outputs": [],
   "source": [
    "import amici\n",
    "import amici.plotting\n",
    "import pypesto"
   ]
  },
  {
   "cell_type": "markdown",
   "metadata": {},
   "source": [
    "## Compile AMICI model"
   ]
  },
  {
   "cell_type": "code",
   "execution_count": 2,
   "metadata": {
    "scrolled": true
   },
   "outputs": [
    {
     "name": "stdout",
     "output_type": "stream",
     "text": [
      "libSBML Warning (SBML unit consistency): In situations where a mathematical expression refers to a compartment, species or parameter, it is necessary to know the units of the object to establish unit consistency. In models where the units of an object have not been declared, libSBML does not yet have the functionality to accurately verify the consistency of the units in mathematical expressions referring to that object. \n",
      " The units of the <parameter> 'R1_k2' cannot be fully checked. Unit consistency reported as either no errors or further unit errors related to this object may not be accurate.\n",
      "\n",
      "libSBML Warning (SBML unit consistency): If the attribute 'units' on a given Parameter object has not been set, then the unit of measurement associated with that parameter's value is undefined.\n",
      "Reference: L3V1 Section 4.7.3\n",
      " The <parameter> with id 'R1_k2' does not have a 'units' attribute.\n",
      "\n",
      "libSBML Warning (SBML unit consistency): In situations where a mathematical expression refers to a compartment, species or parameter, it is necessary to know the units of the object to establish unit consistency. In models where the units of an object have not been declared, libSBML does not yet have the functionality to accurately verify the consistency of the units in mathematical expressions referring to that object. \n",
      " The units of the <parameter> 'R1_k1' cannot be fully checked. Unit consistency reported as either no errors or further unit errors related to this object may not be accurate.\n",
      "\n",
      "libSBML Warning (SBML unit consistency): If the attribute 'units' on a given Parameter object has not been set, then the unit of measurement associated with that parameter's value is undefined.\n",
      "Reference: L3V1 Section 4.7.3\n",
      " The <parameter> with id 'R1_k1' does not have a 'units' attribute.\n",
      "\n",
      "libSBML Warning (SBML unit consistency): In situations where a mathematical expression contains literal numbers or parameters whose units have not been declared, it is not possible to verify accurately the consistency of the units in the expression. \n",
      " The units of the <kineticLaw> <math> expression 'compartment * (R1_k1 * A - R1_k2 * B)' cannot be fully checked. Unit consistency reported as either no errors or further unit errors related to this object may not be accurate.\n",
      "\n",
      "libSBML Warning (Modeling practice): As a principle of best modeling practice, the units of a <parameter> should be declared rather than be left undefined. Doing so improves the ability of software to check the consistency of units and helps make it easier to detect potential errors in models.\n",
      " The <parameter> with the id 'R1_k2' does not have a 'units' attribute.\n",
      "\n",
      "libSBML Warning (Modeling practice): As a principle of best modeling practice, the units of a <parameter> should be declared rather than be left undefined. Doing so improves the ability of software to check the consistency of units and helps make it easier to detect potential errors in models.\n",
      " The <parameter> with the id 'R1_k1' does not have a 'units' attribute.\n",
      "\n"
     ]
    }
   ],
   "source": [
    "import importlib\n",
    "import os\n",
    "import sys\n",
    "import numpy as np\n",
    "\n",
    "# sbml file we want to import\n",
    "sbml_file = 'model_conversion_reaction.xml'\n",
    "# name of the model that will also be the name of the python module\n",
    "model_name = 'model_conversion_reaction'\n",
    "# directory to which the generated model code is written\n",
    "model_output_dir = model_name\n",
    "\n",
    "# import sbml model, complile and generate amici module\n",
    "sbml_importer = amici.SbmlImporter(sbml_file)\n",
    "sbml_importer.sbml2amici(model_name,\n",
    "                         model_output_dir,\n",
    "                         verbose=False)\n",
    "\n"
   ]
  },
  {
   "cell_type": "markdown",
   "metadata": {},
   "source": [
    "## Load AMICI model"
   ]
  },
  {
   "cell_type": "code",
   "execution_count": 3,
   "metadata": {},
   "outputs": [
    {
     "data": {
      "image/png": "[encoded data removed]",
      "text/plain": [
       "<Figure size 432x288 with 1 Axes>"
      ]
     },
     "metadata": {},
     "output_type": "display_data"
    }
   ],
   "source": [
    "# load amici module (the usual starting point later for the analysis)\n",
    "sys.path.insert(0, os.path.abspath(model_output_dir))\n",
    "model_module = importlib.import_module(model_name)\n",
    "model = model_module.getModel()\n",
    "model.requireSensitivitiesForAllParameters()\n",
    "model.setTimepoints(amici.DoubleVector(np.linspace(0, 10, 11)))\n",
    "model.setParameterScale(amici.ParameterScaling_log10)\n",
    "model.setParameters(amici.DoubleVector([-0.3,-0.7]))\n",
    "solver = model.getSolver()\n",
    "solver.setSensitivityMethod(amici.SensitivityMethod_forward)\n",
    "solver.setSensitivityOrder(amici.SensitivityOrder_first)\n",
    "\n",
    "# how to run amici now:\n",
    "rdata = amici.runAmiciSimulation(model, solver, None)\n",
    "amici.plotting.plotStateTrajectories(rdata)\n",
    "edata = amici.ExpData(rdata['ptr'].get(), 0.2, 0.0)"
   ]
  },
  {
   "cell_type": "markdown",
   "metadata": {},
   "source": [
    "## Optimize"
   ]
  },
  {
   "cell_type": "code",
   "execution_count": 4,
   "metadata": {},
   "outputs": [],
   "source": [
    "# create objective function from amici model\n",
    "# pesto.AmiciObjective is derived from pesto.Objective, \n",
    "# the general pesto objective function class\n",
    "objective = pypesto.AmiciObjective(model, solver, [edata], 1)\n",
    "\n",
    "# create optimizer object which contains all information for doing the optimization\n",
    "optimizer = pypesto.ScipyOptimizer()\n",
    "\n",
    "#optimizer.solver = 'bfgs|meigo'\n",
    "# if select meigo -> also set default values in solver_options\n",
    "#optimizer.options = {'maxiter': 1000, 'disp': True} # = pesto.default_options_meigo()\n",
    "#optimizer.startpoints = []\n",
    "#optimizer.startpoint_method = 'lhs|uniform|something|function'\n",
    "#optimizer.n_starts = 100\n",
    "\n",
    "# see PestoOptions.m for more required options here\n",
    "# returns OptimizationResult, see parameters.MS for what to return\n",
    "# list of final optim results foreach multistart, times, hess, grad, \n",
    "# flags, meta information (which optimizer -> optimizer.get_repr())\n",
    "\n",
    "# create problem object containing all information on the problem to be solved\n",
    "problem = pypesto.Problem(objective=objective, \n",
    "                          lb=[-2,-2], ub=[2,2])\n",
    "\n",
    "# maybe lb, ub = inf\n",
    "# other constraints: kwargs, class pesto.Constraints\n",
    "# constraints on pams, states, esp. pesto.AmiciConstraints (e.g. pam1 + pam2<= const)\n",
    "# if optimizer cannot handle -> error\n",
    "# maybe also scaling / transformation of parameters encoded here\n",
    "\n",
    "# do the optimization\n",
    "result = pypesto.minimize(problem=problem, \n",
    "                          optimizer=optimizer, \n",
    "                          n_starts=10)\n",
    "# optimize is a function since it does not need an internal memory,\n",
    "# just takes input and returns output in the form of a Result object\n",
    "# 'result' parameter: e.g. some results from somewhere -> pick best start points"
   ]
  },
  {
   "cell_type": "markdown",
   "metadata": {},
   "source": [
    "## Visualize"
   ]
  },
  {
   "cell_type": "code",
   "execution_count": 5,
   "metadata": {
    "scrolled": false
   },
   "outputs": [
    {
     "data": {
      "text/plain": [
       "<matplotlib.axes._subplots.AxesSubplot at 0x7fc8392100f0>"
      ]
     },
     "execution_count": 5,
     "metadata": {},
     "output_type": "execute_result"
    },
    {
     "data": {
      "image/png": "[encoded data removed]",
      "text/plain": [
       "<Figure size 432x288 with 1 Axes>"
      ]
     },
     "metadata": {},
     "output_type": "display_data"
    },
    {
     "data": {
      "image/png": "[encoded data removed]",
      "text/plain": [
       "<Figure size 432x288 with 1 Axes>"
      ]
     },
     "metadata": {},
     "output_type": "display_data"
    }
   ],
   "source": [
    "# waterfall, parameter space, scatter plots, fits to data\n",
    "# different functions for different plotting types\n",
    "import pypesto.visualize\n",
    "\n",
    "pypesto.visualize.waterfall(result)\n",
    "pypesto.visualize.parameters(result)"
   ]
  },
  {
   "cell_type": "markdown",
   "metadata": {},
   "source": [
    "## Data storage"
   ]
  },
  {
   "cell_type": "code",
   "execution_count": 6,
   "metadata": {},
   "outputs": [],
   "source": [
    "# result = pypesto.storage.load('db_file.db')"
   ]
  },
  {
   "cell_type": "markdown",
   "metadata": {},
   "source": [
    "## Profiles"
   ]
  },
  {
   "cell_type": "code",
   "execution_count": 7,
   "metadata": {},
   "outputs": [],
   "source": [
    "# there are three main parts: optimize, profile, sample. the overall structure of profiles and sampling\n",
    "# will be similar to optimizer like above.\n",
    "# we intend to only have just one result object which can be reused everywhere, but the problem of how to \n",
    "# not have one huge class but\n",
    "# maybe simplified views on it for optimization, profiles and sampling is still to be solved\n",
    "\n",
    "# profiler = pypesto.Profiler()\n",
    "\n",
    "# result = pypesto.profile(problem, profiler, result=None)\n",
    "# possibly pass result object from optimization to get good parameter guesses"
   ]
  },
  {
   "cell_type": "markdown",
   "metadata": {},
   "source": [
    "## Sampling"
   ]
  },
  {
   "cell_type": "code",
   "execution_count": 8,
   "metadata": {},
   "outputs": [],
   "source": [
    "# sampler = pypesto.Sampler()\n",
    "\n",
    "# result = pypesto.sample(problem, sampler, result=None)"
   ]
  },
  {
   "cell_type": "code",
   "execution_count": 9,
   "metadata": {},
   "outputs": [],
   "source": [
    "# open: how to parallelize. the idea is to use methods similar to those in pyabc for working on clusters.\n",
    "# one way would be to specify an additional 'engine' object passed to optimize(), profile(), sample(),\n",
    "# which in the default setting just does a for loop, but can also be customized."
   ]
  }
 ],
 "metadata": {
  "kernelspec": {
   "display_name": "Python 3",
   "language": "python",
   "name": "python3"
  },
  "language_info": {
   "codemirror_mode": {
    "name": "ipython",
    "version": 3
   },
   "file_extension": ".py",
   "mimetype": "text/x-python",
   "name": "python",
   "nbconvert_exporter": "python",
   "pygments_lexer": "ipython3",
   "version": "3.6.5"
  }
 },
 "nbformat": 4,
 "nbformat_minor": 2
}
