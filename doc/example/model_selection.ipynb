{
 "cells": [
  {
   "cell_type": "markdown",
   "metadata": {},
   "source": [
    "# Model selection - Example"
   ]
  },
  {
   "cell_type": "markdown",
   "metadata": {},
   "source": [
    "## Example model\n",
    "With the true model measurement data are simulated. In the comprehensive model an unneccessary model outflow is added. So, in model selection the true model should be preferred. "
   ]
  },
  {
   "cell_type": "markdown",
   "metadata": {},
   "source": [
    "![](model_selection_network.jpeg)\n"
   ]
  },
  {
   "cell_type": "markdown",
   "metadata": {},
   "source": [
    "The model selection specification could look like this:\n",
    "\n",
    "| modelId | SBML                             | \\\\(\\theta\\\\)1 | \\\\(\\theta\\\\)2 | \\\\(\\theta\\\\)3 |\n",
    "|:---------|:----------------------------------|:----|:----|:----|\n",
    "| M1      | model_modelSelection_example.xml | -  | -  | -  |\n",
    "| M2      | model_modelSelection_example.xml | 0  | -  | -  |\n",
    "| M3      | model_modelSelection_example.xml | -  | -  | 0  |\n",
    "| M4      | model_modelSelection_example.xml | -  | 0  | -  |\n",
    "| M5      | model_modelSelection_example.xml | 0  | 0  | -  |\n",
    "| M6      | model_modelSelection_example.xml | -  | 0  | 0  |\n",
    "| M7      | model_modelSelection_example.xml | 0  | -  | 0  |"
   ]
  },
  {
   "cell_type": "markdown",
   "metadata": {},
   "source": [
    "Here, we show a typical workflow for the model selection. First, a [PEtab](https://github.com/petab-dev/petab) problem is created."
   ]
  },
  {
   "cell_type": "code",
   "execution_count": 1,
   "metadata": {
    "scrolled": false
   },
   "outputs": [],
   "source": [
    "import pypesto\n",
    "import petab\n",
    "\n",
    "# import to petab\n",
    "petab_problem = petab.Problem.from_yaml('./model_selection/example_modelSelection.yaml')\n",
    "# import to pypesto\n",
    "importer = pypesto.PetabImporter(petab_problem)\n",
    "# create problem\n",
    "problem = importer.create_problem()\n",
    "# import to pypesto\n",
    "importer = pypesto.PetabImporter(petab_problem)\n",
    "# create problem\n",
    "problem = importer.create_problem()"
   ]
  },
  {
   "cell_type": "code",
   "execution_count": 2,
   "metadata": {},
   "outputs": [
    {
     "name": "stdout",
     "output_type": "stream",
     "text": [
      "<pypesto.problem.Problem object at 0x7fd150ec75c0>\n"
     ]
    }
   ],
   "source": [
    "print(problem)"
   ]
  },
  {
   "cell_type": "code",
   "execution_count": null,
   "metadata": {},
   "outputs": [],
   "source": []
  },
  {
   "cell_type": "code",
   "execution_count": null,
   "metadata": {},
   "outputs": [],
   "source": []
  },
  {
   "cell_type": "code",
   "execution_count": null,
   "metadata": {},
   "outputs": [],
   "source": []
  },
  {
   "cell_type": "code",
   "execution_count": null,
   "metadata": {},
   "outputs": [],
   "source": []
  }
 ],
 "metadata": {
  "kernelspec": {
   "display_name": "Python 3",
   "language": "python",
   "name": "python3"
  },
  "language_info": {
   "codemirror_mode": {
    "name": "ipython",
    "version": 3
   },
   "file_extension": ".py",
   "mimetype": "text/x-python",
   "name": "python",
   "nbconvert_exporter": "python",
   "pygments_lexer": "ipython3",
   "version": "3.6.9"
  }
 },
 "nbformat": 4,
 "nbformat_minor": 2
}
