{
 "cells": [
  {
   "cell_type": "markdown",
   "metadata": {},
   "source": [
    "# Parameter estimation for qualitative data using the optimal scaling approach"
   ]
  },
  {
   "cell_type": "markdown",
   "metadata": {},
   "source": [
    "This notebook explains, how to run parameter estimation with qualitative data as described in Schmiester et al. (2019), BioRxiv (https://www.biorxiv.org/content/10.1101/848648v1)"
   ]
  },
  {
   "cell_type": "code",
   "execution_count": null,
   "metadata": {},
   "outputs": [],
   "source": [
    "import petab # works with petab v0.0.0a13\n",
    "import pypesto\n",
    "import amici\n",
    "\n",
    "import numpy as np"
   ]
  },
  {
   "cell_type": "markdown",
   "metadata": {},
   "source": [
    "## Load model"
   ]
  },
  {
   "cell_type": "code",
   "execution_count": null,
   "metadata": {},
   "outputs": [],
   "source": [
    "folder_base = \"./\"\n",
    "model_name = \"Boehm_JProteomeRes2014OptimalScaling\"\n",
    "\n",
    "petab_problem = petab.Problem.from_folder(folder_base + model_name)"
   ]
  },
  {
   "cell_type": "markdown",
   "metadata": {},
   "source": [
    "## Import model to AMICI"
   ]
  },
  {
   "cell_type": "code",
   "execution_count": null,
   "metadata": {},
   "outputs": [],
   "source": [
    "importer = pypesto.PetabImporter(petab_problem)\n",
    "\n",
    "model = importer.create_model()"
   ]
  },
  {
   "cell_type": "markdown",
   "metadata": {},
   "source": [
    "## Create pyPESTO objective function"
   ]
  },
  {
   "cell_type": "code",
   "execution_count": null,
   "metadata": {},
   "outputs": [],
   "source": [
    "hierarchicalProblem = pypesto.HierarchicalProblem.from_parameter_df(petab_problem.parameter_df)\n",
    "\n",
    "# method can be set to 'reduced' or 'standard'. To use reparameterization, set 'reparameterized' = True.\n",
    "# 'multistart' indicates, if a single local optimization or a multi-start optimization is run for the inner problem. Default is false, as problem is convex.\n",
    "# 'weightsWithSurrogate' defines, if the weights used for the weighted least-squares function are dependend on the surrogate data.\n",
    "# 'intervalConstraints' defines the minimal gaps and interval size. 'max' or 'max-min'\n",
    "# 'timeInnerProblem' is used for analysis. if True, the inner problem is repeated several times and the mean computation time is returned.\n",
    "\n",
    "hierarchicalProblem.optimalScalingOptions = {'method': 'reduced', 'multistart': False,\n",
    "                                             'weightsWithSurrogate': False,\n",
    "                                             'intervalConstraints': 'max',\n",
    "                                             'reparameterized': True, 'timeInnerProblem': False,\n",
    "                                             'modelName': model_name}\n",
    "\n",
    "obj = importer.create_objective(hierarchical_problem=hierarchicalProblem)\n",
    "# As gradient computation is not yet implemented, we set grad and hess to false:\n",
    "obj.grad = False\n",
    "obj.hess = False"
   ]
  },
  {
   "cell_type": "markdown",
   "metadata": {},
   "source": [
    "## Run pyPESTO optimization"
   ]
  },
  {
   "cell_type": "code",
   "execution_count": null,
   "metadata": {},
   "outputs": [],
   "source": [
    "optimizer = pypesto.ScipyOptimizer(method='Powell',\n",
    "                                   options={'disp': True, 'maxiter': 500, 'maxfev': 500, 'ftol': 1e-10}})\n",
    "\n",
    "problem = importer.create_problem(obj)\n",
    "engine = pypesto.SingleCoreEngine()\n",
    "\n",
    "results = pypesto.minimize(problem=problem, optimizer=optimizer,\n",
    "                           n_starts=100, engine=engine)"
   ]
  }
 ],
 "metadata": {
  "kernelspec": {
   "display_name": "Python 3",
   "language": "python",
   "name": "python3"
  },
  "language_info": {
   "codemirror_mode": {
    "name": "ipython",
    "version": 3
   },
   "file_extension": ".py",
   "mimetype": "text/x-python",
   "name": "python",
   "nbconvert_exporter": "python",
   "pygments_lexer": "ipython3",
   "version": "3.6.5"
  }
 },
 "nbformat": 4,
 "nbformat_minor": 2
}
